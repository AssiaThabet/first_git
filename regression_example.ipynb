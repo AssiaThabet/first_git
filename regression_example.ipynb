{
  "cells": [
    {
      "cell_type": "markdown",
      "metadata": {
        "id": "view-in-github",
        "colab_type": "text"
      },
      "source": [
        "<a href=\"https://colab.research.google.com/github/AssiaThabet/first_git/blob/main/regression_example.ipynb\" target=\"_parent\"><img src=\"https://colab.research.google.com/assets/colab-badge.svg\" alt=\"Open In Colab\"/></a>"
      ]
    },
    {
      "cell_type": "code",
      "execution_count": 1,
      "metadata": {
        "id": "90ausyAThKWU"
      },
      "outputs": [],
      "source": [
        "from keras.datasets import boston_housing\n",
        "from keras.models import Sequential\n",
        "from keras.layers import Dense"
      ]
    },
    {
      "cell_type": "markdown",
      "metadata": {
        "id": "Fm4lcQrOhKWY"
      },
      "source": [
        "# Загрузка набора данных"
      ]
    },
    {
      "cell_type": "code",
      "execution_count": 2,
      "metadata": {
        "colab": {
          "base_uri": "https://localhost:8080/"
        },
        "id": "HpFpQn8shKWa",
        "outputId": "911f1353-87a7-4761-efc2-ccdd32ec3f1c"
      },
      "outputs": [
        {
          "output_type": "stream",
          "name": "stdout",
          "text": [
            "Downloading data from https://storage.googleapis.com/tensorflow/tf-keras-datasets/boston_housing.npz\n",
            "57344/57026 [==============================] - 0s 0us/step\n",
            "65536/57026 [==================================] - 0s 0us/step\n"
          ]
        }
      ],
      "source": [
        "(x_train, y_train), (x_test, y_test) = boston_housing.load_data()"
      ]
    },
    {
      "cell_type": "markdown",
      "metadata": {
        "id": "XCVTptPmhKWb"
      },
      "source": [
        "# Нормализация данных\n",
        "\n",
        "Вычитаем среднее значение и делим на стандартное отклонение"
      ]
    },
    {
      "cell_type": "code",
      "execution_count": 3,
      "metadata": {
        "collapsed": true,
        "id": "7ThTnV5QhKWb"
      },
      "outputs": [],
      "source": [
        "# Среднее значение\n",
        "mean = x_train.mean(axis=0)\n",
        "# Стандартное отклонение\n",
        "std = x_train.std(axis=0)\n",
        "x_train -= mean\n",
        "x_train /= std\n",
        "x_test -= mean\n",
        "x_test /= std"
      ]
    },
    {
      "cell_type": "markdown",
      "metadata": {
        "id": "EMrFEU3VhKWc"
      },
      "source": [
        "# Создаем сеть\n",
        "\n",
        "Выходной слой с одним линейным нейроном - для задачи регрессии функция активации не используется.\n",
        "\n",
        "Функция ошибки - среднеквадратичное отклонение.\n",
        "Метрика - среднее абсолютное отклонение."
      ]
    },
    {
      "cell_type": "code",
      "execution_count": 4,
      "metadata": {
        "collapsed": true,
        "id": "lDYTwVuFhKWd"
      },
      "outputs": [],
      "source": [
        "model = Sequential()\n",
        "model.add(Dense(128, activation='relu', input_shape=(x_train.shape[1],)))\n",
        "model.add(Dense(1))\n",
        "model.compile(optimizer='adam', loss='mse', metrics=['mae'])"
      ]
    },
    {
      "cell_type": "markdown",
      "metadata": {
        "id": "s9wmNN-LhKWd"
      },
      "source": [
        "# Обучение сети"
      ]
    },
    {
      "cell_type": "code",
      "execution_count": 12,
      "metadata": {
        "colab": {
          "base_uri": "https://localhost:8080/"
        },
        "id": "Yt9oCOQHhKWe",
        "outputId": "aa8249b6-1efe-4357-ef2d-38d111f0892d"
      },
      "outputs": [
        {
          "output_type": "stream",
          "name": "stdout",
          "text": [
            "Epoch 1/100\n",
            "323/323 - 1s - loss: 4.6016 - mae: 1.4769 - val_loss: 3.0035 - val_mae: 1.3993 - 906ms/epoch - 3ms/step\n",
            "Epoch 2/100\n",
            "323/323 - 1s - loss: 4.4087 - mae: 1.4666 - val_loss: 3.2597 - val_mae: 1.4252 - 568ms/epoch - 2ms/step\n",
            "Epoch 3/100\n",
            "323/323 - 1s - loss: 4.1657 - mae: 1.3958 - val_loss: 3.0480 - val_mae: 1.3357 - 571ms/epoch - 2ms/step\n",
            "Epoch 4/100\n",
            "323/323 - 1s - loss: 4.0287 - mae: 1.3950 - val_loss: 3.9654 - val_mae: 1.5678 - 542ms/epoch - 2ms/step\n",
            "Epoch 5/100\n",
            "323/323 - 1s - loss: 4.1783 - mae: 1.4283 - val_loss: 3.4157 - val_mae: 1.4576 - 567ms/epoch - 2ms/step\n",
            "Epoch 6/100\n",
            "323/323 - 1s - loss: 4.1322 - mae: 1.4058 - val_loss: 3.2799 - val_mae: 1.4385 - 544ms/epoch - 2ms/step\n",
            "Epoch 7/100\n",
            "323/323 - 1s - loss: 4.0869 - mae: 1.3926 - val_loss: 3.7638 - val_mae: 1.4975 - 588ms/epoch - 2ms/step\n",
            "Epoch 8/100\n",
            "323/323 - 1s - loss: 4.0597 - mae: 1.4260 - val_loss: 3.9298 - val_mae: 1.5968 - 600ms/epoch - 2ms/step\n",
            "Epoch 9/100\n",
            "323/323 - 1s - loss: 4.2080 - mae: 1.4112 - val_loss: 4.0157 - val_mae: 1.5329 - 555ms/epoch - 2ms/step\n",
            "Epoch 10/100\n",
            "323/323 - 1s - loss: 3.9819 - mae: 1.3410 - val_loss: 4.5382 - val_mae: 1.5473 - 603ms/epoch - 2ms/step\n",
            "Epoch 11/100\n",
            "323/323 - 1s - loss: 3.9942 - mae: 1.3891 - val_loss: 4.1247 - val_mae: 1.5096 - 585ms/epoch - 2ms/step\n",
            "Epoch 12/100\n",
            "323/323 - 1s - loss: 4.0061 - mae: 1.3945 - val_loss: 3.9221 - val_mae: 1.5110 - 582ms/epoch - 2ms/step\n",
            "Epoch 13/100\n",
            "323/323 - 1s - loss: 4.0149 - mae: 1.3953 - val_loss: 4.2923 - val_mae: 1.5525 - 561ms/epoch - 2ms/step\n",
            "Epoch 14/100\n",
            "323/323 - 1s - loss: 4.2313 - mae: 1.4222 - val_loss: 4.7810 - val_mae: 1.7105 - 553ms/epoch - 2ms/step\n",
            "Epoch 15/100\n",
            "323/323 - 1s - loss: 4.0403 - mae: 1.4271 - val_loss: 4.0848 - val_mae: 1.5232 - 543ms/epoch - 2ms/step\n",
            "Epoch 16/100\n",
            "323/323 - 1s - loss: 3.8443 - mae: 1.3696 - val_loss: 4.2474 - val_mae: 1.5315 - 537ms/epoch - 2ms/step\n",
            "Epoch 17/100\n",
            "323/323 - 1s - loss: 3.7850 - mae: 1.3587 - val_loss: 3.5387 - val_mae: 1.4412 - 541ms/epoch - 2ms/step\n",
            "Epoch 18/100\n",
            "323/323 - 1s - loss: 3.7260 - mae: 1.3240 - val_loss: 3.8107 - val_mae: 1.4807 - 589ms/epoch - 2ms/step\n",
            "Epoch 19/100\n",
            "323/323 - 1s - loss: 3.9071 - mae: 1.3906 - val_loss: 4.0692 - val_mae: 1.5568 - 597ms/epoch - 2ms/step\n",
            "Epoch 20/100\n",
            "323/323 - 1s - loss: 3.8119 - mae: 1.3286 - val_loss: 4.3376 - val_mae: 1.5488 - 567ms/epoch - 2ms/step\n",
            "Epoch 21/100\n",
            "323/323 - 1s - loss: 3.7371 - mae: 1.3425 - val_loss: 4.3504 - val_mae: 1.5751 - 552ms/epoch - 2ms/step\n",
            "Epoch 22/100\n",
            "323/323 - 1s - loss: 3.7775 - mae: 1.3897 - val_loss: 3.9696 - val_mae: 1.5750 - 598ms/epoch - 2ms/step\n",
            "Epoch 23/100\n",
            "323/323 - 1s - loss: 3.6651 - mae: 1.3290 - val_loss: 4.2101 - val_mae: 1.5825 - 569ms/epoch - 2ms/step\n",
            "Epoch 24/100\n",
            "323/323 - 1s - loss: 3.6777 - mae: 1.3314 - val_loss: 3.9507 - val_mae: 1.5210 - 568ms/epoch - 2ms/step\n",
            "Epoch 25/100\n",
            "323/323 - 1s - loss: 3.7310 - mae: 1.3333 - val_loss: 4.8591 - val_mae: 1.6267 - 583ms/epoch - 2ms/step\n",
            "Epoch 26/100\n",
            "323/323 - 1s - loss: 3.7235 - mae: 1.3484 - val_loss: 4.1816 - val_mae: 1.5383 - 584ms/epoch - 2ms/step\n",
            "Epoch 27/100\n",
            "323/323 - 1s - loss: 3.6975 - mae: 1.3514 - val_loss: 4.3942 - val_mae: 1.5932 - 588ms/epoch - 2ms/step\n",
            "Epoch 28/100\n",
            "323/323 - 1s - loss: 3.7090 - mae: 1.3487 - val_loss: 4.2014 - val_mae: 1.5453 - 580ms/epoch - 2ms/step\n",
            "Epoch 29/100\n",
            "323/323 - 1s - loss: 3.6872 - mae: 1.3374 - val_loss: 4.0316 - val_mae: 1.5278 - 544ms/epoch - 2ms/step\n",
            "Epoch 30/100\n",
            "323/323 - 1s - loss: 3.5918 - mae: 1.3293 - val_loss: 4.6779 - val_mae: 1.6952 - 552ms/epoch - 2ms/step\n",
            "Epoch 31/100\n",
            "323/323 - 1s - loss: 3.6197 - mae: 1.3057 - val_loss: 4.1174 - val_mae: 1.5582 - 580ms/epoch - 2ms/step\n",
            "Epoch 32/100\n",
            "323/323 - 1s - loss: 3.6224 - mae: 1.3476 - val_loss: 4.6367 - val_mae: 1.6493 - 539ms/epoch - 2ms/step\n",
            "Epoch 33/100\n",
            "323/323 - 1s - loss: 3.5052 - mae: 1.3105 - val_loss: 5.5461 - val_mae: 1.8792 - 569ms/epoch - 2ms/step\n",
            "Epoch 34/100\n",
            "323/323 - 1s - loss: 3.3972 - mae: 1.3785 - val_loss: 5.9473 - val_mae: 1.8786 - 563ms/epoch - 2ms/step\n",
            "Epoch 35/100\n",
            "323/323 - 1s - loss: 3.8042 - mae: 1.3751 - val_loss: 6.4856 - val_mae: 1.7863 - 538ms/epoch - 2ms/step\n",
            "Epoch 36/100\n",
            "323/323 - 1s - loss: 3.4509 - mae: 1.3034 - val_loss: 4.3507 - val_mae: 1.6306 - 555ms/epoch - 2ms/step\n",
            "Epoch 37/100\n",
            "323/323 - 1s - loss: 3.4459 - mae: 1.2878 - val_loss: 4.4977 - val_mae: 1.5939 - 568ms/epoch - 2ms/step\n",
            "Epoch 38/100\n",
            "323/323 - 1s - loss: 3.4837 - mae: 1.3109 - val_loss: 4.2796 - val_mae: 1.5528 - 560ms/epoch - 2ms/step\n",
            "Epoch 39/100\n",
            "323/323 - 1s - loss: 3.4753 - mae: 1.3079 - val_loss: 4.0985 - val_mae: 1.5460 - 575ms/epoch - 2ms/step\n",
            "Epoch 40/100\n",
            "323/323 - 1s - loss: 3.3118 - mae: 1.2570 - val_loss: 4.3568 - val_mae: 1.6088 - 559ms/epoch - 2ms/step\n",
            "Epoch 41/100\n",
            "323/323 - 1s - loss: 3.4205 - mae: 1.3271 - val_loss: 4.0458 - val_mae: 1.5265 - 567ms/epoch - 2ms/step\n",
            "Epoch 42/100\n",
            "323/323 - 1s - loss: 3.2630 - mae: 1.2421 - val_loss: 4.6530 - val_mae: 1.6337 - 571ms/epoch - 2ms/step\n",
            "Epoch 43/100\n",
            "323/323 - 1s - loss: 3.3094 - mae: 1.2551 - val_loss: 4.5889 - val_mae: 1.5903 - 540ms/epoch - 2ms/step\n",
            "Epoch 44/100\n",
            "323/323 - 1s - loss: 3.2229 - mae: 1.2513 - val_loss: 4.2073 - val_mae: 1.5540 - 578ms/epoch - 2ms/step\n",
            "Epoch 45/100\n",
            "323/323 - 1s - loss: 3.2673 - mae: 1.2635 - val_loss: 4.1902 - val_mae: 1.5435 - 589ms/epoch - 2ms/step\n",
            "Epoch 46/100\n",
            "323/323 - 1s - loss: 3.4847 - mae: 1.2970 - val_loss: 4.5222 - val_mae: 1.6310 - 551ms/epoch - 2ms/step\n",
            "Epoch 47/100\n",
            "323/323 - 1s - loss: 3.3115 - mae: 1.2947 - val_loss: 4.5560 - val_mae: 1.6293 - 543ms/epoch - 2ms/step\n",
            "Epoch 48/100\n",
            "323/323 - 1s - loss: 3.1139 - mae: 1.2298 - val_loss: 4.9547 - val_mae: 1.7779 - 577ms/epoch - 2ms/step\n",
            "Epoch 49/100\n",
            "323/323 - 1s - loss: 3.1661 - mae: 1.2594 - val_loss: 4.7245 - val_mae: 1.6488 - 594ms/epoch - 2ms/step\n",
            "Epoch 50/100\n",
            "323/323 - 1s - loss: 3.4194 - mae: 1.3200 - val_loss: 4.2312 - val_mae: 1.5674 - 593ms/epoch - 2ms/step\n",
            "Epoch 51/100\n",
            "323/323 - 1s - loss: 3.3621 - mae: 1.2798 - val_loss: 4.5905 - val_mae: 1.6369 - 602ms/epoch - 2ms/step\n",
            "Epoch 52/100\n",
            "323/323 - 1s - loss: 3.1885 - mae: 1.2730 - val_loss: 4.6889 - val_mae: 1.6670 - 547ms/epoch - 2ms/step\n",
            "Epoch 53/100\n",
            "323/323 - 1s - loss: 3.2216 - mae: 1.2497 - val_loss: 4.4708 - val_mae: 1.6636 - 586ms/epoch - 2ms/step\n",
            "Epoch 54/100\n",
            "323/323 - 1s - loss: 3.0745 - mae: 1.2441 - val_loss: 4.2504 - val_mae: 1.5863 - 584ms/epoch - 2ms/step\n",
            "Epoch 55/100\n",
            "323/323 - 1s - loss: 3.0343 - mae: 1.2175 - val_loss: 4.5043 - val_mae: 1.6480 - 542ms/epoch - 2ms/step\n",
            "Epoch 56/100\n",
            "323/323 - 1s - loss: 3.1803 - mae: 1.2299 - val_loss: 4.8986 - val_mae: 1.6939 - 552ms/epoch - 2ms/step\n",
            "Epoch 57/100\n",
            "323/323 - 1s - loss: 3.2863 - mae: 1.2627 - val_loss: 4.5075 - val_mae: 1.6491 - 575ms/epoch - 2ms/step\n",
            "Epoch 58/100\n",
            "323/323 - 1s - loss: 3.0581 - mae: 1.2125 - val_loss: 4.6674 - val_mae: 1.6863 - 585ms/epoch - 2ms/step\n",
            "Epoch 59/100\n",
            "323/323 - 1s - loss: 2.9614 - mae: 1.1951 - val_loss: 4.3566 - val_mae: 1.6034 - 587ms/epoch - 2ms/step\n",
            "Epoch 60/100\n",
            "323/323 - 1s - loss: 3.2825 - mae: 1.2809 - val_loss: 4.0949 - val_mae: 1.5644 - 569ms/epoch - 2ms/step\n",
            "Epoch 61/100\n",
            "323/323 - 1s - loss: 3.1340 - mae: 1.2173 - val_loss: 4.8943 - val_mae: 1.7144 - 562ms/epoch - 2ms/step\n",
            "Epoch 62/100\n",
            "323/323 - 1s - loss: 3.0191 - mae: 1.2114 - val_loss: 5.0877 - val_mae: 1.7534 - 561ms/epoch - 2ms/step\n",
            "Epoch 63/100\n",
            "323/323 - 1s - loss: 2.9934 - mae: 1.2395 - val_loss: 4.3313 - val_mae: 1.5947 - 553ms/epoch - 2ms/step\n",
            "Epoch 64/100\n",
            "323/323 - 1s - loss: 3.0893 - mae: 1.2113 - val_loss: 5.3336 - val_mae: 1.8220 - 574ms/epoch - 2ms/step\n",
            "Epoch 65/100\n",
            "323/323 - 1s - loss: 3.0631 - mae: 1.2099 - val_loss: 4.4016 - val_mae: 1.6275 - 538ms/epoch - 2ms/step\n",
            "Epoch 66/100\n",
            "323/323 - 1s - loss: 3.0758 - mae: 1.2384 - val_loss: 4.1612 - val_mae: 1.5698 - 541ms/epoch - 2ms/step\n",
            "Epoch 67/100\n",
            "323/323 - 1s - loss: 2.9737 - mae: 1.2385 - val_loss: 4.5659 - val_mae: 1.6504 - 585ms/epoch - 2ms/step\n",
            "Epoch 68/100\n",
            "323/323 - 1s - loss: 2.9384 - mae: 1.2085 - val_loss: 4.8829 - val_mae: 1.7539 - 568ms/epoch - 2ms/step\n",
            "Epoch 69/100\n",
            "323/323 - 1s - loss: 3.0736 - mae: 1.2696 - val_loss: 4.8600 - val_mae: 1.6782 - 584ms/epoch - 2ms/step\n",
            "Epoch 70/100\n",
            "323/323 - 1s - loss: 2.8067 - mae: 1.1742 - val_loss: 4.4786 - val_mae: 1.6362 - 563ms/epoch - 2ms/step\n",
            "Epoch 71/100\n",
            "323/323 - 1s - loss: 2.9688 - mae: 1.2046 - val_loss: 4.6861 - val_mae: 1.6555 - 540ms/epoch - 2ms/step\n",
            "Epoch 72/100\n",
            "323/323 - 1s - loss: 2.8909 - mae: 1.2280 - val_loss: 4.5349 - val_mae: 1.6340 - 563ms/epoch - 2ms/step\n",
            "Epoch 73/100\n",
            "323/323 - 1s - loss: 2.9378 - mae: 1.2383 - val_loss: 4.3705 - val_mae: 1.6362 - 555ms/epoch - 2ms/step\n",
            "Epoch 74/100\n",
            "323/323 - 1s - loss: 2.9012 - mae: 1.1819 - val_loss: 4.7483 - val_mae: 1.7363 - 592ms/epoch - 2ms/step\n",
            "Epoch 75/100\n",
            "323/323 - 1s - loss: 2.8923 - mae: 1.2331 - val_loss: 4.4909 - val_mae: 1.6759 - 574ms/epoch - 2ms/step\n",
            "Epoch 76/100\n",
            "323/323 - 1s - loss: 2.9900 - mae: 1.2433 - val_loss: 5.9643 - val_mae: 1.9225 - 564ms/epoch - 2ms/step\n",
            "Epoch 77/100\n",
            "323/323 - 1s - loss: 2.8648 - mae: 1.2128 - val_loss: 5.5226 - val_mae: 1.8845 - 565ms/epoch - 2ms/step\n",
            "Epoch 78/100\n",
            "323/323 - 1s - loss: 2.7181 - mae: 1.1957 - val_loss: 4.2871 - val_mae: 1.6015 - 582ms/epoch - 2ms/step\n",
            "Epoch 79/100\n",
            "323/323 - 1s - loss: 2.8801 - mae: 1.1882 - val_loss: 5.3643 - val_mae: 1.8380 - 587ms/epoch - 2ms/step\n",
            "Epoch 80/100\n",
            "323/323 - 1s - loss: 2.6980 - mae: 1.1532 - val_loss: 4.7900 - val_mae: 1.6907 - 527ms/epoch - 2ms/step\n",
            "Epoch 81/100\n",
            "323/323 - 1s - loss: 2.8741 - mae: 1.2469 - val_loss: 4.2000 - val_mae: 1.5958 - 566ms/epoch - 2ms/step\n",
            "Epoch 82/100\n",
            "323/323 - 1s - loss: 2.8591 - mae: 1.1978 - val_loss: 4.4084 - val_mae: 1.6393 - 557ms/epoch - 2ms/step\n",
            "Epoch 83/100\n",
            "323/323 - 1s - loss: 2.8132 - mae: 1.2052 - val_loss: 4.7975 - val_mae: 1.6649 - 594ms/epoch - 2ms/step\n",
            "Epoch 84/100\n",
            "323/323 - 1s - loss: 2.7413 - mae: 1.1981 - val_loss: 4.9766 - val_mae: 1.7704 - 594ms/epoch - 2ms/step\n",
            "Epoch 85/100\n",
            "323/323 - 1s - loss: 2.8774 - mae: 1.2291 - val_loss: 5.0781 - val_mae: 1.7629 - 571ms/epoch - 2ms/step\n",
            "Epoch 86/100\n",
            "323/323 - 1s - loss: 2.6117 - mae: 1.1383 - val_loss: 5.7180 - val_mae: 1.9222 - 573ms/epoch - 2ms/step\n",
            "Epoch 87/100\n",
            "323/323 - 1s - loss: 2.6641 - mae: 1.1627 - val_loss: 5.0404 - val_mae: 1.7296 - 590ms/epoch - 2ms/step\n",
            "Epoch 88/100\n",
            "323/323 - 1s - loss: 2.8078 - mae: 1.1707 - val_loss: 5.4306 - val_mae: 1.6999 - 592ms/epoch - 2ms/step\n",
            "Epoch 89/100\n",
            "323/323 - 1s - loss: 2.8272 - mae: 1.1990 - val_loss: 4.6784 - val_mae: 1.6907 - 519ms/epoch - 2ms/step\n",
            "Epoch 90/100\n",
            "323/323 - 1s - loss: 2.8885 - mae: 1.2533 - val_loss: 4.6109 - val_mae: 1.6814 - 575ms/epoch - 2ms/step\n",
            "Epoch 91/100\n",
            "323/323 - 1s - loss: 2.6651 - mae: 1.1341 - val_loss: 5.2289 - val_mae: 1.8024 - 561ms/epoch - 2ms/step\n",
            "Epoch 92/100\n",
            "323/323 - 1s - loss: 2.8902 - mae: 1.2077 - val_loss: 4.9262 - val_mae: 1.7570 - 583ms/epoch - 2ms/step\n",
            "Epoch 93/100\n",
            "323/323 - 1s - loss: 2.7157 - mae: 1.1454 - val_loss: 4.7862 - val_mae: 1.6883 - 560ms/epoch - 2ms/step\n",
            "Epoch 94/100\n",
            "323/323 - 1s - loss: 2.5978 - mae: 1.1482 - val_loss: 7.4742 - val_mae: 2.2792 - 555ms/epoch - 2ms/step\n",
            "Epoch 95/100\n",
            "323/323 - 1s - loss: 2.7362 - mae: 1.1703 - val_loss: 5.1015 - val_mae: 1.7679 - 537ms/epoch - 2ms/step\n",
            "Epoch 96/100\n",
            "323/323 - 1s - loss: 2.6231 - mae: 1.1574 - val_loss: 5.0876 - val_mae: 1.7620 - 575ms/epoch - 2ms/step\n",
            "Epoch 97/100\n",
            "323/323 - 1s - loss: 2.5783 - mae: 1.1431 - val_loss: 4.4719 - val_mae: 1.6399 - 547ms/epoch - 2ms/step\n",
            "Epoch 98/100\n",
            "323/323 - 1s - loss: 2.4611 - mae: 1.1047 - val_loss: 4.6549 - val_mae: 1.6354 - 540ms/epoch - 2ms/step\n",
            "Epoch 99/100\n",
            "323/323 - 1s - loss: 2.3766 - mae: 1.0984 - val_loss: 6.0019 - val_mae: 1.8245 - 585ms/epoch - 2ms/step\n",
            "Epoch 100/100\n",
            "323/323 - 1s - loss: 2.6882 - mae: 1.1643 - val_loss: 4.9526 - val_mae: 1.7491 - 570ms/epoch - 2ms/step\n"
          ]
        }
      ],
      "source": [
        "fit = model.fit(x_train, y_train, epochs=100, batch_size=1, verbose=2, validation_split = 0.2)"
      ]
    },
    {
      "cell_type": "markdown",
      "metadata": {
        "id": "h7DbATBbhKWf"
      },
      "source": [
        "# Оценка точности работы сети"
      ]
    },
    {
      "cell_type": "code",
      "execution_count": 6,
      "metadata": {
        "collapsed": true,
        "id": "mhDE7yYnhKWf"
      },
      "outputs": [],
      "source": [
        "mse, mae = model.evaluate(x_test, y_test, verbose=0)"
      ]
    },
    {
      "cell_type": "code",
      "execution_count": 7,
      "metadata": {
        "colab": {
          "base_uri": "https://localhost:8080/"
        },
        "id": "xTfc7rEChKWg",
        "outputId": "9394519f-b929-46c5-962a-7b03d945df41"
      },
      "outputs": [
        {
          "output_type": "stream",
          "name": "stdout",
          "text": [
            "Средняя абсолютная ошибка (тысяч долларов): 2.5568416118621826\n"
          ]
        }
      ],
      "source": [
        "print(\"Средняя абсолютная ошибка (тысяч долларов):\", mae)"
      ]
    },
    {
      "cell_type": "code",
      "source": [
        "import matplotlib.pyplot as plt\n",
        "\n",
        "plt.plot(fit.history['loss'], label = 'Train')\n",
        "plt.plot(fit.history['val_loss'], label = 'Validation')\n",
        "plt.legend()"
      ],
      "metadata": {
        "colab": {
          "base_uri": "https://localhost:8080/",
          "height": 282
        },
        "id": "_v2773y0vBLA",
        "outputId": "aee2395d-94b6-4a79-9462-8b0f004e3e2a"
      },
      "execution_count": 13,
      "outputs": [
        {
          "output_type": "execute_result",
          "data": {
            "text/plain": [
              "<matplotlib.legend.Legend at 0x7f8550a9abd0>"
            ]
          },
          "metadata": {},
          "execution_count": 13
        },
        {
          "output_type": "display_data",
          "data": {
            "text/plain": [
              "<Figure size 432x288 with 1 Axes>"
            ],
            "image/png": "[encoded data removed]"
          },
          "metadata": {
            "needs_background": "light"
          }
        }
      ]
    },
    {
      "cell_type": "markdown",
      "metadata": {
        "id": "QWigKiFDhKWg"
      },
      "source": [
        "# Использование сети для предсказания цен недвижимости"
      ]
    },
    {
      "cell_type": "code",
      "execution_count": 14,
      "metadata": {
        "collapsed": true,
        "id": "eB-5rt_7hKWg"
      },
      "outputs": [],
      "source": [
        "pred = model.predict(x_test)"
      ]
    },
    {
      "cell_type": "code",
      "execution_count": 15,
      "metadata": {
        "colab": {
          "base_uri": "https://localhost:8080/"
        },
        "id": "4CwJ83cVhKWh",
        "outputId": "2d0fc5d4-2aed-49db-c6e9-b8fd0925f72b"
      },
      "outputs": [
        {
          "output_type": "stream",
          "name": "stdout",
          "text": [
            "Предсказанная стоимость: 18.383497 , правильная стоимость: 18.8\n"
          ]
        }
      ],
      "source": [
        "print(\"Предсказанная стоимость:\", pred[1][0], \", правильная стоимость:\", y_test[1])"
      ]
    },
    {
      "cell_type": "code",
      "source": [
        ""
      ],
      "metadata": {
        "id": "UQ2Dztl1BGez"
      },
      "execution_count": null,
      "outputs": []
    }
  ],
  "metadata": {
    "kernelspec": {
      "display_name": "Python 3",
      "language": "python",
      "name": "python3"
    },
    "language_info": {
      "codemirror_mode": {
        "name": "ipython",
        "version": 3
      },
      "file_extension": ".py",
      "mimetype": "text/x-python",
      "name": "python",
      "nbconvert_exporter": "python",
      "pygments_lexer": "ipython3",
      "version": "3.6.1"
    },
    "colab": {
      "name": "regression_example.ipynb",
      "provenance": [],
      "collapsed_sections": [],
      "include_colab_link": true
    }
  },
  "nbformat": 4,
  "nbformat_minor": 0
}