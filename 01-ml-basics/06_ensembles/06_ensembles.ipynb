{
  "nbformat": 4,
  "nbformat_minor": 0,
  "metadata": {
    "colab": {
      "name": "CG_ENSEMBLES_UNSOLVED.ipynb",
      "provenance": [],
      "collapsed_sections": []
    },
    "kernelspec": {
      "name": "python3",
      "display_name": "Python 3"
    }
  },
  "cells": [
    {
      "cell_type": "markdown",
      "metadata": {
        "id": "lvOZpUL1f23a"
      },
      "source": [
        "# Ансамбли моделей\n",
        "## Предисловие\n",
        "Как Вы уже знаете, модели МО можно использовать не только \"как есть\", но ещё и строить разнообразные надстройки над ними. Хорошей идеей такой надстройки было и остаётся объединение моделей в ансамбль.\n",
        "\n",
        "Сама суть ансамблей заключается в том, чтобы объединить предсказания стандартных моделей для повышения обощающей способности или надёжности ансамбля перед одиночным стандартным методом МО.\n",
        "\n",
        "Ансамбли делятся на два типа:\n",
        "\n",
        "- Голосующие (или усредняющие) - смысл их заключается в том, чтобы сначала обучить независимые друг от друга модели, а затем голосованием этих моделей выбирать предсказание (или усреднять предсказания по всем моделям, зависит от задачи). Обычно, качество предсказания у ансамблей лучше потому, что у них понижена дисперсия.\n",
        "\n",
        "    Примеры: [Бэггинг](https://scikit-learn.org/stable/modules/ensemble.html#bagging), [Случайный лес](https://scikit-learn.org/stable/modules/ensemble.html#forest)\n",
        "\n",
        "- Бустинг-ансамбли - последовательности стандартных моделей, построенные так, чтобы каждая последующая добавленная и натренированная модель каким-то образом исправляла ошибки всей предшествующей ей последовательности моделей. \"Объединение слабых моделей даёт сильную модель\".\n",
        "\n",
        "    Примеры: [AdaBoost](https://scikit-learn.org/stable/modules/ensemble.html#adaboost), [Градиентный бустинг](https://scikit-learn.org/stable/modules/ensemble.html#gradient-boosting)\n",
        "\n",
        "Полная [документация](https://scikit-learn.org/stable/modules/classes.html#module-sklearn.ensemble) по доступным в sklearn ансамблям.\n",
        "[Урок](https://habr.com/ru/company/ods/blog/327250/) про бустинг из курса хабра.\n"
      ]
    },
    {
      "cell_type": "markdown",
      "metadata": {
        "id": "xPOeDE6kuMRd"
      },
      "source": [
        "## Задача\n",
        "На этом воркшопе мы будем реализовывать алгоритм градиентного бустинга. Напомню, что в общем смысле бустинг заключается в том, чтобы тренировать каждую последующую модель так, чтобы она исправляла ошибки предыдущих.\n",
        "\n",
        "Прежде чем мы приступим к реализации, давайте вспомним, как он устроен:\n",
        "Краткое описание [оригинального алгоритма](https://statweb.stanford.edu/~jhf/ftp/stobst.pdf) (который придумал Фридман):\n",
        "Для работы алгоритма помимо данных нужно подать:\n",
        "1. количество итераций $M \\in \\mathbb{N}$;\n",
        "2. функцию потерь $L(y,f)$, где $y$ - истинные значения, $f$ - полученная аппроксимация искомой функции (в данном случае это будет не функция, а просто предсказанные значения).\n",
        "Важно, чтобы функция потерь была дифференцируемой по $f$;\n",
        "3. базовая модель, на основе которой мы будем делать бустинг - в данном воркшопе мы воспользуемся деревьями решений;\n",
        "4. Начальное приближение $f_0(x)$ - чаще всего для этого используют некую константу.\n",
        "\n",
        "**Сам алгоритм:**\n",
        "1. Задаём начальное приближение функции $f(x) = f_0(x)$ константой - в данном случае можно выбрать ноль, среднее по столбцу с целевым признаком или что-нибудь ещё.\n",
        "2. Далее итеративно $t$ от 1 до $M$: \n",
        "    1. Считаем остатки как $\\large r_{t} = -\\left[\\frac{\\partial L(y, f(x))}{\\partial f(x)}\\right]_{f(x)=\\hat{f}(x)}$\n",
        "    2. Обучаем ещё одну базовую модель $h_t(x)$, при этом нецелевыми признаками у нас будет $x$, а в качестве целевого будем использовать остатки $r_t$, полученные на текущем шаге\n",
        "    3. Найти оптимальный коэффициент $\\rho_t = \\underset{\\rho}{\\arg\\min} \\ L(y, \\hat{f}(x) + \\rho \\cdot h(x))$ \n",
        "    4. обновить текущее приближение $\\hat{f}(x) \\leftarrow \\hat{f}(x) + \\hat{f}_i(x)$, где $\\hat{f}_i(x) = \\rho_t \\cdot h_t(x)$\n",
        "3. Собрать все полученные базовые алгоритмы в модель $\\hat{f}(x) = \\sum_{i = 0}^M \\hat{f_i}(x)$\n",
        "\n",
        "**Функции потерь:**\n",
        "- $L(y, f) = \\frac{1}{2}(y - f)^2$ - _MSE-loss_. Используйте его если считаете, что у модели нет никаких дополнительных требований к стабильности.\n",
        "- $L(y, f) = |y - f|$ - _MAE-loss_. Применять при требованиях к стабильности модели. Из минусов можно выделить то, что её немного сложнее дифференцировать (придётся искать производные на разных кусках)\n",
        "- $\\begin{equation} L(y, f) =\\left\\{ \\begin{array}{@{}ll@{}} (1 - \\alpha) \\cdot |y - f|, & \\largeесли\\ y-f \\leq 0 \\\\ \\alpha \\cdot |y - f|, & \\largeесли\\ y-f >0 \\end{array}\\right. \\end{equation}, \\alpha \\in (0,1)$ - $L_q$-loss. Применять при наличии особых требований к модели, например, когда нам нужно восстановить не среднее и не медиану условного распределения $(y|x)$, а какую-нибудь квантиль. Штрафует наблюдения, попадающие выше $\\alpha$-той квантили.\n",
        "\n",
        "**Замечание:**\n",
        "1. коэффициенты $\\rho_i$ искать не обязательно, их можно считать равными единице\n",
        "2. функции потерь для регрессии бывают 3 видов, Вам достаточно реализовать хотя бы одну из них (конечно, будет здорово, если вы реализуете их все) и посчитать для неё градиент, тоже в виде функции.\n",
        "\n",
        "Настоятельно рекомендуем прочитать оригинальное описание алгоритма, так как там содержатся подробные выводы формул на каждом этапе.\n"
      ]
    },
    {
      "cell_type": "markdown",
      "metadata": {
        "id": "FFQvLM09s-h3"
      },
      "source": [
        "## Реализация алгоритма\n",
        "\n",
        "Как обычно, сначала импортируем всё, что нам нужно. \n",
        "\n",
        "В этот раз будем использовать деревья [напрямую из библиотеки sklearn](https://scikit-learn.org/stable/modules/generated/sklearn.tree.DecisionTreeRegressor.html). Про параметры можно прочитать в документации по ссылке, в остальном же модели `sklearn` почти полностью идентичны тем, которые мы реализовывали в рамках курса - метод `fit` принимает признаки и целевой класс, а метод `predict` - признаки, для которых мы хотим выполнить предсказание, и возвращает предсказанные метки. "
      ]
    },
    {
      "cell_type": "code",
      "metadata": {
        "id": "U_l5Vz59KWtL"
      },
      "source": [
        "import numpy as np\n",
        "import pandas as pd\n",
        "from matplotlib import pyplot as plt\n",
        "import seaborn as sns\n",
        "from sklearn.tree import DecisionTreeRegressor"
      ],
      "execution_count": null,
      "outputs": []
    },
    {
      "cell_type": "markdown",
      "metadata": {
        "id": "WAHLwjJis8S9"
      },
      "source": [
        "Теперь реализуйте функции потерь. Как я писал ранее, достаточно реализовать MSE loss или одну любую другую. Остальные - как дополнительное задание. Описания даны выше."
      ]
    },
    {
      "cell_type": "code",
      "metadata": {
        "id": "C7o43E1QwGqW"
      },
      "source": [
        "def MSE_loss(y_real, y_predicted):\n",
        "\n",
        "    ######\n",
        "    ### ВАШ КОД\n",
        "    \n",
        "    ######\n",
        "    pass\n",
        "\n",
        "def MSE_loss_gradient(y_real, y_predicted):\n",
        "\n",
        "    ######\n",
        "    ### ВАШ КОД\n",
        "    \n",
        "    ######\n",
        "    pass\n",
        "\n",
        "def MAE_loss(y_real, y_predicted):\n",
        "    pass\n",
        "\n",
        "def MAE_loss_gradient(y_real, y_predicted):\n",
        "    pass\n",
        "\n",
        "def lq_loss(y_real, y_predicted):\n",
        "    pass\n",
        "\n",
        "def lq_loss_gradient(y_real, y_predicted):\n",
        "    pass"
      ],
      "execution_count": null,
      "outputs": []
    },
    {
      "cell_type": "markdown",
      "metadata": {
        "id": "zhMtSWwUtS86"
      },
      "source": [
        "Здесь мы просто упакуем функции в словарь, чтобы можно было передавать имя функции в алгоритм строкой."
      ]
    },
    {
      "cell_type": "code",
      "metadata": {
        "id": "6mDM1iApGxc9"
      },
      "source": [
        "losses = {\n",
        "    'MSE': (MSE_loss, MSE_loss_gradient),\n",
        "    'MAE': (MAE_loss, MAE_loss_gradient),\n",
        "    'lq': (lq_loss, lq_loss_gradient),\n",
        "}"
      ],
      "execution_count": null,
      "outputs": []
    },
    {
      "cell_type": "markdown",
      "metadata": {
        "id": "F2gn8mkitdkM"
      },
      "source": [
        "### Теперь приступим к реализации самого алгоритма. \n",
        "\n",
        "**Описание полей класса:**\n",
        "\n",
        "- `GradientTreeBoosting.estimators` - список, в котором мы будем хранить обученные деревья;\n",
        "- `GradientTreeBoosting.tree_kwargs` - параметры конструктора для деревьев, такие как глубина дерева, max features, и т.д. Подробнее в [документации](https://scikit-learn.org/stable/modules/generated/sklearn.tree.DecisionTreeRegressor.html#sklearn.tree.DecisionTreeRegressor);\n",
        "- `GradientTreeBoosting.iteration` - $M$ из формул выше - количество итераций бустинга, и, одновременно, количество моделей, которые мы построим и объединим в ансамбль в результате бустинга;\n",
        "- `GradientTreeBoosting.loss` - функция потерь;\n",
        "- `GradientTreeBoosting.loss_grad` - градиент этой функции потерь.\n",
        "\n",
        "Методы `fit` и `predict` класса ответсвенны за обучение и предсказание.\n",
        "\n",
        "В методе `fit` Вам надо будет строить деревья, при построении деревьев не забудьте передать `tree_kwards` в качестве параметров конструктора. \n",
        "\n",
        "Обратите внимание, что по-умолчанию в качестве функции потерь указан l2-loss. Если вы его не реализовали, то измените на что-нибудь другое(или каждый раз указывайте явно или напишите try-except-блок)."
      ]
    },
    {
      "cell_type": "code",
      "metadata": {
        "id": "7j5kRdQzia0c"
      },
      "source": [
        "class GradientTreeBoosting:\n",
        "    def __init__(self, loss='MSE', iterations=10, **tree_kwargs):\n",
        "        self.estimators = []\n",
        "        self.tree_kwargs = tree_kwargs\n",
        "        self.iterations = iterations\n",
        "        self.loss, self.loss_grad = losses.get(loss)\n",
        "        \n",
        "    def fit(self, x, y):\n",
        "        ######\n",
        "        ### ВАШ КОД\n",
        "\n",
        "        ######\n",
        "\n",
        "    def predict(self, x):\n",
        "        ######\n",
        "        ### ВАШ КОД\n",
        "\n",
        "        ######"
      ],
      "execution_count": null,
      "outputs": []
    },
    {
      "cell_type": "markdown",
      "metadata": {
        "id": "-dYkkmqKtjah"
      },
      "source": [
        "### Проверка на игрушечном примере\n",
        "\n",
        "Сгенерируем выборку на основе косинуса и проверим, на сколько хорошо бустинг деревьев справится с этой задачей. Сравнивать будем с обычным деревом с такими же параметрами. Про методы `np.random` можете найти справку во 2 теме."
      ]
    },
    {
      "cell_type": "code",
      "metadata": {
        "colab": {
          "base_uri": "https://localhost:8080/",
          "height": 445
        },
        "id": "Wk5tNuOGX6Xx",
        "outputId": "fc49518a-194e-46d1-ad66-1022eed479df"
      },
      "source": [
        "# генерируем данные\n",
        "np.random.seed(42)\n",
        "x = np.random.uniform(low=-2*np.math.pi, high=2*np.math.pi, size=(300))\n",
        "y = np.cos(x) + np.random.randn(300) * 0.2\n",
        "\n",
        "# обучаем обычное дерево глубины 3\n",
        "tree = DecisionTreeRegressor(max_depth=3, random_state=42)\n",
        "tree.fit(x.reshape(-1, 1), y)\n",
        "\n",
        "# обучаем наш бустинг-ансамбль\n",
        "clf = GradientTreeBoosting(iterations=3, max_depth=3, random_state=42)\n",
        "clf.fit(x.reshape(-1, 1), y)\n",
        "\n",
        "# визуализация\n",
        "plt.figure(figsize=(10,7))\n",
        "sns.scatterplot(x=x, y=y, label='original data')\n",
        "sns.scatterplot(x=x, y=clf.predict(x.reshape(-1, 1)), label='boosting')\n",
        "sns.scatterplot(x=x, y=tree.predict(x.reshape(-1, 1)), label='tree')"
      ],
      "execution_count": null,
      "outputs": [
        {
          "output_type": "execute_result",
          "data": {
            "text/plain": [
              "<matplotlib.axes._subplots.AxesSubplot at 0x7fc1c5f18208>"
            ]
          },
          "metadata": {
            "tags": []
          },
          "execution_count": 13
        },
        {
          "output_type": "display_data",
          "data": {
            "image/png": "[encoded data removed]",
            "text/plain": [
              "<Figure size 720x504 with 1 Axes>"
            ]
          },
          "metadata": {
            "tags": [],
            "needs_background": "light"
          }
        }
      ]
    },
    {
      "cell_type": "markdown",
      "metadata": {
        "id": "NhhVDno3Peup"
      },
      "source": [
        "### Бустинг на практике: прогнозирование оттока пользователей из мобильной сети\n",
        "\n",
        "Будем решать задачу классификации (sic!), предсказывая, уйдёт ли пользователь мобильной сети или нет.\n",
        "Задача [отсюда](https://www.kaggle.com/mnassrib/telecom-churn-datasets).\n",
        "\n",
        "Данные и их типы: \n",
        "- State: string\n",
        "- Account length: integer \n",
        "- Area code: integer\n",
        "- International plan: string\n",
        "- Voice mail plan: string\n",
        "- Number vmail messages: integer\n",
        "- Total day minutes: double\n",
        "- Total day calls: integer\n",
        "- Total day charge: double\n",
        "- Total eve minutes: double\n",
        "- Total eve calls: integer\n",
        "- Total eve charge: double\n",
        "- Total night minutes: double\n",
        "- Total night calls: integer\n",
        "- Total night charge: double\n",
        "- Total intl minutes: double\n",
        "- Total intl calls: integer\n",
        "- Total intl charge: double\n",
        "- Customer service calls: integer\n",
        "- Churn: string - целевой признак - уйдёт или нет (на самом деле pandas понимает его как булев)\n",
        "\n",
        "Предсказывать будем логиты, то есть вероятность того, что клиент уйдёт, и на основе её уже делать прогноз, уйдёт ли он на самом деле или нет.\n",
        "\n",
        "Вам предстоит самостоятельно провести эксперимент. Сравните качество нашей бустинг-модели с обычными методами МО (вспомните и подумайте, какие лучше).\n",
        "\n",
        "В качестве метрики качества используйте `f1_score` (а ещё лучше, `classification_report`)."
      ]
    },
    {
      "cell_type": "markdown",
      "metadata": {
        "id": "wzxc8HxaOFFJ"
      },
      "source": [
        "#### Загрузите данные и предобработайте их.\n",
        "\n",
        "Разбейте данные на тренировочную и тестовую подвыборки.\n",
        "\n",
        "Поскольку деревья из sklearn не поддерживают категориальные признаки, Вам придётся решить эту проблему - попробуйте удалить их _или_ обработать известными нам способами ([one-hot-encoding](https://habr.com/ru/company/ods/blog/326418/#one-hot-encoding), счётчики  и тп).\n",
        "\n",
        "В описании к датасету предполагалось использовать больший датасет (churn-bigml-80.csv) для обучения, а меньший (churn-bigml-20.csv) для проверки. \n"
      ]
    },
    {
      "cell_type": "code",
      "metadata": {
        "colab": {
          "base_uri": "https://localhost:8080/",
          "height": 231
        },
        "id": "oC75IvcK5HEf",
        "outputId": "6f6578c7-c4fb-4c1b-84e3-52c6c0b0bcd3"
      },
      "source": [
        "link ='https://gitlab.7bits.it/coding-garden/coding-garden-ml-data/-/raw/master/data_churn-bigml-80.csv'\n",
        "df = pd.read_csv(link, sep=',')\n",
        "\n",
        "df.head()"
      ],
      "execution_count": null,
      "outputs": [
        {
          "output_type": "execute_result",
          "data": {
            "text/html": [
              "<div>\n",
              "<style scoped>\n",
              "    .dataframe tbody tr th:only-of-type {\n",
              "        vertical-align: middle;\n",
              "    }\n",
              "\n",
              "    .dataframe tbody tr th {\n",
              "        vertical-align: top;\n",
              "    }\n",
              "\n",
              "    .dataframe thead th {\n",
              "        text-align: right;\n",
              "    }\n",
              "</style>\n",
              "<table border=\"1\" class=\"dataframe\">\n",
              "  <thead>\n",
              "    <tr style=\"text-align: right;\">\n",
              "      <th></th>\n",
              "      <th>State</th>\n",
              "      <th>Account length</th>\n",
              "      <th>Area code</th>\n",
              "      <th>International plan</th>\n",
              "      <th>Voice mail plan</th>\n",
              "      <th>Number vmail messages</th>\n",
              "      <th>Total day minutes</th>\n",
              "      <th>Total day calls</th>\n",
              "      <th>Total day charge</th>\n",
              "      <th>Total eve minutes</th>\n",
              "      <th>Total eve calls</th>\n",
              "      <th>Total eve charge</th>\n",
              "      <th>Total night minutes</th>\n",
              "      <th>Total night calls</th>\n",
              "      <th>Total night charge</th>\n",
              "      <th>Total intl minutes</th>\n",
              "      <th>Total intl calls</th>\n",
              "      <th>Total intl charge</th>\n",
              "      <th>Customer service calls</th>\n",
              "      <th>Churn</th>\n",
              "    </tr>\n",
              "  </thead>\n",
              "  <tbody>\n",
              "    <tr>\n",
              "      <th>0</th>\n",
              "      <td>KS</td>\n",
              "      <td>128</td>\n",
              "      <td>415</td>\n",
              "      <td>No</td>\n",
              "      <td>Yes</td>\n",
              "      <td>25</td>\n",
              "      <td>265.1</td>\n",
              "      <td>110</td>\n",
              "      <td>45.07</td>\n",
              "      <td>197.4</td>\n",
              "      <td>99</td>\n",
              "      <td>16.78</td>\n",
              "      <td>244.7</td>\n",
              "      <td>91</td>\n",
              "      <td>11.01</td>\n",
              "      <td>10.0</td>\n",
              "      <td>3</td>\n",
              "      <td>2.70</td>\n",
              "      <td>1</td>\n",
              "      <td>False</td>\n",
              "    </tr>\n",
              "    <tr>\n",
              "      <th>1</th>\n",
              "      <td>OH</td>\n",
              "      <td>107</td>\n",
              "      <td>415</td>\n",
              "      <td>No</td>\n",
              "      <td>Yes</td>\n",
              "      <td>26</td>\n",
              "      <td>161.6</td>\n",
              "      <td>123</td>\n",
              "      <td>27.47</td>\n",
              "      <td>195.5</td>\n",
              "      <td>103</td>\n",
              "      <td>16.62</td>\n",
              "      <td>254.4</td>\n",
              "      <td>103</td>\n",
              "      <td>11.45</td>\n",
              "      <td>13.7</td>\n",
              "      <td>3</td>\n",
              "      <td>3.70</td>\n",
              "      <td>1</td>\n",
              "      <td>False</td>\n",
              "    </tr>\n",
              "    <tr>\n",
              "      <th>2</th>\n",
              "      <td>NJ</td>\n",
              "      <td>137</td>\n",
              "      <td>415</td>\n",
              "      <td>No</td>\n",
              "      <td>No</td>\n",
              "      <td>0</td>\n",
              "      <td>243.4</td>\n",
              "      <td>114</td>\n",
              "      <td>41.38</td>\n",
              "      <td>121.2</td>\n",
              "      <td>110</td>\n",
              "      <td>10.30</td>\n",
              "      <td>162.6</td>\n",
              "      <td>104</td>\n",
              "      <td>7.32</td>\n",
              "      <td>12.2</td>\n",
              "      <td>5</td>\n",
              "      <td>3.29</td>\n",
              "      <td>0</td>\n",
              "      <td>False</td>\n",
              "    </tr>\n",
              "    <tr>\n",
              "      <th>3</th>\n",
              "      <td>OH</td>\n",
              "      <td>84</td>\n",
              "      <td>408</td>\n",
              "      <td>Yes</td>\n",
              "      <td>No</td>\n",
              "      <td>0</td>\n",
              "      <td>299.4</td>\n",
              "      <td>71</td>\n",
              "      <td>50.90</td>\n",
              "      <td>61.9</td>\n",
              "      <td>88</td>\n",
              "      <td>5.26</td>\n",
              "      <td>196.9</td>\n",
              "      <td>89</td>\n",
              "      <td>8.86</td>\n",
              "      <td>6.6</td>\n",
              "      <td>7</td>\n",
              "      <td>1.78</td>\n",
              "      <td>2</td>\n",
              "      <td>False</td>\n",
              "    </tr>\n",
              "    <tr>\n",
              "      <th>4</th>\n",
              "      <td>OK</td>\n",
              "      <td>75</td>\n",
              "      <td>415</td>\n",
              "      <td>Yes</td>\n",
              "      <td>No</td>\n",
              "      <td>0</td>\n",
              "      <td>166.7</td>\n",
              "      <td>113</td>\n",
              "      <td>28.34</td>\n",
              "      <td>148.3</td>\n",
              "      <td>122</td>\n",
              "      <td>12.61</td>\n",
              "      <td>186.9</td>\n",
              "      <td>121</td>\n",
              "      <td>8.41</td>\n",
              "      <td>10.1</td>\n",
              "      <td>3</td>\n",
              "      <td>2.73</td>\n",
              "      <td>3</td>\n",
              "      <td>False</td>\n",
              "    </tr>\n",
              "  </tbody>\n",
              "</table>\n",
              "</div>"
            ],
            "text/plain": [
              "  State  Account length  ...  Customer service calls  Churn\n",
              "0    KS             128  ...                       1  False\n",
              "1    OH             107  ...                       1  False\n",
              "2    NJ             137  ...                       0  False\n",
              "3    OH              84  ...                       2  False\n",
              "4    OK              75  ...                       3  False\n",
              "\n",
              "[5 rows x 20 columns]"
            ]
          },
          "metadata": {
            "tags": []
          },
          "execution_count": 14
        }
      ]
    },
    {
      "cell_type": "code",
      "metadata": {
        "colab": {
          "base_uri": "https://localhost:8080/"
        },
        "id": "RcaZ5qGo55Ry",
        "outputId": "77366748-7725-42c0-8ae1-5c0133744971"
      },
      "source": [
        "df.info()"
      ],
      "execution_count": null,
      "outputs": [
        {
          "output_type": "stream",
          "text": [
            "<class 'pandas.core.frame.DataFrame'>\n",
            "RangeIndex: 2666 entries, 0 to 2665\n",
            "Data columns (total 20 columns):\n",
            " #   Column                  Non-Null Count  Dtype  \n",
            "---  ------                  --------------  -----  \n",
            " 0   State                   2666 non-null   object \n",
            " 1   Account length          2666 non-null   int64  \n",
            " 2   Area code               2666 non-null   int64  \n",
            " 3   International plan      2666 non-null   object \n",
            " 4   Voice mail plan         2666 non-null   object \n",
            " 5   Number vmail messages   2666 non-null   int64  \n",
            " 6   Total day minutes       2666 non-null   float64\n",
            " 7   Total day calls         2666 non-null   int64  \n",
            " 8   Total day charge        2666 non-null   float64\n",
            " 9   Total eve minutes       2666 non-null   float64\n",
            " 10  Total eve calls         2666 non-null   int64  \n",
            " 11  Total eve charge        2666 non-null   float64\n",
            " 12  Total night minutes     2666 non-null   float64\n",
            " 13  Total night calls       2666 non-null   int64  \n",
            " 14  Total night charge      2666 non-null   float64\n",
            " 15  Total intl minutes      2666 non-null   float64\n",
            " 16  Total intl calls        2666 non-null   int64  \n",
            " 17  Total intl charge       2666 non-null   float64\n",
            " 18  Customer service calls  2666 non-null   int64  \n",
            " 19  Churn                   2666 non-null   bool   \n",
            "dtypes: bool(1), float64(8), int64(8), object(3)\n",
            "memory usage: 398.5+ KB\n"
          ],
          "name": "stdout"
        }
      ]
    },
    {
      "cell_type": "markdown",
      "metadata": {
        "id": "ry1s_UABGRCw"
      },
      "source": [
        "#### Задание.\n",
        "\n",
        "Подготовьте признаки в обоих датасетах (churn-bigml-80 и churn-bigml-20): \n",
        "- Преобразуйте категориальные признаки\n",
        "- В датасетах есть частный случай категориального признака, а именно признак бинарный. Значения бинарного признака допустимо преобразовать в целое число (0 или 1), для чего можете использовать логические маски в `pandas` и функцию [`astype`](https://pandas.pydata.org/pandas-docs/stable/reference/api/pandas.DataFrame.astype.html). Можете предложить свой вариант.\n",
        "- Создайте тестовую и тренирочную выборки"
      ]
    },
    {
      "cell_type": "code",
      "metadata": {
        "id": "Xa_AUc23YHAv"
      },
      "source": [
        ""
      ],
      "execution_count": null,
      "outputs": []
    },
    {
      "cell_type": "code",
      "metadata": {
        "id": "yzOwXEq0YG-c"
      },
      "source": [
        ""
      ],
      "execution_count": null,
      "outputs": []
    },
    {
      "cell_type": "code",
      "metadata": {
        "id": "Cc3c45TlYG70"
      },
      "source": [
        ""
      ],
      "execution_count": null,
      "outputs": []
    },
    {
      "cell_type": "code",
      "metadata": {
        "id": "LFclunz4YGqz"
      },
      "source": [
        ""
      ],
      "execution_count": null,
      "outputs": []
    },
    {
      "cell_type": "markdown",
      "metadata": {
        "id": "eBktZHUJBRgp"
      },
      "source": [
        "Здесь я немного помогу Вам. Функция `test_qual` позволяет проверить качество классификации без лишних телодвижений. Воспользуйтесь ей (если хотите, можете модифицировать как Вам удобно). В исходном виде она не подойдёт для финальной проверки (на разных датасетах), но вы можете сделать промежуточные выводы на её основе."
      ]
    },
    {
      "cell_type": "code",
      "metadata": {
        "id": "UB9ICK9v5UYB"
      },
      "source": [
        "def decide_class(logits, threshold=0.5):\n",
        "    res = np.zeros(logits.shape[0])\n",
        "    res[logits >= threshold] = 1\n",
        "    return res\n",
        "\n",
        "def test_qual(model, X, y, test_size=0.2, threshold=0.5):\n",
        "    from sklearn.metrics import r2_score, mean_squared_error, accuracy_score, classification_report\n",
        "    from sklearn.model_selection import train_test_split\n",
        "\n",
        "    X_train, X_test, y_train, y_test = train_test_split(X, y, test_size=test_size, shuffle=True, random_state=42)\n",
        "\n",
        "    model.fit(X_train, y_train)\n",
        "    test_logits = model.predict(X_test)\n",
        "    y_pred = decide_class(test_logits, threshold=threshold)\n",
        "\n",
        "    # print(accuracy_score(y_test, y_pred))\n",
        "    print(classification_report(y_test, y_pred))"
      ],
      "execution_count": null,
      "outputs": []
    },
    {
      "cell_type": "code",
      "metadata": {
        "colab": {
          "base_uri": "https://localhost:8080/"
        },
        "id": "_y3HPDdaD1XC",
        "outputId": "a15076fe-ded7-4ab2-bc2e-8c5a701a2dad"
      },
      "source": [
        "from sklearn.metrics import classification_report\n",
        "\n",
        "model = GradientTreeBoosting(random_state=42, max_depth=3)\n",
        "\n",
        "model.fit(X_test, y_test)\n",
        "y_pred = decide_class(model.predict(X_train))\n",
        "print(classification_report(y_pred, y_train))"
      ],
      "execution_count": null,
      "outputs": [
        {
          "output_type": "stream",
          "text": [
            "              precision    recall  f1-score   support\n",
            "\n",
            "         0.0       0.96      0.96      0.96       574\n",
            "         1.0       0.76      0.77      0.77        93\n",
            "\n",
            "    accuracy                           0.93       667\n",
            "   macro avg       0.86      0.87      0.86       667\n",
            "weighted avg       0.93      0.93      0.93       667\n",
            "\n"
          ],
          "name": "stdout"
        }
      ]
    },
    {
      "cell_type": "code",
      "metadata": {
        "colab": {
          "base_uri": "https://localhost:8080/"
        },
        "id": "MtIrrj5c-p9q",
        "outputId": "098fe5c9-38f2-4316-e2d4-976fdd653c90"
      },
      "source": [
        "test_qual(GradientTreeBoosting(random_state=42, max_depth=3), X, y)"
      ],
      "execution_count": null,
      "outputs": [
        {
          "output_type": "stream",
          "text": [
            "              precision    recall  f1-score   support\n",
            "\n",
            "           0       0.94      0.97      0.95       455\n",
            "           1       0.79      0.63      0.70        79\n",
            "\n",
            "    accuracy                           0.92       534\n",
            "   macro avg       0.87      0.80      0.83       534\n",
            "weighted avg       0.92      0.92      0.92       534\n",
            "\n"
          ],
          "name": "stdout"
        }
      ]
    },
    {
      "cell_type": "code",
      "metadata": {
        "colab": {
          "base_uri": "https://localhost:8080/"
        },
        "id": "WJTwNIsN-vkm",
        "outputId": "dd14ac32-b342-44c9-c01d-b8d2e7c3f5ba"
      },
      "source": [
        "test_qual(DecisionTreeRegressor(random_state=42, max_depth=3), X, y)"
      ],
      "execution_count": null,
      "outputs": [
        {
          "output_type": "stream",
          "text": [
            "              precision    recall  f1-score   support\n",
            "\n",
            "           0       0.91      0.99      0.95       455\n",
            "           1       0.89      0.42      0.57        79\n",
            "\n",
            "    accuracy                           0.91       534\n",
            "   macro avg       0.90      0.70      0.76       534\n",
            "weighted avg       0.91      0.91      0.89       534\n",
            "\n"
          ],
          "name": "stdout"
        }
      ]
    },
    {
      "cell_type": "code",
      "metadata": {
        "colab": {
          "base_uri": "https://localhost:8080/"
        },
        "id": "JxpOc-T5BDIl",
        "outputId": "0f69ccb6-6580-4e9a-ccf0-53f6e989a61e"
      },
      "source": [
        "from sklearn.tree import DecisionTreeClassifier\n",
        "test_qual(DecisionTreeClassifier(random_state=42, max_depth=3), X, y)"
      ],
      "execution_count": null,
      "outputs": [
        {
          "output_type": "stream",
          "text": [
            "              precision    recall  f1-score   support\n",
            "\n",
            "           0       0.91      0.99      0.95       455\n",
            "           1       0.89      0.42      0.57        79\n",
            "\n",
            "    accuracy                           0.91       534\n",
            "   macro avg       0.90      0.70      0.76       534\n",
            "weighted avg       0.91      0.91      0.89       534\n",
            "\n"
          ],
          "name": "stdout"
        }
      ]
    }
  ]
}