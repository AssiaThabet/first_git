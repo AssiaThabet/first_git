{
  "nbformat": 4,
  "nbformat_minor": 0,
  "metadata": {
    "colab": {
      "name": "avocado.ipynb",
      "provenance": [],
      "collapsed_sections": [],
      "authorship_tag": "ABX9TyNuaNbjQ26/g9vlCwpKpk4W",
      "include_colab_link": true
    },
    "kernelspec": {
      "name": "python3",
      "display_name": "Python 3"
    },
    "language_info": {
      "name": "python"
    }
  },
  "cells": [
    {
      "cell_type": "markdown",
      "metadata": {
        "id": "view-in-github",
        "colab_type": "text"
      },
      "source": [
        "<a href=\"https://colab.research.google.com/github/AssiaThabet/first_git/blob/main/avocado.ipynb\" target=\"_parent\"><img src=\"https://colab.research.google.com/assets/colab-badge.svg\" alt=\"Open In Colab\"/></a>"
      ]
    },
    {
      "cell_type": "markdown",
      "source": [
        "В этом практическом задании можно попрактиковаться в использовании библиотек и в реальном прогнозе нейросетью глубокого обучения. "
      ],
      "metadata": {
        "id": "SVJ2Qq3HdHSU"
      }
    },
    {
      "cell_type": "markdown",
      "source": [
        "# Предсказание цен на авокадо нейросетью"
      ],
      "metadata": {
        "id": "chPpIZ3YYIEX"
      }
    },
    {
      "cell_type": "markdown",
      "source": [
        "## Загрузка данных"
      ],
      "metadata": {
        "id": "z3Z1OP8mYVAO"
      }
    },
    {
      "cell_type": "code",
      "execution_count": 80,
      "metadata": {
        "id": "dyLkI1-hL2Hu"
      },
      "outputs": [],
      "source": [
        "import os\n",
        "import warnings\n",
        "\n",
        "import numpy as np\n",
        "import pandas as pd\n",
        "import matplotlib.pyplot as plt\n",
        "import seaborn as sn\n",
        "import plotly.express as px\n",
        "from sklearn.preprocessing import MinMaxScaler\n",
        "import torch\n",
        "import torch.nn as nn"
      ]
    },
    {
      "cell_type": "markdown",
      "source": [
        "Датасет из kaggle https://www.kaggle.com/datasets/neuromusic/avocado-prices\n",
        "\n",
        "Из него мы будем использовать только \n",
        "\n",
        "> **Date** - дата\n",
        "\n",
        "> **AveragePrice** - цена\n",
        "\n",
        "\n",
        "\n"
      ],
      "metadata": {
        "id": "k6q_QToueCaO"
      }
    },
    {
      "cell_type": "code",
      "source": [
        "dat = pd.read_csv('avocado.csv')"
      ],
      "metadata": {
        "id": "afHjR5ZwMErl"
      },
      "execution_count": 81,
      "outputs": []
    },
    {
      "cell_type": "code",
      "source": [
        "dat"
      ],
      "metadata": {
        "colab": {
          "base_uri": "https://localhost:8080/",
          "height": 678
        },
        "id": "3u7CCqiHMlsO",
        "outputId": "5a4a30a6-0bc1-41b6-e248-4ffbd8a30ccd"
      },
      "execution_count": 82,
      "outputs": [
        {
          "output_type": "execute_result",
          "data": {
            "text/plain": [
              "      Unnamed: 0        Date  AveragePrice  Total Volume       4046  \\\n",
              "0              0  2015-12-27          1.33      64236.62    1036.74   \n",
              "1              1  2015-12-20          1.35      54876.98     674.28   \n",
              "2              2  2015-12-13          0.93     118220.22     794.70   \n",
              "3              3  2015-12-06          1.08      78992.15    1132.00   \n",
              "4              4  2015-11-29          1.28      51039.60     941.48   \n",
              "...          ...         ...           ...           ...        ...   \n",
              "8801          11  2018-01-07          0.85     303963.18  167628.98   \n",
              "8802           0  2018-03-25          1.04     305105.53  171335.77   \n",
              "8803           1  2018-03-18          1.02     316969.55  181011.25   \n",
              "8804           2  2018-03-11          1.05     316463.18  177320.17   \n",
              "8805           3  2018-03-04          1.03     332378.96  190521.47   \n",
              "\n",
              "           4225     4770  Total Bags  Small Bags  Large Bags  XLarge Bags  \\\n",
              "0      54454.85    48.16     8696.87     8603.62       93.25         0.00   \n",
              "1      44638.81    58.33     9505.56     9408.07       97.49         0.00   \n",
              "2     109149.67   130.50     8145.35     8042.21      103.14         0.00   \n",
              "3      71976.41    72.58     5811.16     5677.40      133.76         0.00   \n",
              "4      43838.39    75.78     6183.95     5986.26      197.69         0.00   \n",
              "...         ...      ...         ...         ...         ...          ...   \n",
              "8801   10026.09   409.67   125898.44   108075.96    16240.96      1581.52   \n",
              "8802   20076.04  2425.10   111268.62    94895.33    15963.29       410.00   \n",
              "8803   19002.68  2515.00   114440.62    95470.29    18533.66       436.67   \n",
              "8804   22478.10  2158.00   114506.91    93807.58    20352.66       346.67   \n",
              "8805   24646.65  2564.00   114646.00         NaN         NaN          NaN   \n",
              "\n",
              "              type    year            region  \n",
              "0     conventional  2015.0            Albany  \n",
              "1     conventional  2015.0            Albany  \n",
              "2     conventional  2015.0            Albany  \n",
              "3     conventional  2015.0            Albany  \n",
              "4     conventional  2015.0            Albany  \n",
              "...            ...     ...               ...  \n",
              "8801  conventional  2018.0         Nashville  \n",
              "8802  conventional  2018.0  NewOrleansMobile  \n",
              "8803  conventional  2018.0  NewOrleansMobile  \n",
              "8804  conventional  2018.0  NewOrleansMobile  \n",
              "8805           NaN     NaN               NaN  \n",
              "\n",
              "[8806 rows x 14 columns]"
            ],
            "text/html": [
              "\n",
              "  <div id=\"df-5f53b62e-6ab9-42ab-a3f6-d25bcacbcc74\">\n",
              "    <div class=\"colab-df-container\">\n",
              "      <div>\n",
              "<style scoped>\n",
              "    .dataframe tbody tr th:only-of-type {\n",
              "        vertical-align: middle;\n",
              "    }\n",
              "\n",
              "    .dataframe tbody tr th {\n",
              "        vertical-align: top;\n",
              "    }\n",
              "\n",
              "    .dataframe thead th {\n",
              "        text-align: right;\n",
              "    }\n",
              "</style>\n",
              "<table border=\"1\" class=\"dataframe\">\n",
              "  <thead>\n",
              "    <tr style=\"text-align: right;\">\n",
              "      <th></th>\n",
              "      <th>Unnamed: 0</th>\n",
              "      <th>Date</th>\n",
              "      <th>AveragePrice</th>\n",
              "      <th>Total Volume</th>\n",
              "      <th>4046</th>\n",
              "      <th>4225</th>\n",
              "      <th>4770</th>\n",
              "      <th>Total Bags</th>\n",
              "      <th>Small Bags</th>\n",
              "      <th>Large Bags</th>\n",
              "      <th>XLarge Bags</th>\n",
              "      <th>type</th>\n",
              "      <th>year</th>\n",
              "      <th>region</th>\n",
              "    </tr>\n",
              "  </thead>\n",
              "  <tbody>\n",
              "    <tr>\n",
              "      <th>0</th>\n",
              "      <td>0</td>\n",
              "      <td>2015-12-27</td>\n",
              "      <td>1.33</td>\n",
              "      <td>64236.62</td>\n",
              "      <td>1036.74</td>\n",
              "      <td>54454.85</td>\n",
              "      <td>48.16</td>\n",
              "      <td>8696.87</td>\n",
              "      <td>8603.62</td>\n",
              "      <td>93.25</td>\n",
              "      <td>0.00</td>\n",
              "      <td>conventional</td>\n",
              "      <td>2015.0</td>\n",
              "      <td>Albany</td>\n",
              "    </tr>\n",
              "    <tr>\n",
              "      <th>1</th>\n",
              "      <td>1</td>\n",
              "      <td>2015-12-20</td>\n",
              "      <td>1.35</td>\n",
              "      <td>54876.98</td>\n",
              "      <td>674.28</td>\n",
              "      <td>44638.81</td>\n",
              "      <td>58.33</td>\n",
              "      <td>9505.56</td>\n",
              "      <td>9408.07</td>\n",
              "      <td>97.49</td>\n",
              "      <td>0.00</td>\n",
              "      <td>conventional</td>\n",
              "      <td>2015.0</td>\n",
              "      <td>Albany</td>\n",
              "    </tr>\n",
              "    <tr>\n",
              "      <th>2</th>\n",
              "      <td>2</td>\n",
              "      <td>2015-12-13</td>\n",
              "      <td>0.93</td>\n",
              "      <td>118220.22</td>\n",
              "      <td>794.70</td>\n",
              "      <td>109149.67</td>\n",
              "      <td>130.50</td>\n",
              "      <td>8145.35</td>\n",
              "      <td>8042.21</td>\n",
              "      <td>103.14</td>\n",
              "      <td>0.00</td>\n",
              "      <td>conventional</td>\n",
              "      <td>2015.0</td>\n",
              "      <td>Albany</td>\n",
              "    </tr>\n",
              "    <tr>\n",
              "      <th>3</th>\n",
              "      <td>3</td>\n",
              "      <td>2015-12-06</td>\n",
              "      <td>1.08</td>\n",
              "      <td>78992.15</td>\n",
              "      <td>1132.00</td>\n",
              "      <td>71976.41</td>\n",
              "      <td>72.58</td>\n",
              "      <td>5811.16</td>\n",
              "      <td>5677.40</td>\n",
              "      <td>133.76</td>\n",
              "      <td>0.00</td>\n",
              "      <td>conventional</td>\n",
              "      <td>2015.0</td>\n",
              "      <td>Albany</td>\n",
              "    </tr>\n",
              "    <tr>\n",
              "      <th>4</th>\n",
              "      <td>4</td>\n",
              "      <td>2015-11-29</td>\n",
              "      <td>1.28</td>\n",
              "      <td>51039.60</td>\n",
              "      <td>941.48</td>\n",
              "      <td>43838.39</td>\n",
              "      <td>75.78</td>\n",
              "      <td>6183.95</td>\n",
              "      <td>5986.26</td>\n",
              "      <td>197.69</td>\n",
              "      <td>0.00</td>\n",
              "      <td>conventional</td>\n",
              "      <td>2015.0</td>\n",
              "      <td>Albany</td>\n",
              "    </tr>\n",
              "    <tr>\n",
              "      <th>...</th>\n",
              "      <td>...</td>\n",
              "      <td>...</td>\n",
              "      <td>...</td>\n",
              "      <td>...</td>\n",
              "      <td>...</td>\n",
              "      <td>...</td>\n",
              "      <td>...</td>\n",
              "      <td>...</td>\n",
              "      <td>...</td>\n",
              "      <td>...</td>\n",
              "      <td>...</td>\n",
              "      <td>...</td>\n",
              "      <td>...</td>\n",
              "      <td>...</td>\n",
              "    </tr>\n",
              "    <tr>\n",
              "      <th>8801</th>\n",
              "      <td>11</td>\n",
              "      <td>2018-01-07</td>\n",
              "      <td>0.85</td>\n",
              "      <td>303963.18</td>\n",
              "      <td>167628.98</td>\n",
              "      <td>10026.09</td>\n",
              "      <td>409.67</td>\n",
              "      <td>125898.44</td>\n",
              "      <td>108075.96</td>\n",
              "      <td>16240.96</td>\n",
              "      <td>1581.52</td>\n",
              "      <td>conventional</td>\n",
              "      <td>2018.0</td>\n",
              "      <td>Nashville</td>\n",
              "    </tr>\n",
              "    <tr>\n",
              "      <th>8802</th>\n",
              "      <td>0</td>\n",
              "      <td>2018-03-25</td>\n",
              "      <td>1.04</td>\n",
              "      <td>305105.53</td>\n",
              "      <td>171335.77</td>\n",
              "      <td>20076.04</td>\n",
              "      <td>2425.10</td>\n",
              "      <td>111268.62</td>\n",
              "      <td>94895.33</td>\n",
              "      <td>15963.29</td>\n",
              "      <td>410.00</td>\n",
              "      <td>conventional</td>\n",
              "      <td>2018.0</td>\n",
              "      <td>NewOrleansMobile</td>\n",
              "    </tr>\n",
              "    <tr>\n",
              "      <th>8803</th>\n",
              "      <td>1</td>\n",
              "      <td>2018-03-18</td>\n",
              "      <td>1.02</td>\n",
              "      <td>316969.55</td>\n",
              "      <td>181011.25</td>\n",
              "      <td>19002.68</td>\n",
              "      <td>2515.00</td>\n",
              "      <td>114440.62</td>\n",
              "      <td>95470.29</td>\n",
              "      <td>18533.66</td>\n",
              "      <td>436.67</td>\n",
              "      <td>conventional</td>\n",
              "      <td>2018.0</td>\n",
              "      <td>NewOrleansMobile</td>\n",
              "    </tr>\n",
              "    <tr>\n",
              "      <th>8804</th>\n",
              "      <td>2</td>\n",
              "      <td>2018-03-11</td>\n",
              "      <td>1.05</td>\n",
              "      <td>316463.18</td>\n",
              "      <td>177320.17</td>\n",
              "      <td>22478.10</td>\n",
              "      <td>2158.00</td>\n",
              "      <td>114506.91</td>\n",
              "      <td>93807.58</td>\n",
              "      <td>20352.66</td>\n",
              "      <td>346.67</td>\n",
              "      <td>conventional</td>\n",
              "      <td>2018.0</td>\n",
              "      <td>NewOrleansMobile</td>\n",
              "    </tr>\n",
              "    <tr>\n",
              "      <th>8805</th>\n",
              "      <td>3</td>\n",
              "      <td>2018-03-04</td>\n",
              "      <td>1.03</td>\n",
              "      <td>332378.96</td>\n",
              "      <td>190521.47</td>\n",
              "      <td>24646.65</td>\n",
              "      <td>2564.00</td>\n",
              "      <td>114646.00</td>\n",
              "      <td>NaN</td>\n",
              "      <td>NaN</td>\n",
              "      <td>NaN</td>\n",
              "      <td>NaN</td>\n",
              "      <td>NaN</td>\n",
              "      <td>NaN</td>\n",
              "    </tr>\n",
              "  </tbody>\n",
              "</table>\n",
              "<p>8806 rows × 14 columns</p>\n",
              "</div>\n",
              "      <button class=\"colab-df-convert\" onclick=\"convertToInteractive('df-5f53b62e-6ab9-42ab-a3f6-d25bcacbcc74')\"\n",
              "              title=\"Convert this dataframe to an interactive table.\"\n",
              "              style=\"display:none;\">\n",
              "        \n",
              "  <svg xmlns=\"http://www.w3.org/2000/svg\" height=\"24px\"viewBox=\"0 0 24 24\"\n",
              "       width=\"24px\">\n",
              "    <path d=\"M0 0h24v24H0V0z\" fill=\"none\"/>\n",
              "    <path d=\"M18.56 5.44l.94 2.06.94-2.06 2.06-.94-2.06-.94-.94-2.06-.94 2.06-2.06.94zm-11 1L8.5 8.5l.94-2.06 2.06-.94-2.06-.94L8.5 2.5l-.94 2.06-2.06.94zm10 10l.94 2.06.94-2.06 2.06-.94-2.06-.94-.94-2.06-.94 2.06-2.06.94z\"/><path d=\"M17.41 7.96l-1.37-1.37c-.4-.4-.92-.59-1.43-.59-.52 0-1.04.2-1.43.59L10.3 9.45l-7.72 7.72c-.78.78-.78 2.05 0 2.83L4 21.41c.39.39.9.59 1.41.59.51 0 1.02-.2 1.41-.59l7.78-7.78 2.81-2.81c.8-.78.8-2.07 0-2.86zM5.41 20L4 18.59l7.72-7.72 1.47 1.35L5.41 20z\"/>\n",
              "  </svg>\n",
              "      </button>\n",
              "      \n",
              "  <style>\n",
              "    .colab-df-container {\n",
              "      display:flex;\n",
              "      flex-wrap:wrap;\n",
              "      gap: 12px;\n",
              "    }\n",
              "\n",
              "    .colab-df-convert {\n",
              "      background-color: #E8F0FE;\n",
              "      border: none;\n",
              "      border-radius: 50%;\n",
              "      cursor: pointer;\n",
              "      display: none;\n",
              "      fill: #1967D2;\n",
              "      height: 32px;\n",
              "      padding: 0 0 0 0;\n",
              "      width: 32px;\n",
              "    }\n",
              "\n",
              "    .colab-df-convert:hover {\n",
              "      background-color: #E2EBFA;\n",
              "      box-shadow: 0px 1px 2px rgba(60, 64, 67, 0.3), 0px 1px 3px 1px rgba(60, 64, 67, 0.15);\n",
              "      fill: #174EA6;\n",
              "    }\n",
              "\n",
              "    [theme=dark] .colab-df-convert {\n",
              "      background-color: #3B4455;\n",
              "      fill: #D2E3FC;\n",
              "    }\n",
              "\n",
              "    [theme=dark] .colab-df-convert:hover {\n",
              "      background-color: #434B5C;\n",
              "      box-shadow: 0px 1px 3px 1px rgba(0, 0, 0, 0.15);\n",
              "      filter: drop-shadow(0px 1px 2px rgba(0, 0, 0, 0.3));\n",
              "      fill: #FFFFFF;\n",
              "    }\n",
              "  </style>\n",
              "\n",
              "      <script>\n",
              "        const buttonEl =\n",
              "          document.querySelector('#df-5f53b62e-6ab9-42ab-a3f6-d25bcacbcc74 button.colab-df-convert');\n",
              "        buttonEl.style.display =\n",
              "          google.colab.kernel.accessAllowed ? 'block' : 'none';\n",
              "\n",
              "        async function convertToInteractive(key) {\n",
              "          const element = document.querySelector('#df-5f53b62e-6ab9-42ab-a3f6-d25bcacbcc74');\n",
              "          const dataTable =\n",
              "            await google.colab.kernel.invokeFunction('convertToInteractive',\n",
              "                                                     [key], {});\n",
              "          if (!dataTable) return;\n",
              "\n",
              "          const docLinkHtml = 'Like what you see? Visit the ' +\n",
              "            '<a target=\"_blank\" href=https://colab.research.google.com/notebooks/data_table.ipynb>data table notebook</a>'\n",
              "            + ' to learn more about interactive tables.';\n",
              "          element.innerHTML = '';\n",
              "          dataTable['output_type'] = 'display_data';\n",
              "          await google.colab.output.renderOutput(dataTable, element);\n",
              "          const docLink = document.createElement('div');\n",
              "          docLink.innerHTML = docLinkHtml;\n",
              "          element.appendChild(docLink);\n",
              "        }\n",
              "      </script>\n",
              "    </div>\n",
              "  </div>\n",
              "  "
            ]
          },
          "metadata": {},
          "execution_count": 82
        }
      ]
    },
    {
      "cell_type": "markdown",
      "source": [
        "информация дана по разным городам, посмотрим на график"
      ],
      "metadata": {
        "id": "t6K0QP9-Yeq9"
      }
    },
    {
      "cell_type": "code",
      "source": [
        "plt.figure(figsize=(16, 5))\n",
        "df.plot(x=\"Date\", y=\"AveragePrice\")\n",
        "# plt.title(\"P_2\", fontsize=16)\n",
        "# plt.xlabel(\"S_2\", fontsize=14)\n",
        "# plt.ylabel(\"P_2\", fontsize=14);"
      ],
      "metadata": {
        "colab": {
          "base_uri": "https://localhost:8080/",
          "height": 314
        },
        "id": "rlkMdX0EMp0z",
        "outputId": "33db1e37-f8b8-4872-8160-13ed77901a7e"
      },
      "execution_count": 7,
      "outputs": [
        {
          "output_type": "execute_result",
          "data": {
            "text/plain": [
              "<matplotlib.axes._subplots.AxesSubplot at 0x7f7be9735190>"
            ]
          },
          "metadata": {},
          "execution_count": 7
        },
        {
          "output_type": "display_data",
          "data": {
            "text/plain": [
              "<Figure size 1152x360 with 0 Axes>"
            ]
          },
          "metadata": {}
        },
        {
          "output_type": "display_data",
          "data": {
            "text/plain": [
              "<Figure size 432x288 with 1 Axes>"
            ],
            "image/png": "[encoded data removed]"
          },
          "metadata": {
            "needs_background": "light"
          }
        }
      ]
    },
    {
      "cell_type": "markdown",
      "source": [
        "заполним пропуски"
      ],
      "metadata": {
        "id": "6Gc0qi-8Yttt"
      }
    },
    {
      "cell_type": "code",
      "source": [
        "dat.fillna(0)"
      ],
      "metadata": {
        "colab": {
          "base_uri": "https://localhost:8080/",
          "height": 678
        },
        "id": "p6awEd4eM-z3",
        "outputId": "7e10911c-253d-43bc-8410-93240da2cac5"
      },
      "execution_count": 42,
      "outputs": [
        {
          "output_type": "execute_result",
          "data": {
            "text/plain": [
              "      Unnamed: 0        Date  AveragePrice  Total Volume       4046  \\\n",
              "0              0  2015-12-27          1.33      64236.62    1036.74   \n",
              "1              1  2015-12-20          1.35      54876.98     674.28   \n",
              "2              2  2015-12-13          0.93     118220.22     794.70   \n",
              "3              3  2015-12-06          1.08      78992.15    1132.00   \n",
              "4              4  2015-11-29          1.28      51039.60     941.48   \n",
              "...          ...         ...           ...           ...        ...   \n",
              "8801          11  2018-01-07          0.85     303963.18  167628.98   \n",
              "8802           0  2018-03-25          1.04     305105.53  171335.77   \n",
              "8803           1  2018-03-18          1.02     316969.55  181011.25   \n",
              "8804           2  2018-03-11          1.05     316463.18  177320.17   \n",
              "8805           3  2018-03-04          1.03     332378.96  190521.47   \n",
              "\n",
              "           4225     4770  Total Bags  Small Bags  Large Bags  XLarge Bags  \\\n",
              "0      54454.85    48.16     8696.87     8603.62       93.25         0.00   \n",
              "1      44638.81    58.33     9505.56     9408.07       97.49         0.00   \n",
              "2     109149.67   130.50     8145.35     8042.21      103.14         0.00   \n",
              "3      71976.41    72.58     5811.16     5677.40      133.76         0.00   \n",
              "4      43838.39    75.78     6183.95     5986.26      197.69         0.00   \n",
              "...         ...      ...         ...         ...         ...          ...   \n",
              "8801   10026.09   409.67   125898.44   108075.96    16240.96      1581.52   \n",
              "8802   20076.04  2425.10   111268.62    94895.33    15963.29       410.00   \n",
              "8803   19002.68  2515.00   114440.62    95470.29    18533.66       436.67   \n",
              "8804   22478.10  2158.00   114506.91    93807.58    20352.66       346.67   \n",
              "8805   24646.65  2564.00   114646.00        0.00        0.00         0.00   \n",
              "\n",
              "              type    year            region  \n",
              "0     conventional  2015.0            Albany  \n",
              "1     conventional  2015.0            Albany  \n",
              "2     conventional  2015.0            Albany  \n",
              "3     conventional  2015.0            Albany  \n",
              "4     conventional  2015.0            Albany  \n",
              "...            ...     ...               ...  \n",
              "8801  conventional  2018.0         Nashville  \n",
              "8802  conventional  2018.0  NewOrleansMobile  \n",
              "8803  conventional  2018.0  NewOrleansMobile  \n",
              "8804  conventional  2018.0  NewOrleansMobile  \n",
              "8805             0     0.0                 0  \n",
              "\n",
              "[8806 rows x 14 columns]"
            ],
            "text/html": [
              "\n",
              "  <div id=\"df-790f142c-ea94-4f80-b7a4-ff2b1333d581\">\n",
              "    <div class=\"colab-df-container\">\n",
              "      <div>\n",
              "<style scoped>\n",
              "    .dataframe tbody tr th:only-of-type {\n",
              "        vertical-align: middle;\n",
              "    }\n",
              "\n",
              "    .dataframe tbody tr th {\n",
              "        vertical-align: top;\n",
              "    }\n",
              "\n",
              "    .dataframe thead th {\n",
              "        text-align: right;\n",
              "    }\n",
              "</style>\n",
              "<table border=\"1\" class=\"dataframe\">\n",
              "  <thead>\n",
              "    <tr style=\"text-align: right;\">\n",
              "      <th></th>\n",
              "      <th>Unnamed: 0</th>\n",
              "      <th>Date</th>\n",
              "      <th>AveragePrice</th>\n",
              "      <th>Total Volume</th>\n",
              "      <th>4046</th>\n",
              "      <th>4225</th>\n",
              "      <th>4770</th>\n",
              "      <th>Total Bags</th>\n",
              "      <th>Small Bags</th>\n",
              "      <th>Large Bags</th>\n",
              "      <th>XLarge Bags</th>\n",
              "      <th>type</th>\n",
              "      <th>year</th>\n",
              "      <th>region</th>\n",
              "    </tr>\n",
              "  </thead>\n",
              "  <tbody>\n",
              "    <tr>\n",
              "      <th>0</th>\n",
              "      <td>0</td>\n",
              "      <td>2015-12-27</td>\n",
              "      <td>1.33</td>\n",
              "      <td>64236.62</td>\n",
              "      <td>1036.74</td>\n",
              "      <td>54454.85</td>\n",
              "      <td>48.16</td>\n",
              "      <td>8696.87</td>\n",
              "      <td>8603.62</td>\n",
              "      <td>93.25</td>\n",
              "      <td>0.00</td>\n",
              "      <td>conventional</td>\n",
              "      <td>2015.0</td>\n",
              "      <td>Albany</td>\n",
              "    </tr>\n",
              "    <tr>\n",
              "      <th>1</th>\n",
              "      <td>1</td>\n",
              "      <td>2015-12-20</td>\n",
              "      <td>1.35</td>\n",
              "      <td>54876.98</td>\n",
              "      <td>674.28</td>\n",
              "      <td>44638.81</td>\n",
              "      <td>58.33</td>\n",
              "      <td>9505.56</td>\n",
              "      <td>9408.07</td>\n",
              "      <td>97.49</td>\n",
              "      <td>0.00</td>\n",
              "      <td>conventional</td>\n",
              "      <td>2015.0</td>\n",
              "      <td>Albany</td>\n",
              "    </tr>\n",
              "    <tr>\n",
              "      <th>2</th>\n",
              "      <td>2</td>\n",
              "      <td>2015-12-13</td>\n",
              "      <td>0.93</td>\n",
              "      <td>118220.22</td>\n",
              "      <td>794.70</td>\n",
              "      <td>109149.67</td>\n",
              "      <td>130.50</td>\n",
              "      <td>8145.35</td>\n",
              "      <td>8042.21</td>\n",
              "      <td>103.14</td>\n",
              "      <td>0.00</td>\n",
              "      <td>conventional</td>\n",
              "      <td>2015.0</td>\n",
              "      <td>Albany</td>\n",
              "    </tr>\n",
              "    <tr>\n",
              "      <th>3</th>\n",
              "      <td>3</td>\n",
              "      <td>2015-12-06</td>\n",
              "      <td>1.08</td>\n",
              "      <td>78992.15</td>\n",
              "      <td>1132.00</td>\n",
              "      <td>71976.41</td>\n",
              "      <td>72.58</td>\n",
              "      <td>5811.16</td>\n",
              "      <td>5677.40</td>\n",
              "      <td>133.76</td>\n",
              "      <td>0.00</td>\n",
              "      <td>conventional</td>\n",
              "      <td>2015.0</td>\n",
              "      <td>Albany</td>\n",
              "    </tr>\n",
              "    <tr>\n",
              "      <th>4</th>\n",
              "      <td>4</td>\n",
              "      <td>2015-11-29</td>\n",
              "      <td>1.28</td>\n",
              "      <td>51039.60</td>\n",
              "      <td>941.48</td>\n",
              "      <td>43838.39</td>\n",
              "      <td>75.78</td>\n",
              "      <td>6183.95</td>\n",
              "      <td>5986.26</td>\n",
              "      <td>197.69</td>\n",
              "      <td>0.00</td>\n",
              "      <td>conventional</td>\n",
              "      <td>2015.0</td>\n",
              "      <td>Albany</td>\n",
              "    </tr>\n",
              "    <tr>\n",
              "      <th>...</th>\n",
              "      <td>...</td>\n",
              "      <td>...</td>\n",
              "      <td>...</td>\n",
              "      <td>...</td>\n",
              "      <td>...</td>\n",
              "      <td>...</td>\n",
              "      <td>...</td>\n",
              "      <td>...</td>\n",
              "      <td>...</td>\n",
              "      <td>...</td>\n",
              "      <td>...</td>\n",
              "      <td>...</td>\n",
              "      <td>...</td>\n",
              "      <td>...</td>\n",
              "    </tr>\n",
              "    <tr>\n",
              "      <th>8801</th>\n",
              "      <td>11</td>\n",
              "      <td>2018-01-07</td>\n",
              "      <td>0.85</td>\n",
              "      <td>303963.18</td>\n",
              "      <td>167628.98</td>\n",
              "      <td>10026.09</td>\n",
              "      <td>409.67</td>\n",
              "      <td>125898.44</td>\n",
              "      <td>108075.96</td>\n",
              "      <td>16240.96</td>\n",
              "      <td>1581.52</td>\n",
              "      <td>conventional</td>\n",
              "      <td>2018.0</td>\n",
              "      <td>Nashville</td>\n",
              "    </tr>\n",
              "    <tr>\n",
              "      <th>8802</th>\n",
              "      <td>0</td>\n",
              "      <td>2018-03-25</td>\n",
              "      <td>1.04</td>\n",
              "      <td>305105.53</td>\n",
              "      <td>171335.77</td>\n",
              "      <td>20076.04</td>\n",
              "      <td>2425.10</td>\n",
              "      <td>111268.62</td>\n",
              "      <td>94895.33</td>\n",
              "      <td>15963.29</td>\n",
              "      <td>410.00</td>\n",
              "      <td>conventional</td>\n",
              "      <td>2018.0</td>\n",
              "      <td>NewOrleansMobile</td>\n",
              "    </tr>\n",
              "    <tr>\n",
              "      <th>8803</th>\n",
              "      <td>1</td>\n",
              "      <td>2018-03-18</td>\n",
              "      <td>1.02</td>\n",
              "      <td>316969.55</td>\n",
              "      <td>181011.25</td>\n",
              "      <td>19002.68</td>\n",
              "      <td>2515.00</td>\n",
              "      <td>114440.62</td>\n",
              "      <td>95470.29</td>\n",
              "      <td>18533.66</td>\n",
              "      <td>436.67</td>\n",
              "      <td>conventional</td>\n",
              "      <td>2018.0</td>\n",
              "      <td>NewOrleansMobile</td>\n",
              "    </tr>\n",
              "    <tr>\n",
              "      <th>8804</th>\n",
              "      <td>2</td>\n",
              "      <td>2018-03-11</td>\n",
              "      <td>1.05</td>\n",
              "      <td>316463.18</td>\n",
              "      <td>177320.17</td>\n",
              "      <td>22478.10</td>\n",
              "      <td>2158.00</td>\n",
              "      <td>114506.91</td>\n",
              "      <td>93807.58</td>\n",
              "      <td>20352.66</td>\n",
              "      <td>346.67</td>\n",
              "      <td>conventional</td>\n",
              "      <td>2018.0</td>\n",
              "      <td>NewOrleansMobile</td>\n",
              "    </tr>\n",
              "    <tr>\n",
              "      <th>8805</th>\n",
              "      <td>3</td>\n",
              "      <td>2018-03-04</td>\n",
              "      <td>1.03</td>\n",
              "      <td>332378.96</td>\n",
              "      <td>190521.47</td>\n",
              "      <td>24646.65</td>\n",
              "      <td>2564.00</td>\n",
              "      <td>114646.00</td>\n",
              "      <td>0.00</td>\n",
              "      <td>0.00</td>\n",
              "      <td>0.00</td>\n",
              "      <td>0</td>\n",
              "      <td>0.0</td>\n",
              "      <td>0</td>\n",
              "    </tr>\n",
              "  </tbody>\n",
              "</table>\n",
              "<p>8806 rows × 14 columns</p>\n",
              "</div>\n",
              "      <button class=\"colab-df-convert\" onclick=\"convertToInteractive('df-790f142c-ea94-4f80-b7a4-ff2b1333d581')\"\n",
              "              title=\"Convert this dataframe to an interactive table.\"\n",
              "              style=\"display:none;\">\n",
              "        \n",
              "  <svg xmlns=\"http://www.w3.org/2000/svg\" height=\"24px\"viewBox=\"0 0 24 24\"\n",
              "       width=\"24px\">\n",
              "    <path d=\"M0 0h24v24H0V0z\" fill=\"none\"/>\n",
              "    <path d=\"M18.56 5.44l.94 2.06.94-2.06 2.06-.94-2.06-.94-.94-2.06-.94 2.06-2.06.94zm-11 1L8.5 8.5l.94-2.06 2.06-.94-2.06-.94L8.5 2.5l-.94 2.06-2.06.94zm10 10l.94 2.06.94-2.06 2.06-.94-2.06-.94-.94-2.06-.94 2.06-2.06.94z\"/><path d=\"M17.41 7.96l-1.37-1.37c-.4-.4-.92-.59-1.43-.59-.52 0-1.04.2-1.43.59L10.3 9.45l-7.72 7.72c-.78.78-.78 2.05 0 2.83L4 21.41c.39.39.9.59 1.41.59.51 0 1.02-.2 1.41-.59l7.78-7.78 2.81-2.81c.8-.78.8-2.07 0-2.86zM5.41 20L4 18.59l7.72-7.72 1.47 1.35L5.41 20z\"/>\n",
              "  </svg>\n",
              "      </button>\n",
              "      \n",
              "  <style>\n",
              "    .colab-df-container {\n",
              "      display:flex;\n",
              "      flex-wrap:wrap;\n",
              "      gap: 12px;\n",
              "    }\n",
              "\n",
              "    .colab-df-convert {\n",
              "      background-color: #E8F0FE;\n",
              "      border: none;\n",
              "      border-radius: 50%;\n",
              "      cursor: pointer;\n",
              "      display: none;\n",
              "      fill: #1967D2;\n",
              "      height: 32px;\n",
              "      padding: 0 0 0 0;\n",
              "      width: 32px;\n",
              "    }\n",
              "\n",
              "    .colab-df-convert:hover {\n",
              "      background-color: #E2EBFA;\n",
              "      box-shadow: 0px 1px 2px rgba(60, 64, 67, 0.3), 0px 1px 3px 1px rgba(60, 64, 67, 0.15);\n",
              "      fill: #174EA6;\n",
              "    }\n",
              "\n",
              "    [theme=dark] .colab-df-convert {\n",
              "      background-color: #3B4455;\n",
              "      fill: #D2E3FC;\n",
              "    }\n",
              "\n",
              "    [theme=dark] .colab-df-convert:hover {\n",
              "      background-color: #434B5C;\n",
              "      box-shadow: 0px 1px 3px 1px rgba(0, 0, 0, 0.15);\n",
              "      filter: drop-shadow(0px 1px 2px rgba(0, 0, 0, 0.3));\n",
              "      fill: #FFFFFF;\n",
              "    }\n",
              "  </style>\n",
              "\n",
              "      <script>\n",
              "        const buttonEl =\n",
              "          document.querySelector('#df-790f142c-ea94-4f80-b7a4-ff2b1333d581 button.colab-df-convert');\n",
              "        buttonEl.style.display =\n",
              "          google.colab.kernel.accessAllowed ? 'block' : 'none';\n",
              "\n",
              "        async function convertToInteractive(key) {\n",
              "          const element = document.querySelector('#df-790f142c-ea94-4f80-b7a4-ff2b1333d581');\n",
              "          const dataTable =\n",
              "            await google.colab.kernel.invokeFunction('convertToInteractive',\n",
              "                                                     [key], {});\n",
              "          if (!dataTable) return;\n",
              "\n",
              "          const docLinkHtml = 'Like what you see? Visit the ' +\n",
              "            '<a target=\"_blank\" href=https://colab.research.google.com/notebooks/data_table.ipynb>data table notebook</a>'\n",
              "            + ' to learn more about interactive tables.';\n",
              "          element.innerHTML = '';\n",
              "          dataTable['output_type'] = 'display_data';\n",
              "          await google.colab.output.renderOutput(dataTable, element);\n",
              "          const docLink = document.createElement('div');\n",
              "          docLink.innerHTML = docLinkHtml;\n",
              "          element.appendChild(docLink);\n",
              "        }\n",
              "      </script>\n",
              "    </div>\n",
              "  </div>\n",
              "  "
            ]
          },
          "metadata": {},
          "execution_count": 42
        }
      ]
    },
    {
      "cell_type": "markdown",
      "source": [
        "будем прогнощировать цены в Нью Йорке"
      ],
      "metadata": {
        "id": "d8fROgqBYwl8"
      }
    },
    {
      "cell_type": "code",
      "source": [
        "data = df.loc[df[\"region\"] == 'NewYork']"
      ],
      "metadata": {
        "id": "BnA2rES4Noo_"
      },
      "execution_count": 18,
      "outputs": []
    },
    {
      "cell_type": "code",
      "source": [
        "data"
      ],
      "metadata": {
        "colab": {
          "base_uri": "https://localhost:8080/",
          "height": 678
        },
        "id": "XBVd2CIFP3qU",
        "outputId": "3d736843-ffa9-4f7e-a249-f5c18f7b603e"
      },
      "execution_count": 19,
      "outputs": [
        {
          "output_type": "execute_result",
          "data": {
            "text/plain": [
              "      Unnamed: 0        Date  AveragePrice  Total Volume      4046  \\\n",
              "1456           0  2015-12-27          1.17    1129876.05  13711.19   \n",
              "1457           1  2015-12-20          1.23    1139347.98  13998.35   \n",
              "1458           2  2015-12-13          1.12    1254805.29  15990.38   \n",
              "1459           3  2015-12-06          1.20    1068971.54  15730.10   \n",
              "1460           4  2015-11-29          1.16     999169.64  13652.41   \n",
              "...          ...         ...           ...           ...       ...   \n",
              "7148          48  2017-01-29          1.52    1270564.47  17844.88   \n",
              "7149          49  2017-01-22          1.48    1721917.04  15652.26   \n",
              "7150          50  2017-01-15          1.38    1384264.04  14301.61   \n",
              "7151          51  2017-01-08          1.29    1532074.69  18585.10   \n",
              "7152          52  2017-01-01          1.44     940983.17  10498.68   \n",
              "\n",
              "            4225       4770  Total Bags  Small Bags  Large Bags  XLarge Bags  \\\n",
              "1456   872603.60     894.58   242666.68   208470.99    34191.25         4.44   \n",
              "1457   867406.68     803.83   257139.12   212615.20    44523.92         0.00   \n",
              "1458   975504.52    1657.92   261652.47   222446.62    39205.85         0.00   \n",
              "1459   887708.08     892.62   164640.74   136643.23    27997.51         0.00   \n",
              "1460   814571.57     863.58   170082.08   139508.76    30573.32         0.00   \n",
              "...          ...        ...         ...         ...         ...          ...   \n",
              "7148   816423.62   94445.56   341850.41   285574.23    51331.29      4944.89   \n",
              "7149  1169600.51  206537.54   330126.73   288384.55    36337.65      5404.53   \n",
              "7150   995747.96   58355.49   315858.98   275101.56    38860.92      1896.50   \n",
              "7151  1207607.23    6403.22   299479.14   258470.17    40822.02       186.95   \n",
              "7152   668183.16   22804.60   239496.73   208504.55    30684.59       307.59   \n",
              "\n",
              "              type    year   region  \n",
              "1456  conventional  2015.0  NewYork  \n",
              "1457  conventional  2015.0  NewYork  \n",
              "1458  conventional  2015.0  NewYork  \n",
              "1459  conventional  2015.0  NewYork  \n",
              "1460  conventional  2015.0  NewYork  \n",
              "...            ...     ...      ...  \n",
              "7148  conventional  2017.0  NewYork  \n",
              "7149  conventional  2017.0  NewYork  \n",
              "7150  conventional  2017.0  NewYork  \n",
              "7151  conventional  2017.0  NewYork  \n",
              "7152  conventional  2017.0  NewYork  \n",
              "\n",
              "[157 rows x 14 columns]"
            ],
            "text/html": [
              "\n",
              "  <div id=\"df-581fd761-fb16-49f5-9db6-2c985808732d\">\n",
              "    <div class=\"colab-df-container\">\n",
              "      <div>\n",
              "<style scoped>\n",
              "    .dataframe tbody tr th:only-of-type {\n",
              "        vertical-align: middle;\n",
              "    }\n",
              "\n",
              "    .dataframe tbody tr th {\n",
              "        vertical-align: top;\n",
              "    }\n",
              "\n",
              "    .dataframe thead th {\n",
              "        text-align: right;\n",
              "    }\n",
              "</style>\n",
              "<table border=\"1\" class=\"dataframe\">\n",
              "  <thead>\n",
              "    <tr style=\"text-align: right;\">\n",
              "      <th></th>\n",
              "      <th>Unnamed: 0</th>\n",
              "      <th>Date</th>\n",
              "      <th>AveragePrice</th>\n",
              "      <th>Total Volume</th>\n",
              "      <th>4046</th>\n",
              "      <th>4225</th>\n",
              "      <th>4770</th>\n",
              "      <th>Total Bags</th>\n",
              "      <th>Small Bags</th>\n",
              "      <th>Large Bags</th>\n",
              "      <th>XLarge Bags</th>\n",
              "      <th>type</th>\n",
              "      <th>year</th>\n",
              "      <th>region</th>\n",
              "    </tr>\n",
              "  </thead>\n",
              "  <tbody>\n",
              "    <tr>\n",
              "      <th>1456</th>\n",
              "      <td>0</td>\n",
              "      <td>2015-12-27</td>\n",
              "      <td>1.17</td>\n",
              "      <td>1129876.05</td>\n",
              "      <td>13711.19</td>\n",
              "      <td>872603.60</td>\n",
              "      <td>894.58</td>\n",
              "      <td>242666.68</td>\n",
              "      <td>208470.99</td>\n",
              "      <td>34191.25</td>\n",
              "      <td>4.44</td>\n",
              "      <td>conventional</td>\n",
              "      <td>2015.0</td>\n",
              "      <td>NewYork</td>\n",
              "    </tr>\n",
              "    <tr>\n",
              "      <th>1457</th>\n",
              "      <td>1</td>\n",
              "      <td>2015-12-20</td>\n",
              "      <td>1.23</td>\n",
              "      <td>1139347.98</td>\n",
              "      <td>13998.35</td>\n",
              "      <td>867406.68</td>\n",
              "      <td>803.83</td>\n",
              "      <td>257139.12</td>\n",
              "      <td>212615.20</td>\n",
              "      <td>44523.92</td>\n",
              "      <td>0.00</td>\n",
              "      <td>conventional</td>\n",
              "      <td>2015.0</td>\n",
              "      <td>NewYork</td>\n",
              "    </tr>\n",
              "    <tr>\n",
              "      <th>1458</th>\n",
              "      <td>2</td>\n",
              "      <td>2015-12-13</td>\n",
              "      <td>1.12</td>\n",
              "      <td>1254805.29</td>\n",
              "      <td>15990.38</td>\n",
              "      <td>975504.52</td>\n",
              "      <td>1657.92</td>\n",
              "      <td>261652.47</td>\n",
              "      <td>222446.62</td>\n",
              "      <td>39205.85</td>\n",
              "      <td>0.00</td>\n",
              "      <td>conventional</td>\n",
              "      <td>2015.0</td>\n",
              "      <td>NewYork</td>\n",
              "    </tr>\n",
              "    <tr>\n",
              "      <th>1459</th>\n",
              "      <td>3</td>\n",
              "      <td>2015-12-06</td>\n",
              "      <td>1.20</td>\n",
              "      <td>1068971.54</td>\n",
              "      <td>15730.10</td>\n",
              "      <td>887708.08</td>\n",
              "      <td>892.62</td>\n",
              "      <td>164640.74</td>\n",
              "      <td>136643.23</td>\n",
              "      <td>27997.51</td>\n",
              "      <td>0.00</td>\n",
              "      <td>conventional</td>\n",
              "      <td>2015.0</td>\n",
              "      <td>NewYork</td>\n",
              "    </tr>\n",
              "    <tr>\n",
              "      <th>1460</th>\n",
              "      <td>4</td>\n",
              "      <td>2015-11-29</td>\n",
              "      <td>1.16</td>\n",
              "      <td>999169.64</td>\n",
              "      <td>13652.41</td>\n",
              "      <td>814571.57</td>\n",
              "      <td>863.58</td>\n",
              "      <td>170082.08</td>\n",
              "      <td>139508.76</td>\n",
              "      <td>30573.32</td>\n",
              "      <td>0.00</td>\n",
              "      <td>conventional</td>\n",
              "      <td>2015.0</td>\n",
              "      <td>NewYork</td>\n",
              "    </tr>\n",
              "    <tr>\n",
              "      <th>...</th>\n",
              "      <td>...</td>\n",
              "      <td>...</td>\n",
              "      <td>...</td>\n",
              "      <td>...</td>\n",
              "      <td>...</td>\n",
              "      <td>...</td>\n",
              "      <td>...</td>\n",
              "      <td>...</td>\n",
              "      <td>...</td>\n",
              "      <td>...</td>\n",
              "      <td>...</td>\n",
              "      <td>...</td>\n",
              "      <td>...</td>\n",
              "      <td>...</td>\n",
              "    </tr>\n",
              "    <tr>\n",
              "      <th>7148</th>\n",
              "      <td>48</td>\n",
              "      <td>2017-01-29</td>\n",
              "      <td>1.52</td>\n",
              "      <td>1270564.47</td>\n",
              "      <td>17844.88</td>\n",
              "      <td>816423.62</td>\n",
              "      <td>94445.56</td>\n",
              "      <td>341850.41</td>\n",
              "      <td>285574.23</td>\n",
              "      <td>51331.29</td>\n",
              "      <td>4944.89</td>\n",
              "      <td>conventional</td>\n",
              "      <td>2017.0</td>\n",
              "      <td>NewYork</td>\n",
              "    </tr>\n",
              "    <tr>\n",
              "      <th>7149</th>\n",
              "      <td>49</td>\n",
              "      <td>2017-01-22</td>\n",
              "      <td>1.48</td>\n",
              "      <td>1721917.04</td>\n",
              "      <td>15652.26</td>\n",
              "      <td>1169600.51</td>\n",
              "      <td>206537.54</td>\n",
              "      <td>330126.73</td>\n",
              "      <td>288384.55</td>\n",
              "      <td>36337.65</td>\n",
              "      <td>5404.53</td>\n",
              "      <td>conventional</td>\n",
              "      <td>2017.0</td>\n",
              "      <td>NewYork</td>\n",
              "    </tr>\n",
              "    <tr>\n",
              "      <th>7150</th>\n",
              "      <td>50</td>\n",
              "      <td>2017-01-15</td>\n",
              "      <td>1.38</td>\n",
              "      <td>1384264.04</td>\n",
              "      <td>14301.61</td>\n",
              "      <td>995747.96</td>\n",
              "      <td>58355.49</td>\n",
              "      <td>315858.98</td>\n",
              "      <td>275101.56</td>\n",
              "      <td>38860.92</td>\n",
              "      <td>1896.50</td>\n",
              "      <td>conventional</td>\n",
              "      <td>2017.0</td>\n",
              "      <td>NewYork</td>\n",
              "    </tr>\n",
              "    <tr>\n",
              "      <th>7151</th>\n",
              "      <td>51</td>\n",
              "      <td>2017-01-08</td>\n",
              "      <td>1.29</td>\n",
              "      <td>1532074.69</td>\n",
              "      <td>18585.10</td>\n",
              "      <td>1207607.23</td>\n",
              "      <td>6403.22</td>\n",
              "      <td>299479.14</td>\n",
              "      <td>258470.17</td>\n",
              "      <td>40822.02</td>\n",
              "      <td>186.95</td>\n",
              "      <td>conventional</td>\n",
              "      <td>2017.0</td>\n",
              "      <td>NewYork</td>\n",
              "    </tr>\n",
              "    <tr>\n",
              "      <th>7152</th>\n",
              "      <td>52</td>\n",
              "      <td>2017-01-01</td>\n",
              "      <td>1.44</td>\n",
              "      <td>940983.17</td>\n",
              "      <td>10498.68</td>\n",
              "      <td>668183.16</td>\n",
              "      <td>22804.60</td>\n",
              "      <td>239496.73</td>\n",
              "      <td>208504.55</td>\n",
              "      <td>30684.59</td>\n",
              "      <td>307.59</td>\n",
              "      <td>conventional</td>\n",
              "      <td>2017.0</td>\n",
              "      <td>NewYork</td>\n",
              "    </tr>\n",
              "  </tbody>\n",
              "</table>\n",
              "<p>157 rows × 14 columns</p>\n",
              "</div>\n",
              "      <button class=\"colab-df-convert\" onclick=\"convertToInteractive('df-581fd761-fb16-49f5-9db6-2c985808732d')\"\n",
              "              title=\"Convert this dataframe to an interactive table.\"\n",
              "              style=\"display:none;\">\n",
              "        \n",
              "  <svg xmlns=\"http://www.w3.org/2000/svg\" height=\"24px\"viewBox=\"0 0 24 24\"\n",
              "       width=\"24px\">\n",
              "    <path d=\"M0 0h24v24H0V0z\" fill=\"none\"/>\n",
              "    <path d=\"M18.56 5.44l.94 2.06.94-2.06 2.06-.94-2.06-.94-.94-2.06-.94 2.06-2.06.94zm-11 1L8.5 8.5l.94-2.06 2.06-.94-2.06-.94L8.5 2.5l-.94 2.06-2.06.94zm10 10l.94 2.06.94-2.06 2.06-.94-2.06-.94-.94-2.06-.94 2.06-2.06.94z\"/><path d=\"M17.41 7.96l-1.37-1.37c-.4-.4-.92-.59-1.43-.59-.52 0-1.04.2-1.43.59L10.3 9.45l-7.72 7.72c-.78.78-.78 2.05 0 2.83L4 21.41c.39.39.9.59 1.41.59.51 0 1.02-.2 1.41-.59l7.78-7.78 2.81-2.81c.8-.78.8-2.07 0-2.86zM5.41 20L4 18.59l7.72-7.72 1.47 1.35L5.41 20z\"/>\n",
              "  </svg>\n",
              "      </button>\n",
              "      \n",
              "  <style>\n",
              "    .colab-df-container {\n",
              "      display:flex;\n",
              "      flex-wrap:wrap;\n",
              "      gap: 12px;\n",
              "    }\n",
              "\n",
              "    .colab-df-convert {\n",
              "      background-color: #E8F0FE;\n",
              "      border: none;\n",
              "      border-radius: 50%;\n",
              "      cursor: pointer;\n",
              "      display: none;\n",
              "      fill: #1967D2;\n",
              "      height: 32px;\n",
              "      padding: 0 0 0 0;\n",
              "      width: 32px;\n",
              "    }\n",
              "\n",
              "    .colab-df-convert:hover {\n",
              "      background-color: #E2EBFA;\n",
              "      box-shadow: 0px 1px 2px rgba(60, 64, 67, 0.3), 0px 1px 3px 1px rgba(60, 64, 67, 0.15);\n",
              "      fill: #174EA6;\n",
              "    }\n",
              "\n",
              "    [theme=dark] .colab-df-convert {\n",
              "      background-color: #3B4455;\n",
              "      fill: #D2E3FC;\n",
              "    }\n",
              "\n",
              "    [theme=dark] .colab-df-convert:hover {\n",
              "      background-color: #434B5C;\n",
              "      box-shadow: 0px 1px 3px 1px rgba(0, 0, 0, 0.15);\n",
              "      filter: drop-shadow(0px 1px 2px rgba(0, 0, 0, 0.3));\n",
              "      fill: #FFFFFF;\n",
              "    }\n",
              "  </style>\n",
              "\n",
              "      <script>\n",
              "        const buttonEl =\n",
              "          document.querySelector('#df-581fd761-fb16-49f5-9db6-2c985808732d button.colab-df-convert');\n",
              "        buttonEl.style.display =\n",
              "          google.colab.kernel.accessAllowed ? 'block' : 'none';\n",
              "\n",
              "        async function convertToInteractive(key) {\n",
              "          const element = document.querySelector('#df-581fd761-fb16-49f5-9db6-2c985808732d');\n",
              "          const dataTable =\n",
              "            await google.colab.kernel.invokeFunction('convertToInteractive',\n",
              "                                                     [key], {});\n",
              "          if (!dataTable) return;\n",
              "\n",
              "          const docLinkHtml = 'Like what you see? Visit the ' +\n",
              "            '<a target=\"_blank\" href=https://colab.research.google.com/notebooks/data_table.ipynb>data table notebook</a>'\n",
              "            + ' to learn more about interactive tables.';\n",
              "          element.innerHTML = '';\n",
              "          dataTable['output_type'] = 'display_data';\n",
              "          await google.colab.output.renderOutput(dataTable, element);\n",
              "          const docLink = document.createElement('div');\n",
              "          docLink.innerHTML = docLinkHtml;\n",
              "          element.appendChild(docLink);\n",
              "        }\n",
              "      </script>\n",
              "    </div>\n",
              "  </div>\n",
              "  "
            ]
          },
          "metadata": {},
          "execution_count": 19
        }
      ]
    },
    {
      "cell_type": "markdown",
      "source": [
        "Визуализируем эти значения"
      ],
      "metadata": {
        "id": "5kmw_wDYY_90"
      }
    },
    {
      "cell_type": "code",
      "source": [
        "plt.figure(figsize=(16, 5))\n",
        "data.plot(x=\"Date\", y=\"AveragePrice\")"
      ],
      "metadata": {
        "colab": {
          "base_uri": "https://localhost:8080/",
          "height": 314
        },
        "id": "48NVTe-oNX74",
        "outputId": "e8338170-375f-482d-dcbf-3511f1e191aa"
      },
      "execution_count": 20,
      "outputs": [
        {
          "output_type": "execute_result",
          "data": {
            "text/plain": [
              "<matplotlib.axes._subplots.AxesSubplot at 0x7f7be962a0d0>"
            ]
          },
          "metadata": {},
          "execution_count": 20
        },
        {
          "output_type": "display_data",
          "data": {
            "text/plain": [
              "<Figure size 1152x360 with 0 Axes>"
            ]
          },
          "metadata": {}
        },
        {
          "output_type": "display_data",
          "data": {
            "text/plain": [
              "<Figure size 432x288 with 1 Axes>"
            ],
            "image/png": "[encoded data removed]"
          },
          "metadata": {
            "needs_background": "light"
          }
        }
      ]
    },
    {
      "cell_type": "code",
      "source": [
        "fig = px.scatter(data, x=\"Date\", y=\"AveragePrice\")\n",
        "fig.show()"
      ],
      "metadata": {
        "colab": {
          "base_uri": "https://localhost:8080/",
          "height": 542
        },
        "id": "0xx0ni0uQEl-",
        "outputId": "2866ac88-da2c-4c2a-f4e5-46c501e39a05"
      },
      "execution_count": 84,
      "outputs": [
        {
          "output_type": "display_data",
          "data": {
            "text/html": [
              "<html>\n",
              "<head><meta charset=\"utf-8\" /></head>\n",
              "<body>\n",
              "    <div>            <script src=\"https://cdnjs.cloudflare.com/ajax/libs/mathjax/2.7.5/MathJax.js?config=TeX-AMS-MML_SVG\"></script><script type=\"text/javascript\">if (window.MathJax) {MathJax.Hub.Config({SVG: {font: \"STIX-Web\"}});}</script>                <script type=\"text/javascript\">window.PlotlyConfig = {MathJaxConfig: 'local'};</script>\n",
              "        <script src=\"https://cdn.plot.ly/plotly-2.8.3.min.js\"></script>                <div id=\"ebe080a0-a041-4963-923e-6f912a2a2d61\" class=\"plotly-graph-div\" style=\"height:525px; width:100%;\"></div>            <script type=\"text/javascript\">                                    window.PLOTLYENV=window.PLOTLYENV || {};                                    if (document.getElementById(\"ebe080a0-a041-4963-923e-6f912a2a2d61\")) {                    Plotly.newPlot(                        \"ebe080a0-a041-4963-923e-6f912a2a2d61\",                        [{\"hovertemplate\":\"Date=%{x}<br>AveragePrice=%{y}<extra></extra>\",\"legendgroup\":\"\",\"marker\":{\"color\":\"#636efa\",\"symbol\":\"circle\"},\"mode\":\"markers\",\"name\":\"\",\"orientation\":\"v\",\"showlegend\":false,\"x\":[\"2015-12-27\",\"2015-12-20\",\"2015-12-13\",\"2015-12-06\",\"2015-11-29\",\"2015-11-22\",\"2015-11-15\",\"2015-11-08\",\"2015-11-01\",\"2015-10-25\",\"2015-10-18\",\"2015-10-11\",\"2015-10-04\",\"2015-09-27\",\"2015-09-20\",\"2015-09-13\",\"2015-09-06\",\"2015-08-30\",\"2015-08-23\",\"2015-08-16\",\"2015-08-09\",\"2015-08-02\",\"2015-07-26\",\"2015-07-19\",\"2015-07-12\",\"2015-07-05\",\"2015-06-28\",\"2015-06-21\",\"2015-06-14\",\"2015-06-07\",\"2015-05-31\",\"2015-05-24\",\"2015-05-17\",\"2015-05-10\",\"2015-05-03\",\"2015-04-26\",\"2015-04-19\",\"2015-04-12\",\"2015-04-05\",\"2015-03-29\",\"2015-03-22\",\"2015-03-15\",\"2015-03-08\",\"2015-03-01\",\"2015-02-22\",\"2015-02-15\",\"2015-02-08\",\"2015-02-01\",\"2015-01-25\",\"2015-01-18\",\"2015-01-11\",\"2015-01-04\",\"2016-12-25\",\"2016-12-18\",\"2016-12-11\",\"2016-12-04\",\"2016-11-27\",\"2016-11-20\",\"2016-11-13\",\"2016-11-06\",\"2016-10-30\",\"2016-10-23\",\"2016-10-16\",\"2016-10-09\",\"2016-10-02\",\"2016-09-25\",\"2016-09-18\",\"2016-09-11\",\"2016-09-04\",\"2016-08-28\",\"2016-08-21\",\"2016-08-14\",\"2016-08-07\",\"2016-07-31\",\"2016-07-24\",\"2016-07-17\",\"2016-07-10\",\"2016-07-03\",\"2016-06-26\",\"2016-06-19\",\"2016-06-12\",\"2016-06-05\",\"2016-05-29\",\"2016-05-22\",\"2016-05-15\",\"2016-05-08\",\"2016-05-01\",\"2016-04-24\",\"2016-04-17\",\"2016-04-10\",\"2016-04-03\",\"2016-03-27\",\"2016-03-20\",\"2016-03-13\",\"2016-03-06\",\"2016-02-28\",\"2016-02-21\",\"2016-02-14\",\"2016-02-07\",\"2016-01-31\",\"2016-01-24\",\"2016-01-17\",\"2016-01-10\",\"2016-01-03\",\"2017-12-31\",\"2017-12-24\",\"2017-12-17\",\"2017-12-10\",\"2017-12-03\",\"2017-11-26\",\"2017-11-19\",\"2017-11-12\",\"2017-11-05\",\"2017-10-29\",\"2017-10-22\",\"2017-10-15\",\"2017-10-08\",\"2017-10-01\",\"2017-09-24\",\"2017-09-17\",\"2017-09-10\",\"2017-09-03\",\"2017-08-27\",\"2017-08-20\",\"2017-08-13\",\"2017-08-06\",\"2017-07-30\",\"2017-07-23\",\"2017-07-16\",\"2017-07-09\",\"2017-07-02\",\"2017-06-25\",\"2017-06-18\",\"2017-06-11\",\"2017-06-04\",\"2017-05-28\",\"2017-05-21\",\"2017-05-14\",\"2017-05-07\",\"2017-04-30\",\"2017-04-23\",\"2017-04-16\",\"2017-04-09\",\"2017-04-02\",\"2017-03-26\",\"2017-03-19\",\"2017-03-12\",\"2017-03-05\",\"2017-02-26\",\"2017-02-19\",\"2017-02-12\",\"2017-02-05\",\"2017-01-29\",\"2017-01-22\",\"2017-01-15\",\"2017-01-08\",\"2017-01-01\"],\"xaxis\":\"x\",\"y\":[1.17,1.23,1.12,1.2,1.16,1.14,1.04,1.13,1.06,1.23,0.97,1.28,1.26,1.16,1.18,1.16,1.22,1.22,1.1,1.14,1.1,1.14,1.28,1.37,1.27,1.18,1.36,1.28,1.32,1.32,1.43,1.37,1.43,1.22,1.32,1.44,1.42,1.43,1.41,1.36,1.33,1.45,1.36,1.18,1.33,1.36,1.11,1.36,1.36,1.37,1.34,1.09,1.36,1.26,1.32,1.52,1.56,1.59,1.9,1.93,1.99,1.95,1.89,1.76,1.72,1.62,1.5,1.26,1.47,1.58,1.47,1.49,1.54,1.7,1.68,1.64,1.51,1.53,1.2,1.5,1.44,1.47,1.08,1.14,1.14,0.77,1.22,1.12,1.08,1.09,1.31,1.32,1.09,1.17,1.24,1.15,1.21,1.09,0.95,1.02,1.3,1.01,1.15,1.07,1.33,1.34,1.41,1.14,1.41,1.42,1.37,1.52,1.41,1.57,1.54,1.68,1.69,1.67,1.65,1.61,1.61,1.8,1.81,1.75,1.58,1.56,1.52,1.55,1.57,1.63,1.72,1.47,1.82,1.74,1.83,1.75,1.8,1.75,1.65,1.84,1.68,1.76,1.75,1.74,1.72,1.7,1.76,1.39,1.55,1.28,1.19,1.24,1.52,1.48,1.38,1.29,1.44],\"yaxis\":\"y\",\"type\":\"scatter\"}],                        {\"template\":{\"data\":{\"bar\":[{\"error_x\":{\"color\":\"#2a3f5f\"},\"error_y\":{\"color\":\"#2a3f5f\"},\"marker\":{\"line\":{\"color\":\"#E5ECF6\",\"width\":0.5},\"pattern\":{\"fillmode\":\"overlay\",\"size\":10,\"solidity\":0.2}},\"type\":\"bar\"}],\"barpolar\":[{\"marker\":{\"line\":{\"color\":\"#E5ECF6\",\"width\":0.5},\"pattern\":{\"fillmode\":\"overlay\",\"size\":10,\"solidity\":0.2}},\"type\":\"barpolar\"}],\"carpet\":[{\"aaxis\":{\"endlinecolor\":\"#2a3f5f\",\"gridcolor\":\"white\",\"linecolor\":\"white\",\"minorgridcolor\":\"white\",\"startlinecolor\":\"#2a3f5f\"},\"baxis\":{\"endlinecolor\":\"#2a3f5f\",\"gridcolor\":\"white\",\"linecolor\":\"white\",\"minorgridcolor\":\"white\",\"startlinecolor\":\"#2a3f5f\"},\"type\":\"carpet\"}],\"choropleth\":[{\"colorbar\":{\"outlinewidth\":0,\"ticks\":\"\"},\"type\":\"choropleth\"}],\"contour\":[{\"colorbar\":{\"outlinewidth\":0,\"ticks\":\"\"},\"colorscale\":[[0.0,\"#0d0887\"],[0.1111111111111111,\"#46039f\"],[0.2222222222222222,\"#7201a8\"],[0.3333333333333333,\"#9c179e\"],[0.4444444444444444,\"#bd3786\"],[0.5555555555555556,\"#d8576b\"],[0.6666666666666666,\"#ed7953\"],[0.7777777777777778,\"#fb9f3a\"],[0.8888888888888888,\"#fdca26\"],[1.0,\"#f0f921\"]],\"type\":\"contour\"}],\"contourcarpet\":[{\"colorbar\":{\"outlinewidth\":0,\"ticks\":\"\"},\"type\":\"contourcarpet\"}],\"heatmap\":[{\"colorbar\":{\"outlinewidth\":0,\"ticks\":\"\"},\"colorscale\":[[0.0,\"#0d0887\"],[0.1111111111111111,\"#46039f\"],[0.2222222222222222,\"#7201a8\"],[0.3333333333333333,\"#9c179e\"],[0.4444444444444444,\"#bd3786\"],[0.5555555555555556,\"#d8576b\"],[0.6666666666666666,\"#ed7953\"],[0.7777777777777778,\"#fb9f3a\"],[0.8888888888888888,\"#fdca26\"],[1.0,\"#f0f921\"]],\"type\":\"heatmap\"}],\"heatmapgl\":[{\"colorbar\":{\"outlinewidth\":0,\"ticks\":\"\"},\"colorscale\":[[0.0,\"#0d0887\"],[0.1111111111111111,\"#46039f\"],[0.2222222222222222,\"#7201a8\"],[0.3333333333333333,\"#9c179e\"],[0.4444444444444444,\"#bd3786\"],[0.5555555555555556,\"#d8576b\"],[0.6666666666666666,\"#ed7953\"],[0.7777777777777778,\"#fb9f3a\"],[0.8888888888888888,\"#fdca26\"],[1.0,\"#f0f921\"]],\"type\":\"heatmapgl\"}],\"histogram\":[{\"marker\":{\"pattern\":{\"fillmode\":\"overlay\",\"size\":10,\"solidity\":0.2}},\"type\":\"histogram\"}],\"histogram2d\":[{\"colorbar\":{\"outlinewidth\":0,\"ticks\":\"\"},\"colorscale\":[[0.0,\"#0d0887\"],[0.1111111111111111,\"#46039f\"],[0.2222222222222222,\"#7201a8\"],[0.3333333333333333,\"#9c179e\"],[0.4444444444444444,\"#bd3786\"],[0.5555555555555556,\"#d8576b\"],[0.6666666666666666,\"#ed7953\"],[0.7777777777777778,\"#fb9f3a\"],[0.8888888888888888,\"#fdca26\"],[1.0,\"#f0f921\"]],\"type\":\"histogram2d\"}],\"histogram2dcontour\":[{\"colorbar\":{\"outlinewidth\":0,\"ticks\":\"\"},\"colorscale\":[[0.0,\"#0d0887\"],[0.1111111111111111,\"#46039f\"],[0.2222222222222222,\"#7201a8\"],[0.3333333333333333,\"#9c179e\"],[0.4444444444444444,\"#bd3786\"],[0.5555555555555556,\"#d8576b\"],[0.6666666666666666,\"#ed7953\"],[0.7777777777777778,\"#fb9f3a\"],[0.8888888888888888,\"#fdca26\"],[1.0,\"#f0f921\"]],\"type\":\"histogram2dcontour\"}],\"mesh3d\":[{\"colorbar\":{\"outlinewidth\":0,\"ticks\":\"\"},\"type\":\"mesh3d\"}],\"parcoords\":[{\"line\":{\"colorbar\":{\"outlinewidth\":0,\"ticks\":\"\"}},\"type\":\"parcoords\"}],\"pie\":[{\"automargin\":true,\"type\":\"pie\"}],\"scatter\":[{\"marker\":{\"colorbar\":{\"outlinewidth\":0,\"ticks\":\"\"}},\"type\":\"scatter\"}],\"scatter3d\":[{\"line\":{\"colorbar\":{\"outlinewidth\":0,\"ticks\":\"\"}},\"marker\":{\"colorbar\":{\"outlinewidth\":0,\"ticks\":\"\"}},\"type\":\"scatter3d\"}],\"scattercarpet\":[{\"marker\":{\"colorbar\":{\"outlinewidth\":0,\"ticks\":\"\"}},\"type\":\"scattercarpet\"}],\"scattergeo\":[{\"marker\":{\"colorbar\":{\"outlinewidth\":0,\"ticks\":\"\"}},\"type\":\"scattergeo\"}],\"scattergl\":[{\"marker\":{\"colorbar\":{\"outlinewidth\":0,\"ticks\":\"\"}},\"type\":\"scattergl\"}],\"scattermapbox\":[{\"marker\":{\"colorbar\":{\"outlinewidth\":0,\"ticks\":\"\"}},\"type\":\"scattermapbox\"}],\"scatterpolar\":[{\"marker\":{\"colorbar\":{\"outlinewidth\":0,\"ticks\":\"\"}},\"type\":\"scatterpolar\"}],\"scatterpolargl\":[{\"marker\":{\"colorbar\":{\"outlinewidth\":0,\"ticks\":\"\"}},\"type\":\"scatterpolargl\"}],\"scatterternary\":[{\"marker\":{\"colorbar\":{\"outlinewidth\":0,\"ticks\":\"\"}},\"type\":\"scatterternary\"}],\"surface\":[{\"colorbar\":{\"outlinewidth\":0,\"ticks\":\"\"},\"colorscale\":[[0.0,\"#0d0887\"],[0.1111111111111111,\"#46039f\"],[0.2222222222222222,\"#7201a8\"],[0.3333333333333333,\"#9c179e\"],[0.4444444444444444,\"#bd3786\"],[0.5555555555555556,\"#d8576b\"],[0.6666666666666666,\"#ed7953\"],[0.7777777777777778,\"#fb9f3a\"],[0.8888888888888888,\"#fdca26\"],[1.0,\"#f0f921\"]],\"type\":\"surface\"}],\"table\":[{\"cells\":{\"fill\":{\"color\":\"#EBF0F8\"},\"line\":{\"color\":\"white\"}},\"header\":{\"fill\":{\"color\":\"#C8D4E3\"},\"line\":{\"color\":\"white\"}},\"type\":\"table\"}]},\"layout\":{\"annotationdefaults\":{\"arrowcolor\":\"#2a3f5f\",\"arrowhead\":0,\"arrowwidth\":1},\"autotypenumbers\":\"strict\",\"coloraxis\":{\"colorbar\":{\"outlinewidth\":0,\"ticks\":\"\"}},\"colorscale\":{\"diverging\":[[0,\"#8e0152\"],[0.1,\"#c51b7d\"],[0.2,\"#de77ae\"],[0.3,\"#f1b6da\"],[0.4,\"#fde0ef\"],[0.5,\"#f7f7f7\"],[0.6,\"#e6f5d0\"],[0.7,\"#b8e186\"],[0.8,\"#7fbc41\"],[0.9,\"#4d9221\"],[1,\"#276419\"]],\"sequential\":[[0.0,\"#0d0887\"],[0.1111111111111111,\"#46039f\"],[0.2222222222222222,\"#7201a8\"],[0.3333333333333333,\"#9c179e\"],[0.4444444444444444,\"#bd3786\"],[0.5555555555555556,\"#d8576b\"],[0.6666666666666666,\"#ed7953\"],[0.7777777777777778,\"#fb9f3a\"],[0.8888888888888888,\"#fdca26\"],[1.0,\"#f0f921\"]],\"sequentialminus\":[[0.0,\"#0d0887\"],[0.1111111111111111,\"#46039f\"],[0.2222222222222222,\"#7201a8\"],[0.3333333333333333,\"#9c179e\"],[0.4444444444444444,\"#bd3786\"],[0.5555555555555556,\"#d8576b\"],[0.6666666666666666,\"#ed7953\"],[0.7777777777777778,\"#fb9f3a\"],[0.8888888888888888,\"#fdca26\"],[1.0,\"#f0f921\"]]},\"colorway\":[\"#636efa\",\"#EF553B\",\"#00cc96\",\"#ab63fa\",\"#FFA15A\",\"#19d3f3\",\"#FF6692\",\"#B6E880\",\"#FF97FF\",\"#FECB52\"],\"font\":{\"color\":\"#2a3f5f\"},\"geo\":{\"bgcolor\":\"white\",\"lakecolor\":\"white\",\"landcolor\":\"#E5ECF6\",\"showlakes\":true,\"showland\":true,\"subunitcolor\":\"white\"},\"hoverlabel\":{\"align\":\"left\"},\"hovermode\":\"closest\",\"mapbox\":{\"style\":\"light\"},\"paper_bgcolor\":\"white\",\"plot_bgcolor\":\"#E5ECF6\",\"polar\":{\"angularaxis\":{\"gridcolor\":\"white\",\"linecolor\":\"white\",\"ticks\":\"\"},\"bgcolor\":\"#E5ECF6\",\"radialaxis\":{\"gridcolor\":\"white\",\"linecolor\":\"white\",\"ticks\":\"\"}},\"scene\":{\"xaxis\":{\"backgroundcolor\":\"#E5ECF6\",\"gridcolor\":\"white\",\"gridwidth\":2,\"linecolor\":\"white\",\"showbackground\":true,\"ticks\":\"\",\"zerolinecolor\":\"white\"},\"yaxis\":{\"backgroundcolor\":\"#E5ECF6\",\"gridcolor\":\"white\",\"gridwidth\":2,\"linecolor\":\"white\",\"showbackground\":true,\"ticks\":\"\",\"zerolinecolor\":\"white\"},\"zaxis\":{\"backgroundcolor\":\"#E5ECF6\",\"gridcolor\":\"white\",\"gridwidth\":2,\"linecolor\":\"white\",\"showbackground\":true,\"ticks\":\"\",\"zerolinecolor\":\"white\"}},\"shapedefaults\":{\"line\":{\"color\":\"#2a3f5f\"}},\"ternary\":{\"aaxis\":{\"gridcolor\":\"white\",\"linecolor\":\"white\",\"ticks\":\"\"},\"baxis\":{\"gridcolor\":\"white\",\"linecolor\":\"white\",\"ticks\":\"\"},\"bgcolor\":\"#E5ECF6\",\"caxis\":{\"gridcolor\":\"white\",\"linecolor\":\"white\",\"ticks\":\"\"}},\"title\":{\"x\":0.05},\"xaxis\":{\"automargin\":true,\"gridcolor\":\"white\",\"linecolor\":\"white\",\"ticks\":\"\",\"title\":{\"standoff\":15},\"zerolinecolor\":\"white\",\"zerolinewidth\":2},\"yaxis\":{\"automargin\":true,\"gridcolor\":\"white\",\"linecolor\":\"white\",\"ticks\":\"\",\"title\":{\"standoff\":15},\"zerolinecolor\":\"white\",\"zerolinewidth\":2}}},\"xaxis\":{\"anchor\":\"y\",\"domain\":[0.0,1.0],\"title\":{\"text\":\"Date\"}},\"yaxis\":{\"anchor\":\"x\",\"domain\":[0.0,1.0],\"title\":{\"text\":\"AveragePrice\"}},\"legend\":{\"tracegroupgap\":0},\"margin\":{\"t\":60}},                        {\"responsive\": true}                    ).then(function(){\n",
              "                            \n",
              "var gd = document.getElementById('ebe080a0-a041-4963-923e-6f912a2a2d61');\n",
              "var x = new MutationObserver(function (mutations, observer) {{\n",
              "        var display = window.getComputedStyle(gd).display;\n",
              "        if (!display || display === 'none') {{\n",
              "            console.log([gd, 'removed!']);\n",
              "            Plotly.purge(gd);\n",
              "            observer.disconnect();\n",
              "        }}\n",
              "}});\n",
              "\n",
              "// Listen for the removal of the full notebook cells\n",
              "var notebookContainer = gd.closest('#notebook-container');\n",
              "if (notebookContainer) {{\n",
              "    x.observe(notebookContainer, {childList: true});\n",
              "}}\n",
              "\n",
              "// Listen for the clearing of the current output cell\n",
              "var outputEl = gd.closest('.output');\n",
              "if (outputEl) {{\n",
              "    x.observe(outputEl, {childList: true});\n",
              "}}\n",
              "\n",
              "                        })                };                            </script>        </div>\n",
              "</body>\n",
              "</html>"
            ]
          },
          "metadata": {}
        }
      ]
    },
    {
      "cell_type": "markdown",
      "source": [
        "## Подготовка данных для модели"
      ],
      "metadata": {
        "id": "S3t3W5fbZK2l"
      }
    },
    {
      "cell_type": "code",
      "source": [
        "all_data = data[\"AveragePrice\"].values.astype(float)"
      ],
      "metadata": {
        "id": "2U5d8pMITzUW"
      },
      "execution_count": 48,
      "outputs": []
    },
    {
      "cell_type": "code",
      "source": [
        "test_data_size = 12\n",
        "\n",
        "train_data = all_data[:-test_data_size]\n",
        "test_data = all_data[-test_data_size:]"
      ],
      "metadata": {
        "id": "Ho2m93obQ3Bh"
      },
      "execution_count": 49,
      "outputs": []
    },
    {
      "cell_type": "code",
      "source": [
        "print(len(train_data))\n",
        "print(len(test_data))"
      ],
      "metadata": {
        "colab": {
          "base_uri": "https://localhost:8080/"
        },
        "id": "xGK5DDwrT6FS",
        "outputId": "177d743a-c544-4250-81b5-22be3b4dd507"
      },
      "execution_count": 50,
      "outputs": [
        {
          "output_type": "stream",
          "name": "stdout",
          "text": [
            "145\n",
            "12\n"
          ]
        }
      ]
    },
    {
      "cell_type": "markdown",
      "source": [
        "Нормализация данных"
      ],
      "metadata": {
        "id": "MqshnMjUZsfo"
      }
    },
    {
      "cell_type": "code",
      "source": [
        "scaler = MinMaxScaler(feature_range=(-1, 1))\n",
        "train_data_normalized = scaler.fit_transform(train_data .reshape(-1, 1))"
      ],
      "metadata": {
        "id": "eZC1HnzQUA4U"
      },
      "execution_count": 52,
      "outputs": []
    },
    {
      "cell_type": "code",
      "source": [
        "train_data_normalized = torch.FloatTensor(train_data_normalized).view(-1)"
      ],
      "metadata": {
        "id": "AGms9OxbUOC2"
      },
      "execution_count": 54,
      "outputs": []
    },
    {
      "cell_type": "code",
      "source": [
        "train_window = 12"
      ],
      "metadata": {
        "id": "B1Uy2YfcUhZp"
      },
      "execution_count": 55,
      "outputs": []
    },
    {
      "cell_type": "markdown",
      "source": [
        "Здесь созддаём функция для преобразования данных по 12 месяцев"
      ],
      "metadata": {
        "id": "av59N49IZwL_"
      }
    },
    {
      "cell_type": "code",
      "source": [
        "def create_inout_sequences(input_data, tw):\n",
        "    inout_seq = []\n",
        "    L = len(input_data)\n",
        "    for i in range(L-tw):\n",
        "        train_seq = input_data[i:i+tw]\n",
        "        train_label = input_data[i+tw:i+tw+1]\n",
        "        inout_seq.append((train_seq ,train_label))\n",
        "    return inout_seq"
      ],
      "metadata": {
        "id": "WuDD8S_MUjib"
      },
      "execution_count": 56,
      "outputs": []
    },
    {
      "cell_type": "code",
      "source": [
        "train_inout_seq = create_inout_sequences(train_data_normalized, train_window)"
      ],
      "metadata": {
        "id": "dBOn89NDU0xI"
      },
      "execution_count": 57,
      "outputs": []
    },
    {
      "cell_type": "code",
      "source": [
        "train_inout_seq[:5]"
      ],
      "metadata": {
        "colab": {
          "base_uri": "https://localhost:8080/"
        },
        "id": "ll1fhTAPU3JO",
        "outputId": "7f03eea5-9c2a-4c92-c07d-cb9f8bd6ff99"
      },
      "execution_count": 58,
      "outputs": [
        {
          "output_type": "execute_result",
          "data": {
            "text/plain": [
              "[(tensor([-0.3443, -0.2459, -0.4262, -0.2951, -0.3607, -0.3934, -0.5574, -0.4098,\n",
              "          -0.5246, -0.2459, -0.6721, -0.1639]), tensor([-0.1967])),\n",
              " (tensor([-0.2459, -0.4262, -0.2951, -0.3607, -0.3934, -0.5574, -0.4098, -0.5246,\n",
              "          -0.2459, -0.6721, -0.1639, -0.1967]),\n",
              "  tensor([-0.3607])),\n",
              " (tensor([-0.4262, -0.2951, -0.3607, -0.3934, -0.5574, -0.4098, -0.5246, -0.2459,\n",
              "          -0.6721, -0.1639, -0.1967, -0.3607]), tensor([-0.3279])),\n",
              " (tensor([-0.2951, -0.3607, -0.3934, -0.5574, -0.4098, -0.5246, -0.2459, -0.6721,\n",
              "          -0.1639, -0.1967, -0.3607, -0.3279]), tensor([-0.3607])),\n",
              " (tensor([-0.3607, -0.3934, -0.5574, -0.4098, -0.5246, -0.2459, -0.6721, -0.1639,\n",
              "          -0.1967, -0.3607, -0.3279, -0.3607]), tensor([-0.2623]))]"
            ]
          },
          "metadata": {},
          "execution_count": 58
        }
      ]
    },
    {
      "cell_type": "markdown",
      "source": [
        "## Создание модели"
      ],
      "metadata": {
        "id": "Ozr26HbWZ9u9"
      }
    },
    {
      "cell_type": "markdown",
      "source": [
        "Это нейронная сеть, пробую почти впервый раз в PyTorch. \n",
        "\n",
        "Для её создания я использовала несколько обучающих сайтов"
      ],
      "metadata": {
        "id": "BdXR3JJbaAWW"
      }
    },
    {
      "cell_type": "markdown",
      "source": [
        "Deep learning - особые нейросети, которые обычно занимаются работой с преобразованием данных. Разпознаванием какой-либо информации. Звука, изображения."
      ],
      "metadata": {
        "id": "YuXzXN0TaMEP"
      }
    },
    {
      "cell_type": "markdown",
      "source": [
        "Реккурентные нейросети - нейросети, которые занимаются последователностями. Они, кроме распознания речи, способны на прогнозирование. Именно прогноз требует последовательного мышления."
      ],
      "metadata": {
        "id": "UeN8BleJawIE"
      }
    },
    {
      "cell_type": "markdown",
      "source": [
        "LSTM - Long Short Time Memory\n",
        "\n",
        "Моя любимая нейросеть глубокого обучения)\n",
        "\n",
        "Используется очень часто для временных рядов в эконометрике."
      ],
      "metadata": {
        "id": "dYBg_4cAbQFF"
      }
    },
    {
      "cell_type": "code",
      "source": [
        "class LSTM(nn.Module):\n",
        "    def __init__(self, input_size=1, hidden_layer_size=100, output_size=1):\n",
        "        super().__init__()\n",
        "        self.hidden_layer_size = hidden_layer_size\n",
        "\n",
        "        self.lstm = nn.LSTM(input_size, hidden_layer_size)\n",
        "\n",
        "        self.linear = nn.Linear(hidden_layer_size, output_size)\n",
        "\n",
        "        self.hidden_cell = (torch.zeros(1,1,self.hidden_layer_size),\n",
        "                            torch.zeros(1,1,self.hidden_layer_size))\n",
        "\n",
        "    def forward(self, input_seq):\n",
        "        lstm_out, self.hidden_cell = self.lstm(input_seq.view(len(input_seq) ,1, -1), self.hidden_cell)\n",
        "        predictions = self.linear(lstm_out.view(len(input_seq), -1))\n",
        "        return predictions[-1]"
      ],
      "metadata": {
        "id": "_81J_S9xU5wN"
      },
      "execution_count": 59,
      "outputs": []
    },
    {
      "cell_type": "markdown",
      "source": [
        "loss func в данной регрессии MSE, optimizer по традициям Adam"
      ],
      "metadata": {
        "id": "HXpP-tpPbm7t"
      }
    },
    {
      "cell_type": "code",
      "source": [
        "model = LSTM()\n",
        "loss_function = nn.MSELoss()\n",
        "optimizer = torch.optim.Adam(model.parameters(), lr=0.001)"
      ],
      "metadata": {
        "id": "4I9MuCWdVC4T"
      },
      "execution_count": 60,
      "outputs": []
    },
    {
      "cell_type": "markdown",
      "source": [
        "В PyTorch нужно почти самим реализовывать процесс обучения. В этом могли возникнуть проблемы. Но если познакомися с теорией, ничего сложного."
      ],
      "metadata": {
        "id": "GgwH3NCxb3i-"
      }
    },
    {
      "cell_type": "code",
      "source": [
        "epochs = 150\n",
        "\n",
        "for i in range(epochs):\n",
        "    for seq, labels in train_inout_seq:\n",
        "        optimizer.zero_grad()\n",
        "        model.hidden_cell = (torch.zeros(1, 1, model.hidden_layer_size),\n",
        "                        torch.zeros(1, 1, model.hidden_layer_size))\n",
        "\n",
        "        y_pred = model(seq)\n",
        "\n",
        "        single_loss = loss_function(y_pred, labels)\n",
        "        single_loss.backward()\n",
        "        optimizer.step()\n",
        "\n",
        "    if i%25 == 1:\n",
        "        print(f'epoch: {i:3} loss: {single_loss.item():10.8f}')\n",
        "\n",
        "print(f'epoch: {i:3} loss: {single_loss.item():10.10f}')"
      ],
      "metadata": {
        "colab": {
          "base_uri": "https://localhost:8080/"
        },
        "id": "OW07xeARVacZ",
        "outputId": "192dd63f-0129-468b-deb1-a103ae534ea5"
      },
      "execution_count": 61,
      "outputs": [
        {
          "output_type": "stream",
          "name": "stdout",
          "text": [
            "epoch:   1 loss: 0.00877108\n",
            "epoch:  26 loss: 0.00009720\n",
            "epoch:  51 loss: 0.00002402\n",
            "epoch:  76 loss: 0.00011062\n",
            "epoch: 101 loss: 0.00019772\n",
            "epoch: 126 loss: 0.00001969\n",
            "epoch: 149 loss: 0.0000387297\n"
          ]
        }
      ]
    },
    {
      "cell_type": "markdown",
      "source": [
        "Чесно говоря, я сначала подумала о переобучении. Получились очень маленькие значения ошибки. Посмотрим на редсказания"
      ],
      "metadata": {
        "id": "qW4d-FMscbJI"
      }
    },
    {
      "cell_type": "markdown",
      "source": [
        "## Прогноз"
      ],
      "metadata": {
        "id": "zbU3djHYcN0c"
      }
    },
    {
      "cell_type": "code",
      "source": [
        "fut_pred = 12\n",
        "\n",
        "test_inputs = train_data_normalized[-train_window:].tolist()\n",
        "print(test_inputs)"
      ],
      "metadata": {
        "colab": {
          "base_uri": "https://localhost:8080/"
        },
        "id": "sux1d1m8VoVq",
        "outputId": "b876c86b-02b9-4ea6-a62a-a4d549e6baaa"
      },
      "execution_count": 62,
      "outputs": [
        {
          "output_type": "stream",
          "name": "stdout",
          "text": [
            "[0.5901639461517334, 0.7377049326896667, 0.6065573692321777, 0.688524603843689, 0.6065573692321777, 0.44262295961380005, 0.7540983557701111, 0.49180328845977783, 0.6229507923126221, 0.6065573692321777, 0.5901639461517334, 0.5573770403862]\n"
          ]
        }
      ]
    },
    {
      "cell_type": "code",
      "source": [
        "model.eval()\n",
        "\n",
        "for i in range(fut_pred):\n",
        "    seq = torch.FloatTensor(test_inputs[-train_window:])\n",
        "    with torch.no_grad():\n",
        "        model.hidden = (torch.zeros(1, 1, model.hidden_layer_size),\n",
        "                        torch.zeros(1, 1, model.hidden_layer_size))\n",
        "        test_inputs.append(model(seq).item())"
      ],
      "metadata": {
        "id": "gMpXJgiZWNoR"
      },
      "execution_count": 64,
      "outputs": []
    },
    {
      "cell_type": "code",
      "source": [
        "actual_predictions = scaler.inverse_transform(np.array(test_inputs[train_window:] ).reshape(-1, 1))\n",
        "print(actual_predictions)"
      ],
      "metadata": {
        "colab": {
          "base_uri": "https://localhost:8080/"
        },
        "id": "aY8HDaKjXCo9",
        "outputId": "f2ca1919-8702-4423-8f7e-3b7135615cfa"
      },
      "execution_count": 70,
      "outputs": [
        {
          "output_type": "stream",
          "name": "stdout",
          "text": [
            "[[1.72636417]\n",
            " [1.66806796]\n",
            " [1.74409692]\n",
            " [1.43764478]\n",
            " [1.71574318]\n",
            " [1.5048645 ]\n",
            " [1.64603976]\n",
            " [1.62437583]\n",
            " [1.72371754]\n",
            " [1.6820647 ]\n",
            " [1.54958914]\n",
            " [1.63301839]\n",
            " [1.41731633]\n",
            " [1.60272147]\n",
            " [1.54627156]\n",
            " [1.62729637]\n",
            " [1.40828156]\n",
            " [1.21827018]\n",
            " [1.2614721 ]\n",
            " [1.04008399]\n",
            " [1.02800392]\n",
            " [1.19554955]\n",
            " [0.92706852]\n",
            " [0.7386272 ]]\n"
          ]
        }
      ]
    },
    {
      "cell_type": "markdown",
      "source": [
        "Самое интересное - визуализировать . Направления в первые месяца модель хорошо предсказывает)"
      ],
      "metadata": {
        "id": "3BoZbEancpbN"
      }
    },
    {
      "cell_type": "code",
      "source": [
        "plt.grid(True)\n",
        "\n",
        "plt.plot(data[\"Date\"], data[\"AveragePrice\"])\n",
        "plt.plot(list(data[\"Date\"])[-24:],actual_predictions)\n",
        "plt.show()\n"
      ],
      "metadata": {
        "colab": {
          "base_uri": "https://localhost:8080/",
          "height": 265
        },
        "id": "GcsEa2FFWiHI",
        "outputId": "d4a9f71c-4148-49b4-ff36-669eede0a474"
      },
      "execution_count": 83,
      "outputs": [
        {
          "output_type": "display_data",
          "data": {
            "text/plain": [
              "<Figure size 432x288 with 1 Axes>"
            ],
            "image/png": "[encoded data removed]"
          },
          "metadata": {
            "needs_background": "light"
          }
        }
      ]
    },
    {
      "cell_type": "code",
      "source": [
        ""
      ],
      "metadata": {
        "id": "uITphXuDWpgp"
      },
      "execution_count": null,
      "outputs": []
    }
  ]
}