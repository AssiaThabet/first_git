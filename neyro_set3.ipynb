{
  "nbformat": 4,
  "nbformat_minor": 0,
  "metadata": {
    "colab": {
      "name": "neyro_set3.ipynb",
      "provenance": [],
      "collapsed_sections": [],
      "authorship_tag": "ABX9TyPkvyCDcvIbKvhr0itYCtJs",
      "include_colab_link": true
    },
    "kernelspec": {
      "name": "python3",
      "display_name": "Python 3"
    },
    "language_info": {
      "name": "python"
    }
  },
  "cells": [
    {
      "cell_type": "markdown",
      "metadata": {
        "id": "view-in-github",
        "colab_type": "text"
      },
      "source": [
        "<a href=\"https://colab.research.google.com/github/AssiaThabet/first_git/blob/main/neyro_set3.ipynb\" target=\"_parent\"><img src=\"https://colab.research.google.com/assets/colab-badge.svg\" alt=\"Open In Colab\"/></a>"
      ]
    },
    {
      "cell_type": "code",
      "execution_count": null,
      "metadata": {
        "id": "79Cq4fqJjNVw"
      },
      "outputs": [],
      "source": [
        ""
      ]
    },
    {
      "cell_type": "markdown",
      "source": [
        "### Оптимизаторы в Keras, формирование выборки валидации"
      ],
      "metadata": {
        "id": "LEu9ObgzoMke"
      }
    },
    {
      "cell_type": "markdown",
      "source": [
        "В прошлых проектах, как метод градиентного спуска был adam. Это наиболее частый выбор.\n",
        "\n",
        "указывался он так:\n",
        "\n",
        "\n",
        "```\n",
        "model.compile(optimizer = 'adam',\n",
        "        loss = ...\n",
        "        metrics = ...)\n",
        "```\n",
        "\n",
        "если мы хотим создать его самостоятельно, то пишем так:\n",
        "```\n",
        "myAdam = keras.optimizer.Adam(learning_rate=0.1)\n",
        "```\n",
        "\n",
        "И потом, при компиляции указываем наш оптимизатор\n",
        "\n",
        "```\n",
        "model.compile(optimizer = myAdam,\n",
        "        loss = ...\n",
        "        metrics = ...)\n",
        "```\n",
        "\n",
        "Конечно, шаг сходимости очень большой."
      ],
      "metadata": {
        "id": "ZlElDlPLoilF"
      }
    },
    {
      "cell_type": "markdown",
      "source": [
        "Обычно, используется adam, но если алгоритм не достаточно точный иногда используют стохастический градиентный алгоритм с моментом Нестеровского - **SGD**\n",
        "\n",
        "Чтобы использовать его, пишем следующее:\n",
        "\n",
        "\n",
        "\n",
        "```\n",
        "myOpt = keras.optimizer.SGD(learning_rate=0.1, momentum=0.0, nesterov = True)\n",
        "model.compile(optimizer = myOpt,\n",
        "        loss = ...\n",
        "        metrics = ...)\n",
        "```\n",
        ", где momentum - ускорение момента. nesterov - использование Нестеровского момента\n",
        "\n"
      ],
      "metadata": {
        "id": "B0K5emUmqOud"
      }
    },
    {
      "cell_type": "markdown",
      "source": [
        "### Выборка валидации  \n",
        "она использовалась, когда мы разбивали выборку на обучающую и тестовую\n",
        "\n",
        "\n",
        "```\n",
        "model.fit(x_train, y_train_cat, batch_size=32, epochs=5, validation_split=0.2)\n",
        "```\n",
        "\n",
        "То, что validation_split = 0.2 говорит о том, что выборка валидации это 20% от всей выборки\n",
        "\n",
        "недосаток - мы не знаем конкрентно, что попало в выорку валидации, а что - нет.\n",
        "Доступа нет.\n",
        "\n",
        "*Мы можем разбить всё в ручную:*\n",
        "\n",
        "```\n",
        "size_val = 10000\n",
        "x_val_split = x_train[:size_val]\n",
        "y_val_split = x_train_cat[:size_val]\n",
        "\n",
        "x_train_split = x_train[size_val:]\n",
        "y_train_split = y_train_cat[size_val:]\n",
        "\n",
        "model.fit(x_train_split, y_train_split, batch_size=32, epochs=5, \n",
        "          validation_data=(x_val_split, y_val_split)\n",
        "```\n",
        "\n"
      ],
      "metadata": {
        "id": "mZ2OD_FAsM3M"
      }
    },
    {
      "cell_type": "code",
      "source": [
        ""
      ],
      "metadata": {
        "id": "DFSjYmyysVoO"
      },
      "execution_count": null,
      "outputs": []
    },
    {
      "cell_type": "markdown",
      "source": [
        "Чтобы случайным образом выбрать чаcть данных для теста, используется **sklearn.model_selection.train_test_split**\n",
        "\n",
        "Так её можо использовать:\n",
        "\n",
        "\n",
        "```\n",
        "from sklearn.model_selection import train_test_split\n",
        "\n",
        "x_train_split, x_val_split, y_train_split, y_val_split = train_test_split(x_train, y_train_cat, \n",
        "test_size = 0.2)\n",
        "```\n",
        "\n"
      ],
      "metadata": {
        "id": "50DXc_YJ5O9q"
      }
    },
    {
      "cell_type": "code",
      "source": [
        ""
      ],
      "metadata": {
        "id": "AxKBWyEI7d3c"
      },
      "execution_count": null,
      "outputs": []
    }
  ]
}