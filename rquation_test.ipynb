{
  "nbformat": 4,
  "nbformat_minor": 0,
  "metadata": {
    "colab": {
      "name": "rquation_test.ipynb",
      "provenance": [],
      "collapsed_sections": [],
      "authorship_tag": "ABX9TyPaLAVlWAqUrUG1HL1OVzr3",
      "include_colab_link": true
    },
    "kernelspec": {
      "name": "python3",
      "display_name": "Python 3"
    },
    "language_info": {
      "name": "python"
    }
  },
  "cells": [
    {
      "cell_type": "markdown",
      "metadata": {
        "id": "view-in-github",
        "colab_type": "text"
      },
      "source": [
        "<a href=\"https://colab.research.google.com/github/AssiaThabet/first_git/blob/main/rquation_test.ipynb\" target=\"_parent\"><img src=\"https://colab.research.google.com/assets/colab-badge.svg\" alt=\"Open In Colab\"/></a>"
      ]
    },
    {
      "cell_type": "code",
      "execution_count": null,
      "metadata": {
        "id": "ruS9IVLaOwXG"
      },
      "outputs": [],
      "source": [
        "import numpy as np\n",
        "\n",
        "x_train = np.array([[1, 17, -18], [5,7, 2], [1,-11,18], [1,-13,-36], [2,-9,7], [3,-11,4]])\n",
        "\n",
        "\n",
        "y = np.array([1, -1, 2, 9, 1, 1/3])\n"
      ]
    },
    {
      "cell_type": "code",
      "source": [
        "# Среднее значение\n",
        "mean = x_train.mean(axis=0)\n",
        "x_train = x_train.astype('float32')\n",
        "# Стандартное отклонение\n",
        "std = x_train.std(axis=0)\n",
        "x_train -= mean\n",
        "x_train /= std"
      ],
      "metadata": {
        "id": "UwoHRmCxVSje"
      },
      "execution_count": null,
      "outputs": []
    },
    {
      "cell_type": "code",
      "source": [
        "x_train"
      ],
      "metadata": {
        "colab": {
          "base_uri": "https://localhost:8080/"
        },
        "id": "KABQDb-n3pZQ",
        "outputId": "2f59eb32-eb02-4693-a411-615b6abec50c"
      },
      "execution_count": null,
      "outputs": [
        {
          "output_type": "execute_result",
          "data": {
            "text/plain": [
              "array([[-0.79772395,  1.8027152 , -0.79094577],\n",
              "       [ 1.9373296 ,  0.9161339 ,  0.32568356],\n",
              "       [-0.79772395, -0.67971224,  1.218987  ],\n",
              "       [-0.79772395, -0.85702854, -1.7959123 ],\n",
              "       [-0.11396057, -0.502396  ,  0.6048409 ],\n",
              "       [ 0.5698028 , -0.67971224,  0.4373465 ]], dtype=float32)"
            ]
          },
          "metadata": {},
          "execution_count": 3
        }
      ]
    },
    {
      "cell_type": "code",
      "source": [
        "from keras.datasets import boston_housing\n",
        "from keras.models import Sequential\n",
        "from keras.layers import Dense\n",
        "\n",
        "model = Sequential()\n",
        "model.add(Dense(128, activation='relu', input_shape=(x_train.shape[1],)))\n",
        "model.add(Dense(1))\n",
        "model.compile(optimizer='adam', loss='mse', metrics=['mae'])"
      ],
      "metadata": {
        "id": "M3Kppv5xQe3W"
      },
      "execution_count": null,
      "outputs": []
    },
    {
      "cell_type": "code",
      "source": [
        "fit = model.fit(x_train, y, epochs=100, batch_size=1, verbose=2, validation_split = 0.2)"
      ],
      "metadata": {
        "colab": {
          "base_uri": "https://localhost:8080/"
        },
        "id": "m5dx8WkrQqiT",
        "outputId": "92d0986b-230c-4bba-924c-b0942349f150"
      },
      "execution_count": null,
      "outputs": [
        {
          "output_type": "stream",
          "name": "stdout",
          "text": [
            "Epoch 1/100\n",
            "4/4 - 1s - loss: 22.4412 - mae: 3.3882 - val_loss: 0.6897 - val_mae: 0.7333 - 732ms/epoch - 183ms/step\n",
            "Epoch 2/100\n",
            "4/4 - 0s - loss: 21.6719 - mae: 3.3164 - val_loss: 0.6414 - val_mae: 0.7044 - 35ms/epoch - 9ms/step\n",
            "Epoch 3/100\n",
            "4/4 - 0s - loss: 21.0631 - mae: 3.2497 - val_loss: 0.6070 - val_mae: 0.6835 - 28ms/epoch - 7ms/step\n",
            "Epoch 4/100\n",
            "4/4 - 0s - loss: 20.7349 - mae: 3.1968 - val_loss: 0.5687 - val_mae: 0.6584 - 29ms/epoch - 7ms/step\n",
            "Epoch 5/100\n",
            "4/4 - 0s - loss: 20.2790 - mae: 3.1353 - val_loss: 0.5323 - val_mae: 0.6339 - 32ms/epoch - 8ms/step\n",
            "Epoch 6/100\n",
            "4/4 - 0s - loss: 19.7534 - mae: 3.0727 - val_loss: 0.4959 - val_mae: 0.6087 - 32ms/epoch - 8ms/step\n",
            "Epoch 7/100\n",
            "4/4 - 0s - loss: 19.1095 - mae: 3.0092 - val_loss: 0.4618 - val_mae: 0.5846 - 34ms/epoch - 8ms/step\n",
            "Epoch 8/100\n",
            "4/4 - 0s - loss: 18.7308 - mae: 2.9546 - val_loss: 0.4285 - val_mae: 0.5596 - 31ms/epoch - 8ms/step\n",
            "Epoch 9/100\n",
            "4/4 - 0s - loss: 18.2307 - mae: 2.8941 - val_loss: 0.4032 - val_mae: 0.5403 - 33ms/epoch - 8ms/step\n",
            "Epoch 10/100\n",
            "4/4 - 0s - loss: 17.8674 - mae: 2.8395 - val_loss: 0.3731 - val_mae: 0.5160 - 37ms/epoch - 9ms/step\n",
            "Epoch 11/100\n",
            "4/4 - 0s - loss: 17.1699 - mae: 2.7749 - val_loss: 0.3465 - val_mae: 0.4940 - 28ms/epoch - 7ms/step\n",
            "Epoch 12/100\n",
            "4/4 - 0s - loss: 16.8955 - mae: 2.7231 - val_loss: 0.3237 - val_mae: 0.4745 - 40ms/epoch - 10ms/step\n",
            "Epoch 13/100\n",
            "4/4 - 0s - loss: 16.5146 - mae: 2.6678 - val_loss: 0.3002 - val_mae: 0.4532 - 26ms/epoch - 7ms/step\n",
            "Epoch 14/100\n",
            "4/4 - 0s - loss: 16.0359 - mae: 2.6091 - val_loss: 0.2774 - val_mae: 0.4315 - 30ms/epoch - 7ms/step\n",
            "Epoch 15/100\n",
            "4/4 - 0s - loss: 15.3795 - mae: 2.5468 - val_loss: 0.2542 - val_mae: 0.4089 - 32ms/epoch - 8ms/step\n",
            "Epoch 16/100\n",
            "4/4 - 0s - loss: 15.0586 - mae: 2.4985 - val_loss: 0.2303 - val_mae: 0.3834 - 29ms/epoch - 7ms/step\n",
            "Epoch 17/100\n",
            "4/4 - 0s - loss: 14.7841 - mae: 2.4460 - val_loss: 0.2088 - val_mae: 0.3595 - 30ms/epoch - 8ms/step\n",
            "Epoch 18/100\n",
            "4/4 - 0s - loss: 14.2916 - mae: 2.3844 - val_loss: 0.1914 - val_mae: 0.3393 - 29ms/epoch - 7ms/step\n",
            "Epoch 19/100\n",
            "4/4 - 0s - loss: 13.8410 - mae: 2.3284 - val_loss: 0.1728 - val_mae: 0.3162 - 29ms/epoch - 7ms/step\n",
            "Epoch 20/100\n",
            "4/4 - 0s - loss: 13.3364 - mae: 2.2699 - val_loss: 0.1541 - val_mae: 0.2919 - 30ms/epoch - 7ms/step\n",
            "Epoch 21/100\n",
            "4/4 - 0s - loss: 12.9866 - mae: 2.2153 - val_loss: 0.1379 - val_mae: 0.2694 - 29ms/epoch - 7ms/step\n",
            "Epoch 22/100\n",
            "4/4 - 0s - loss: 12.5625 - mae: 2.1592 - val_loss: 0.1221 - val_mae: 0.2483 - 31ms/epoch - 8ms/step\n",
            "Epoch 23/100\n",
            "4/4 - 0s - loss: 12.0663 - mae: 2.1004 - val_loss: 0.1075 - val_mae: 0.2408 - 33ms/epoch - 8ms/step\n",
            "Epoch 24/100\n",
            "4/4 - 0s - loss: 11.5950 - mae: 2.0473 - val_loss: 0.0946 - val_mae: 0.2337 - 27ms/epoch - 7ms/step\n",
            "Epoch 25/100\n",
            "4/4 - 0s - loss: 11.3672 - mae: 2.0195 - val_loss: 0.0824 - val_mae: 0.2265 - 30ms/epoch - 8ms/step\n",
            "Epoch 26/100\n",
            "4/4 - 0s - loss: 10.8564 - mae: 1.9740 - val_loss: 0.0723 - val_mae: 0.2193 - 31ms/epoch - 8ms/step\n",
            "Epoch 27/100\n",
            "4/4 - 0s - loss: 10.3928 - mae: 1.9199 - val_loss: 0.0628 - val_mae: 0.2123 - 31ms/epoch - 8ms/step\n",
            "Epoch 28/100\n",
            "4/4 - 0s - loss: 10.1783 - mae: 1.8959 - val_loss: 0.0537 - val_mae: 0.2048 - 27ms/epoch - 7ms/step\n",
            "Epoch 29/100\n",
            "4/4 - 0s - loss: 9.6812 - mae: 1.8478 - val_loss: 0.0461 - val_mae: 0.1973 - 38ms/epoch - 9ms/step\n",
            "Epoch 30/100\n",
            "4/4 - 0s - loss: 9.3633 - mae: 1.8029 - val_loss: 0.0403 - val_mae: 0.1906 - 38ms/epoch - 10ms/step\n",
            "Epoch 31/100\n",
            "4/4 - 0s - loss: 8.9664 - mae: 1.7604 - val_loss: 0.0353 - val_mae: 0.1836 - 29ms/epoch - 7ms/step\n",
            "Epoch 32/100\n",
            "4/4 - 0s - loss: 8.3836 - mae: 1.7035 - val_loss: 0.0317 - val_mae: 0.1768 - 30ms/epoch - 7ms/step\n",
            "Epoch 33/100\n",
            "4/4 - 0s - loss: 8.2076 - mae: 1.6785 - val_loss: 0.0287 - val_mae: 0.1693 - 30ms/epoch - 7ms/step\n",
            "Epoch 34/100\n",
            "4/4 - 0s - loss: 7.7606 - mae: 1.6256 - val_loss: 0.0272 - val_mae: 0.1623 - 32ms/epoch - 8ms/step\n",
            "Epoch 35/100\n",
            "4/4 - 0s - loss: 7.5652 - mae: 1.5979 - val_loss: 0.0271 - val_mae: 0.1555 - 33ms/epoch - 8ms/step\n",
            "Epoch 36/100\n",
            "4/4 - 0s - loss: 7.0372 - mae: 1.5406 - val_loss: 0.0282 - val_mae: 0.1493 - 28ms/epoch - 7ms/step\n",
            "Epoch 37/100\n",
            "4/4 - 0s - loss: 6.7111 - mae: 1.4941 - val_loss: 0.0305 - val_mae: 0.1435 - 28ms/epoch - 7ms/step\n",
            "Epoch 38/100\n",
            "4/4 - 0s - loss: 6.3251 - mae: 1.4457 - val_loss: 0.0335 - val_mae: 0.1381 - 29ms/epoch - 7ms/step\n",
            "Epoch 39/100\n",
            "4/4 - 0s - loss: 6.0252 - mae: 1.4057 - val_loss: 0.0376 - val_mae: 0.1414 - 35ms/epoch - 9ms/step\n",
            "Epoch 40/100\n",
            "4/4 - 0s - loss: 5.9299 - mae: 1.3783 - val_loss: 0.0437 - val_mae: 0.1658 - 27ms/epoch - 7ms/step\n",
            "Epoch 41/100\n",
            "4/4 - 0s - loss: 5.5577 - mae: 1.3300 - val_loss: 0.0505 - val_mae: 0.1886 - 36ms/epoch - 9ms/step\n",
            "Epoch 42/100\n",
            "4/4 - 0s - loss: 5.1501 - mae: 1.2767 - val_loss: 0.0577 - val_mae: 0.2098 - 28ms/epoch - 7ms/step\n",
            "Epoch 43/100\n",
            "4/4 - 0s - loss: 4.9173 - mae: 1.2448 - val_loss: 0.0666 - val_mae: 0.2325 - 31ms/epoch - 8ms/step\n",
            "Epoch 44/100\n",
            "4/4 - 0s - loss: 4.4481 - mae: 1.1807 - val_loss: 0.0744 - val_mae: 0.2505 - 27ms/epoch - 7ms/step\n",
            "Epoch 45/100\n",
            "4/4 - 0s - loss: 4.2115 - mae: 1.1404 - val_loss: 0.0832 - val_mae: 0.2690 - 33ms/epoch - 8ms/step\n",
            "Epoch 46/100\n",
            "4/4 - 0s - loss: 4.0761 - mae: 1.1121 - val_loss: 0.0940 - val_mae: 0.2898 - 35ms/epoch - 9ms/step\n",
            "Epoch 47/100\n",
            "4/4 - 0s - loss: 3.6993 - mae: 1.0653 - val_loss: 0.1039 - val_mae: 0.3077 - 27ms/epoch - 7ms/step\n",
            "Epoch 48/100\n",
            "4/4 - 0s - loss: 3.5208 - mae: 1.0355 - val_loss: 0.1152 - val_mae: 0.3267 - 29ms/epoch - 7ms/step\n",
            "Epoch 49/100\n",
            "4/4 - 0s - loss: 3.2807 - mae: 1.0068 - val_loss: 0.1269 - val_mae: 0.3452 - 40ms/epoch - 10ms/step\n",
            "Epoch 50/100\n",
            "4/4 - 0s - loss: 3.0513 - mae: 0.9785 - val_loss: 0.1386 - val_mae: 0.3627 - 27ms/epoch - 7ms/step\n",
            "Epoch 51/100\n",
            "4/4 - 0s - loss: 2.8338 - mae: 0.9577 - val_loss: 0.1509 - val_mae: 0.3799 - 28ms/epoch - 7ms/step\n",
            "Epoch 52/100\n",
            "4/4 - 0s - loss: 2.6263 - mae: 0.9322 - val_loss: 0.1631 - val_mae: 0.3963 - 31ms/epoch - 8ms/step\n",
            "Epoch 53/100\n",
            "4/4 - 0s - loss: 2.5186 - mae: 0.9232 - val_loss: 0.1770 - val_mae: 0.4142 - 35ms/epoch - 9ms/step\n",
            "Epoch 54/100\n",
            "4/4 - 0s - loss: 2.1901 - mae: 0.8715 - val_loss: 0.1871 - val_mae: 0.4264 - 31ms/epoch - 8ms/step\n",
            "Epoch 55/100\n",
            "4/4 - 0s - loss: 2.0342 - mae: 0.8465 - val_loss: 0.1973 - val_mae: 0.4386 - 27ms/epoch - 7ms/step\n",
            "Epoch 56/100\n",
            "4/4 - 0s - loss: 1.9135 - mae: 0.8279 - val_loss: 0.2090 - val_mae: 0.4520 - 29ms/epoch - 7ms/step\n",
            "Epoch 57/100\n",
            "4/4 - 0s - loss: 1.7242 - mae: 0.7956 - val_loss: 0.2194 - val_mae: 0.4636 - 30ms/epoch - 8ms/step\n",
            "Epoch 58/100\n",
            "4/4 - 0s - loss: 1.6477 - mae: 0.7829 - val_loss: 0.2320 - val_mae: 0.4773 - 32ms/epoch - 8ms/step\n",
            "Epoch 59/100\n",
            "4/4 - 0s - loss: 1.4941 - mae: 0.7574 - val_loss: 0.2453 - val_mae: 0.4913 - 28ms/epoch - 7ms/step\n",
            "Epoch 60/100\n",
            "4/4 - 0s - loss: 1.3830 - mae: 0.7348 - val_loss: 0.2572 - val_mae: 0.5035 - 31ms/epoch - 8ms/step\n",
            "Epoch 61/100\n",
            "4/4 - 0s - loss: 1.2458 - mae: 0.7075 - val_loss: 0.2695 - val_mae: 0.5157 - 36ms/epoch - 9ms/step\n",
            "Epoch 62/100\n",
            "4/4 - 0s - loss: 1.0621 - mae: 0.6635 - val_loss: 0.2769 - val_mae: 0.5229 - 36ms/epoch - 9ms/step\n",
            "Epoch 63/100\n",
            "4/4 - 0s - loss: 1.0341 - mae: 0.6545 - val_loss: 0.2873 - val_mae: 0.5329 - 32ms/epoch - 8ms/step\n",
            "Epoch 64/100\n",
            "4/4 - 0s - loss: 0.9255 - mae: 0.6265 - val_loss: 0.2976 - val_mae: 0.5426 - 29ms/epoch - 7ms/step\n",
            "Epoch 65/100\n",
            "4/4 - 0s - loss: 0.7809 - mae: 0.5836 - val_loss: 0.3026 - val_mae: 0.5471 - 29ms/epoch - 7ms/step\n",
            "Epoch 66/100\n",
            "4/4 - 0s - loss: 0.7125 - mae: 0.5599 - val_loss: 0.3074 - val_mae: 0.5515 - 33ms/epoch - 8ms/step\n",
            "Epoch 67/100\n",
            "4/4 - 0s - loss: 0.6595 - mae: 0.5403 - val_loss: 0.3137 - val_mae: 0.5571 - 34ms/epoch - 8ms/step\n",
            "Epoch 68/100\n",
            "4/4 - 0s - loss: 0.5799 - mae: 0.5131 - val_loss: 0.3201 - val_mae: 0.5629 - 30ms/epoch - 8ms/step\n",
            "Epoch 69/100\n",
            "4/4 - 0s - loss: 0.5343 - mae: 0.4951 - val_loss: 0.3262 - val_mae: 0.5683 - 28ms/epoch - 7ms/step\n",
            "Epoch 70/100\n",
            "4/4 - 0s - loss: 0.4756 - mae: 0.4711 - val_loss: 0.3334 - val_mae: 0.5747 - 41ms/epoch - 10ms/step\n",
            "Epoch 71/100\n",
            "4/4 - 0s - loss: 0.4233 - mae: 0.4484 - val_loss: 0.3375 - val_mae: 0.5782 - 27ms/epoch - 7ms/step\n",
            "Epoch 72/100\n",
            "4/4 - 0s - loss: 0.3852 - mae: 0.4298 - val_loss: 0.3423 - val_mae: 0.5823 - 31ms/epoch - 8ms/step\n",
            "Epoch 73/100\n",
            "4/4 - 0s - loss: 0.3240 - mae: 0.4018 - val_loss: 0.3465 - val_mae: 0.5859 - 29ms/epoch - 7ms/step\n",
            "Epoch 74/100\n",
            "4/4 - 0s - loss: 0.3125 - mae: 0.3932 - val_loss: 0.3535 - val_mae: 0.5919 - 29ms/epoch - 7ms/step\n",
            "Epoch 75/100\n",
            "4/4 - 0s - loss: 0.2712 - mae: 0.3717 - val_loss: 0.3590 - val_mae: 0.5965 - 27ms/epoch - 7ms/step\n",
            "Epoch 76/100\n",
            "4/4 - 0s - loss: 0.2197 - mae: 0.3415 - val_loss: 0.3598 - val_mae: 0.5970 - 28ms/epoch - 7ms/step\n",
            "Epoch 77/100\n",
            "4/4 - 0s - loss: 0.2003 - mae: 0.3262 - val_loss: 0.3615 - val_mae: 0.5984 - 29ms/epoch - 7ms/step\n",
            "Epoch 78/100\n",
            "4/4 - 0s - loss: 0.1764 - mae: 0.3083 - val_loss: 0.3632 - val_mae: 0.5997 - 32ms/epoch - 8ms/step\n",
            "Epoch 79/100\n",
            "4/4 - 0s - loss: 0.1556 - mae: 0.2924 - val_loss: 0.3640 - val_mae: 0.6002 - 33ms/epoch - 8ms/step\n",
            "Epoch 80/100\n",
            "4/4 - 0s - loss: 0.1327 - mae: 0.2723 - val_loss: 0.3657 - val_mae: 0.6016 - 30ms/epoch - 8ms/step\n",
            "Epoch 81/100\n",
            "4/4 - 0s - loss: 0.1173 - mae: 0.2572 - val_loss: 0.3657 - val_mae: 0.6015 - 29ms/epoch - 7ms/step\n",
            "Epoch 82/100\n",
            "4/4 - 0s - loss: 0.1054 - mae: 0.2435 - val_loss: 0.3666 - val_mae: 0.6021 - 45ms/epoch - 11ms/step\n",
            "Epoch 83/100\n",
            "4/4 - 0s - loss: 0.0891 - mae: 0.2268 - val_loss: 0.3680 - val_mae: 0.6032 - 27ms/epoch - 7ms/step\n",
            "Epoch 84/100\n",
            "4/4 - 0s - loss: 0.0851 - mae: 0.2198 - val_loss: 0.3704 - val_mae: 0.6051 - 28ms/epoch - 7ms/step\n",
            "Epoch 85/100\n",
            "4/4 - 0s - loss: 0.0722 - mae: 0.2051 - val_loss: 0.3719 - val_mae: 0.6063 - 30ms/epoch - 8ms/step\n",
            "Epoch 86/100\n",
            "4/4 - 0s - loss: 0.0617 - mae: 0.1918 - val_loss: 0.3720 - val_mae: 0.6063 - 32ms/epoch - 8ms/step\n",
            "Epoch 87/100\n",
            "4/4 - 0s - loss: 0.0526 - mae: 0.1783 - val_loss: 0.3724 - val_mae: 0.6065 - 30ms/epoch - 7ms/step\n",
            "Epoch 88/100\n",
            "4/4 - 0s - loss: 0.0422 - mae: 0.1633 - val_loss: 0.3708 - val_mae: 0.6051 - 32ms/epoch - 8ms/step\n",
            "Epoch 89/100\n",
            "4/4 - 0s - loss: 0.0370 - mae: 0.1524 - val_loss: 0.3689 - val_mae: 0.6034 - 27ms/epoch - 7ms/step\n",
            "Epoch 90/100\n",
            "4/4 - 0s - loss: 0.0348 - mae: 0.1459 - val_loss: 0.3691 - val_mae: 0.6035 - 32ms/epoch - 8ms/step\n",
            "Epoch 91/100\n",
            "4/4 - 0s - loss: 0.0272 - mae: 0.1317 - val_loss: 0.3681 - val_mae: 0.6026 - 29ms/epoch - 7ms/step\n",
            "Epoch 92/100\n",
            "4/4 - 0s - loss: 0.0257 - mae: 0.1264 - val_loss: 0.3683 - val_mae: 0.6026 - 37ms/epoch - 9ms/step\n",
            "Epoch 93/100\n",
            "4/4 - 0s - loss: 0.0208 - mae: 0.1156 - val_loss: 0.3666 - val_mae: 0.6011 - 31ms/epoch - 8ms/step\n",
            "Epoch 94/100\n",
            "4/4 - 0s - loss: 0.0182 - mae: 0.1078 - val_loss: 0.3661 - val_mae: 0.6006 - 32ms/epoch - 8ms/step\n",
            "Epoch 95/100\n",
            "4/4 - 0s - loss: 0.0156 - mae: 0.1000 - val_loss: 0.3653 - val_mae: 0.5999 - 36ms/epoch - 9ms/step\n",
            "Epoch 96/100\n",
            "4/4 - 0s - loss: 0.0127 - mae: 0.0915 - val_loss: 0.3636 - val_mae: 0.5983 - 34ms/epoch - 8ms/step\n",
            "Epoch 97/100\n",
            "4/4 - 0s - loss: 0.0112 - mae: 0.0854 - val_loss: 0.3612 - val_mae: 0.5963 - 28ms/epoch - 7ms/step\n",
            "Epoch 98/100\n",
            "4/4 - 0s - loss: 0.0095 - mae: 0.0788 - val_loss: 0.3596 - val_mae: 0.5948 - 28ms/epoch - 7ms/step\n",
            "Epoch 99/100\n",
            "4/4 - 0s - loss: 0.0084 - mae: 0.0739 - val_loss: 0.3582 - val_mae: 0.5935 - 58ms/epoch - 14ms/step\n",
            "Epoch 100/100\n",
            "4/4 - 0s - loss: 0.0075 - mae: 0.0694 - val_loss: 0.3575 - val_mae: 0.5929 - 31ms/epoch - 8ms/step\n"
          ]
        }
      ]
    },
    {
      "cell_type": "code",
      "source": [
        "mse, mae = model.evaluate(x_train, y, verbose=0)"
      ],
      "metadata": {
        "id": "55zD51PUQ9iv"
      },
      "execution_count": null,
      "outputs": []
    },
    {
      "cell_type": "code",
      "source": [
        "print(\"Средняя абсолютная ошибка:\", mae)"
      ],
      "metadata": {
        "colab": {
          "base_uri": "https://localhost:8080/"
        },
        "id": "NsPZBAbbRETg",
        "outputId": "ed3442a8-0f07-4dbc-912f-5f4697c11f8f"
      },
      "execution_count": null,
      "outputs": [
        {
          "output_type": "stream",
          "name": "stdout",
          "text": [
            "Средняя абсолютная ошибка: 0.24074696004390717\n"
          ]
        }
      ]
    },
    {
      "cell_type": "code",
      "source": [
        "import matplotlib.pyplot as plt\n",
        "\n",
        "plt.plot(fit.history['loss'], label = 'Train')\n",
        "plt.plot(fit.history['val_loss'], label = 'Validation')\n",
        "plt.legend()"
      ],
      "metadata": {
        "colab": {
          "base_uri": "https://localhost:8080/",
          "height": 282
        },
        "id": "1IJ0yvVGUpYK",
        "outputId": "dee2e01e-6a62-4415-df55-69131db56f3a"
      },
      "execution_count": null,
      "outputs": [
        {
          "output_type": "execute_result",
          "data": {
            "text/plain": [
              "<matplotlib.legend.Legend at 0x7f97a5c74550>"
            ]
          },
          "metadata": {},
          "execution_count": 8
        },
        {
          "output_type": "display_data",
          "data": {
            "text/plain": [
              "<Figure size 432x288 with 1 Axes>"
            ],
            "image/png": "[encoded data removed]"
          },
          "metadata": {
            "needs_background": "light"
          }
        }
      ]
    },
    {
      "cell_type": "code",
      "source": [
        "x_test = np.array([[1, 9, 18]])"
      ],
      "metadata": {
        "id": "O4ZwZ9NCZsPt"
      },
      "execution_count": null,
      "outputs": []
    },
    {
      "cell_type": "code",
      "source": [
        "pred = model.predict(x_test)"
      ],
      "metadata": {
        "id": "Lq0qyr0eUxv-"
      },
      "execution_count": null,
      "outputs": []
    },
    {
      "cell_type": "code",
      "source": [
        "print(\"Предсказанное:\", pred, \", правильное:\", -3)"
      ],
      "metadata": {
        "colab": {
          "base_uri": "https://localhost:8080/"
        },
        "id": "fZtLwokqVD_u",
        "outputId": "a4db3c15-379b-475b-d7d6-867c53861638"
      },
      "execution_count": null,
      "outputs": [
        {
          "output_type": "stream",
          "name": "stdout",
          "text": [
            "Предсказанное: [[-3.7461715]] , правильное: -3\n"
          ]
        }
      ]
    },
    {
      "cell_type": "code",
      "source": [
        "pred2 = model.predict(x_train)"
      ],
      "metadata": {
        "id": "KDHNH-53Kl_w"
      },
      "execution_count": null,
      "outputs": []
    },
    {
      "cell_type": "code",
      "source": [
        "from mpl_toolkits.mplot3d import Axes3D\n",
        "\n",
        "x = np.array([i[0] for i in x_train])\n",
        "z = np.array([i[1] for i in x_train])\n",
        "y1 = np.array(y)\n",
        "#y1 = np.array([i[2] for i in x_train])\n",
        "\n",
        "fig = plt.figure()\n",
        "ax = fig.add_subplot(111, projection='3d')\n",
        "ax.scatter(x, y1, z, label='parametric curve')\n"
      ],
      "metadata": {
        "colab": {
          "base_uri": "https://localhost:8080/",
          "height": 266
        },
        "id": "HeUwYfGGKHca",
        "outputId": "4bc19796-529a-4ecc-acb0-bf045d9b6db1"
      },
      "execution_count": null,
      "outputs": [
        {
          "output_type": "execute_result",
          "data": {
            "text/plain": [
              "<mpl_toolkits.mplot3d.art3d.Path3DCollection at 0x7f979c0790d0>"
            ]
          },
          "metadata": {},
          "execution_count": 19
        },
        {
          "output_type": "display_data",
          "data": {
            "text/plain": [
              "<Figure size 432x288 with 1 Axes>"
            ],
            "image/png": "[encoded data removed]"
          },
          "metadata": {
            "needs_background": "light"
          }
        }
      ]
    },
    {
      "cell_type": "code",
      "source": [
        ""
      ],
      "metadata": {
        "id": "JVU0zlJSY5Oz"
      },
      "execution_count": null,
      "outputs": []
    }
  ]
}