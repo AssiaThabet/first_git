{
  "cells": [
    {
      "cell_type": "markdown",
      "metadata": {
        "id": "view-in-github",
        "colab_type": "text"
      },
      "source": [
        "<a href=\"https://colab.research.google.com/github/AssiaThabet/first_git/blob/main/first_linear_regretion.ipynb\" target=\"_parent\"><img src=\"https://colab.research.google.com/assets/colab-badge.svg\" alt=\"Open In Colab\"/></a>"
      ]
    },
    {
      "cell_type": "markdown",
      "id": "4adc0086",
      "metadata": {
        "id": "4adc0086"
      },
      "source": [
        "## Линейная регрессия с помощью Scikit-Learn в Python\n",
        "Источник: https://tonais.ru/library/lineynaya-regressiya-s-pomoschyu-scikit-learn-v-python"
      ]
    },
    {
      "cell_type": "markdown",
      "id": "34cc9c73",
      "metadata": {
        "id": "34cc9c73"
      },
      "source": [
        "### Это моя первая модель машинного обучения, она будет создана на основе лёгких данных, с помоющи линейной регрессии. "
      ]
    },
    {
      "cell_type": "code",
      "execution_count": null,
      "id": "38cab30f",
      "metadata": {
        "id": "38cab30f"
      },
      "outputs": [],
      "source": [
        "#импорт библиотек\n",
        "import pandas as pd \n",
        "import numpy as np \n",
        "import matplotlib.pyplot as plt \n",
        "%matplotlib inline\n"
      ]
    },
    {
      "cell_type": "code",
      "execution_count": null,
      "id": "38d8ce69",
      "metadata": {
        "id": "38d8ce69",
        "outputId": "d5173a9a-5109-4622-ff8a-1bd6ead9acf8"
      },
      "outputs": [
        {
          "data": {
            "text/html": [
              "<div>\n",
              "<style scoped>\n",
              "    .dataframe tbody tr th:only-of-type {\n",
              "        vertical-align: middle;\n",
              "    }\n",
              "\n",
              "    .dataframe tbody tr th {\n",
              "        vertical-align: top;\n",
              "    }\n",
              "\n",
              "    .dataframe thead th {\n",
              "        text-align: right;\n",
              "    }\n",
              "</style>\n",
              "<table border=\"1\" class=\"dataframe\">\n",
              "  <thead>\n",
              "    <tr style=\"text-align: right;\">\n",
              "      <th></th>\n",
              "      <th>Hours</th>\n",
              "      <th>Scores</th>\n",
              "    </tr>\n",
              "  </thead>\n",
              "  <tbody>\n",
              "    <tr>\n",
              "      <th>0</th>\n",
              "      <td>2.5</td>\n",
              "      <td>21</td>\n",
              "    </tr>\n",
              "    <tr>\n",
              "      <th>1</th>\n",
              "      <td>5.1</td>\n",
              "      <td>47</td>\n",
              "    </tr>\n",
              "    <tr>\n",
              "      <th>2</th>\n",
              "      <td>3.2</td>\n",
              "      <td>27</td>\n",
              "    </tr>\n",
              "    <tr>\n",
              "      <th>3</th>\n",
              "      <td>8.5</td>\n",
              "      <td>75</td>\n",
              "    </tr>\n",
              "    <tr>\n",
              "      <th>4</th>\n",
              "      <td>3.5</td>\n",
              "      <td>30</td>\n",
              "    </tr>\n",
              "  </tbody>\n",
              "</table>\n",
              "</div>"
            ],
            "text/plain": [
              "   Hours  Scores\n",
              "0    2.5      21\n",
              "1    5.1      47\n",
              "2    3.2      27\n",
              "3    8.5      75\n",
              "4    3.5      30"
            ]
          },
          "execution_count": 6,
          "metadata": {},
          "output_type": "execute_result"
        }
      ],
      "source": [
        "# импорт данных\n",
        "dataset = pd.read_csv('student_scores - student_scores.csv')\n",
        "dataset.head()"
      ]
    },
    {
      "cell_type": "code",
      "execution_count": null,
      "id": "017e55f6",
      "metadata": {
        "id": "017e55f6",
        "outputId": "331f7757-7fe6-452b-82f9-108d51856b9e"
      },
      "outputs": [
        {
          "data": {
            "text/plain": [
              "(25, 2)"
            ]
          },
          "execution_count": 7,
          "metadata": {},
          "output_type": "execute_result"
        }
      ],
      "source": [
        "dataset.shape"
      ]
    },
    {
      "cell_type": "markdown",
      "id": "12c07237",
      "metadata": {
        "id": "12c07237"
      },
      "source": [
        "### Чтобы увидеть статистические детали набора данных, мы можем использовать description():"
      ]
    },
    {
      "cell_type": "code",
      "execution_count": null,
      "id": "c25c87a1",
      "metadata": {
        "id": "c25c87a1",
        "outputId": "eb605f49-8b88-4749-e0eb-1a8f0a88e907"
      },
      "outputs": [
        {
          "data": {
            "text/html": [
              "<div>\n",
              "<style scoped>\n",
              "    .dataframe tbody tr th:only-of-type {\n",
              "        vertical-align: middle;\n",
              "    }\n",
              "\n",
              "    .dataframe tbody tr th {\n",
              "        vertical-align: top;\n",
              "    }\n",
              "\n",
              "    .dataframe thead th {\n",
              "        text-align: right;\n",
              "    }\n",
              "</style>\n",
              "<table border=\"1\" class=\"dataframe\">\n",
              "  <thead>\n",
              "    <tr style=\"text-align: right;\">\n",
              "      <th></th>\n",
              "      <th>Hours</th>\n",
              "      <th>Scores</th>\n",
              "    </tr>\n",
              "  </thead>\n",
              "  <tbody>\n",
              "    <tr>\n",
              "      <th>count</th>\n",
              "      <td>25.000000</td>\n",
              "      <td>25.000000</td>\n",
              "    </tr>\n",
              "    <tr>\n",
              "      <th>mean</th>\n",
              "      <td>5.012000</td>\n",
              "      <td>51.480000</td>\n",
              "    </tr>\n",
              "    <tr>\n",
              "      <th>std</th>\n",
              "      <td>2.525094</td>\n",
              "      <td>25.286887</td>\n",
              "    </tr>\n",
              "    <tr>\n",
              "      <th>min</th>\n",
              "      <td>1.100000</td>\n",
              "      <td>17.000000</td>\n",
              "    </tr>\n",
              "    <tr>\n",
              "      <th>25%</th>\n",
              "      <td>2.700000</td>\n",
              "      <td>30.000000</td>\n",
              "    </tr>\n",
              "    <tr>\n",
              "      <th>50%</th>\n",
              "      <td>4.800000</td>\n",
              "      <td>47.000000</td>\n",
              "    </tr>\n",
              "    <tr>\n",
              "      <th>75%</th>\n",
              "      <td>7.400000</td>\n",
              "      <td>75.000000</td>\n",
              "    </tr>\n",
              "    <tr>\n",
              "      <th>max</th>\n",
              "      <td>9.200000</td>\n",
              "      <td>95.000000</td>\n",
              "    </tr>\n",
              "  </tbody>\n",
              "</table>\n",
              "</div>"
            ],
            "text/plain": [
              "           Hours     Scores\n",
              "count  25.000000  25.000000\n",
              "mean    5.012000  51.480000\n",
              "std     2.525094  25.286887\n",
              "min     1.100000  17.000000\n",
              "25%     2.700000  30.000000\n",
              "50%     4.800000  47.000000\n",
              "75%     7.400000  75.000000\n",
              "max     9.200000  95.000000"
            ]
          },
          "execution_count": 8,
          "metadata": {},
          "output_type": "execute_result"
        }
      ],
      "source": [
        "dataset.describe()"
      ]
    },
    {
      "cell_type": "markdown",
      "id": "0bea4e61",
      "metadata": {
        "id": "0bea4e61"
      },
      "source": [
        "### давайте нарисуем наши точки данных на двухмерном графике. \n"
      ]
    },
    {
      "cell_type": "code",
      "execution_count": null,
      "id": "4aea3673",
      "metadata": {
        "id": "4aea3673",
        "outputId": "ce009c2b-3596-4c16-f25d-3005e24f57d0"
      },
      "outputs": [
        {
          "data": {
            "image/png": "[encoded data removed]",
            "text/plain": [
              "<Figure size 432x288 with 1 Axes>"
            ]
          },
          "metadata": {
            "needs_background": "light"
          },
          "output_type": "display_data"
        }
      ],
      "source": [
        "dataset.plot(x='Hours', y='Scores', style='o') \n",
        "plt.title('Hours vs Percentage') \n",
        "plt.xlabel('Hours Studied') \n",
        "plt.ylabel('Percentage Score') \n",
        "plt.show()\n",
        "''"
      ]
    },
    {
      "cell_type": "markdown",
      "id": "755a6e06",
      "metadata": {
        "id": "755a6e06"
      },
      "source": [
        "### Подготовка данных\n"
      ]
    },
    {
      "cell_type": "markdown",
      "id": "376bc9b6",
      "metadata": {
        "id": "376bc9b6"
      },
      "source": [
        "Следующим шагом является разделение данных на «атрибуты» и «метки». Атрибуты – это независимые переменные, а метки – это зависимые переменные, значения которых должны быть предсказаны. Мы хотим предсказать процентную оценку в зависимости от изученных часов. Поэтому наш набор атрибутов будет состоять из столбца «Часы», а меткой будет столбец «Оценка».\n"
      ]
    },
    {
      "cell_type": "code",
      "execution_count": null,
      "id": "de88c74e",
      "metadata": {
        "id": "de88c74e"
      },
      "outputs": [],
      "source": [
        "X = dataset.iloc[:, :-1].values \n",
        "y = dataset.iloc[:, 1].values\n",
        "\n",
        "# для этого используем iloc"
      ]
    },
    {
      "cell_type": "markdown",
      "id": "c228d90f",
      "metadata": {
        "id": "c228d90f"
      },
      "source": [
        "Теперь, когда у нас есть атрибуты и метки, следующим шагом будет разделение этих данных на обучающий и тестовый наборы. Мы сделаем это с помощью встроенного в Scikit-Learn метода:\n",
        "#### train_test_split():\n"
      ]
    },
    {
      "cell_type": "code",
      "execution_count": null,
      "id": "01e4366d",
      "metadata": {
        "id": "01e4366d"
      },
      "outputs": [],
      "source": [
        "from sklearn.model_selection import train_test_split \n",
        "X_train, X_test, y_train, y_test = train_test_split(X, y, test_size=0.2, random_state=0)\n",
        "# разделяет 80% данных на обучающий набор, а 20% данных – на набор тестов. \n",
        "#Переменная test_size -–это то место, где мы фактически указываем пропорцию набора тестов.\n"
      ]
    },
    {
      "cell_type": "code",
      "execution_count": null,
      "id": "1812f2d9",
      "metadata": {
        "id": "1812f2d9",
        "outputId": "afe580e2-96e0-4275-dce9-528c8cd1caca"
      },
      "outputs": [
        {
          "data": {
            "text/plain": [
              "LinearRegression()"
            ]
          },
          "execution_count": 13,
          "metadata": {},
          "output_type": "execute_result"
        }
      ],
      "source": [
        "from sklearn.linear_model import LinearRegression # импорт инейной модели\n",
        "regressor = LinearRegression() # создание модели машинного обучения\n",
        "regressor.fit(X_train, y_train) # тренировка модели с данными\n"
      ]
    },
    {
      "cell_type": "markdown",
      "id": "ea2132d1",
      "metadata": {
        "id": "ea2132d1"
      },
      "source": [
        "Чтобы увидеть значение точки пересечения и наклона, вычисленное алгоритмом линейной регрессии для нашего набора данных, выполните следующий код.\n"
      ]
    },
    {
      "cell_type": "code",
      "execution_count": null,
      "id": "47711db2",
      "metadata": {
        "id": "47711db2",
        "outputId": "c3af9aba-5f24-4671-c3bf-2f4c5a5880c9"
      },
      "outputs": [
        {
          "name": "stdout",
          "output_type": "stream",
          "text": [
            "2.018160041434683\n"
          ]
        }
      ],
      "source": [
        "#Чтобы получить перехват:\n",
        "\n",
        "print(regressor.intercept_)"
      ]
    },
    {
      "cell_type": "code",
      "execution_count": null,
      "id": "3c38bb80",
      "metadata": {
        "id": "3c38bb80",
        "outputId": "8550d49b-e837-49b2-c352-64623841dd5e"
      },
      "outputs": [
        {
          "name": "stdout",
          "output_type": "stream",
          "text": [
            "[9.91065648]\n"
          ]
        }
      ],
      "source": [
        "#Для получения наклона (коэффициента x): \n",
        "print(regressor.coef_)\n"
      ]
    },
    {
      "cell_type": "markdown",
      "id": "c2d2e47b",
      "metadata": {
        "id": "c2d2e47b"
      },
      "source": [
        "Это означает, что на каждую единицу изменения в изученных часах изменение оценки составляет около 9,91%. Или, проще говоря, если студент учится на один час больше, чем готовился к экзамену ранее, он может рассчитывать на повышение на 9,91% баллов, полученных студентом ранее.\n"
      ]
    },
    {
      "cell_type": "markdown",
      "id": "a0fb46a5",
      "metadata": {
        "id": "a0fb46a5"
      },
      "source": [
        "### Прогнозы \n",
        "Теперь, когда мы обучили наш алгоритм, пришло время сделать некоторые прогнозы. Для этого мы воспользуемся нашими тестовыми данными и посмотрим, насколько точно наш алгоритм предсказывает процентную оценку.\n"
      ]
    },
    {
      "cell_type": "code",
      "execution_count": null,
      "id": "248a1f02",
      "metadata": {
        "id": "248a1f02"
      },
      "outputs": [],
      "source": [
        "y_pred = regressor.predict(X_test)"
      ]
    },
    {
      "cell_type": "code",
      "execution_count": null,
      "id": "c43852bf",
      "metadata": {
        "id": "c43852bf",
        "outputId": "af31bae1-90c0-486f-ca42-d4b6ea552a44"
      },
      "outputs": [
        {
          "data": {
            "text/html": [
              "<div>\n",
              "<style scoped>\n",
              "    .dataframe tbody tr th:only-of-type {\n",
              "        vertical-align: middle;\n",
              "    }\n",
              "\n",
              "    .dataframe tbody tr th {\n",
              "        vertical-align: top;\n",
              "    }\n",
              "\n",
              "    .dataframe thead th {\n",
              "        text-align: right;\n",
              "    }\n",
              "</style>\n",
              "<table border=\"1\" class=\"dataframe\">\n",
              "  <thead>\n",
              "    <tr style=\"text-align: right;\">\n",
              "      <th></th>\n",
              "      <th>Actual</th>\n",
              "      <th>Predicted</th>\n",
              "    </tr>\n",
              "  </thead>\n",
              "  <tbody>\n",
              "    <tr>\n",
              "      <th>0</th>\n",
              "      <td>20</td>\n",
              "      <td>16.884145</td>\n",
              "    </tr>\n",
              "    <tr>\n",
              "      <th>1</th>\n",
              "      <td>27</td>\n",
              "      <td>33.732261</td>\n",
              "    </tr>\n",
              "    <tr>\n",
              "      <th>2</th>\n",
              "      <td>69</td>\n",
              "      <td>75.357018</td>\n",
              "    </tr>\n",
              "    <tr>\n",
              "      <th>3</th>\n",
              "      <td>30</td>\n",
              "      <td>26.794801</td>\n",
              "    </tr>\n",
              "    <tr>\n",
              "      <th>4</th>\n",
              "      <td>62</td>\n",
              "      <td>60.491033</td>\n",
              "    </tr>\n",
              "  </tbody>\n",
              "</table>\n",
              "</div>"
            ],
            "text/plain": [
              "   Actual  Predicted\n",
              "0      20  16.884145\n",
              "1      27  33.732261\n",
              "2      69  75.357018\n",
              "3      30  26.794801\n",
              "4      62  60.491033"
            ]
          },
          "execution_count": 17,
          "metadata": {},
          "output_type": "execute_result"
        }
      ],
      "source": [
        "# сделаем таблицу, с правильными значениями и значениями, которые мы получили\n",
        "df = pd.DataFrame({'Actual': y_test, 'Predicted': y_pred}) \n",
        "df"
      ]
    },
    {
      "cell_type": "markdown",
      "id": "9eda767d",
      "metadata": {
        "id": "9eda767d"
      },
      "source": [
        "Хотя модель не очень точна, прогнозируемые проценты близки к фактическим."
      ]
    },
    {
      "cell_type": "markdown",
      "id": "67a7c66a",
      "metadata": {
        "id": "67a7c66a"
      },
      "source": [
        "### Оценка алгоритма\n"
      ]
    },
    {
      "cell_type": "markdown",
      "id": "3c31051a",
      "metadata": {
        "id": "3c31051a"
      },
      "source": [
        "Средняя абсолютная ошибка (MAE) – это среднее абсолютное значение ошибок.(статистика)\n",
        "\n"
      ]
    },
    {
      "cell_type": "code",
      "execution_count": null,
      "id": "f026564e",
      "metadata": {
        "id": "f026564e",
        "outputId": "d7cba354-7103-4722-bbbb-b10a595ba538"
      },
      "outputs": [
        {
          "data": {
            "image/png": "[encoded data removed]",
            "text/plain": [
              "<IPython.core.display.Image object>"
            ]
          },
          "execution_count": 19,
          "metadata": {
            "image/png": {
              "height": 400,
              "width": 400
            }
          },
          "output_type": "execute_result"
        }
      ],
      "source": [
        "from IPython.display import Image\n",
        "Image(\"MAE.png\", height = 400, width = 400)"
      ]
    },
    {
      "cell_type": "markdown",
      "id": "907ea395",
      "metadata": {
        "id": "907ea395"
      },
      "source": [
        "Среднеквадратичная ошибка (MSE) – это среднее значение квадратов ошибок, которое рассчитывается как:\n"
      ]
    },
    {
      "cell_type": "code",
      "execution_count": null,
      "id": "46ad2f9a",
      "metadata": {
        "id": "46ad2f9a",
        "outputId": "9e66b61e-776e-4c47-c1d4-8b92900a31a6"
      },
      "outputs": [
        {
          "data": {
            "image/png": "[encoded data removed]",
            "text/plain": [
              "<IPython.core.display.Image object>"
            ]
          },
          "execution_count": 20,
          "metadata": {
            "image/png": {
              "height": 400,
              "width": 400
            }
          },
          "output_type": "execute_result"
        }
      ],
      "source": [
        "from IPython.display import Image\n",
        "Image(\"MSE.png\", height = 400, width = 400)"
      ]
    },
    {
      "cell_type": "markdown",
      "id": "304a0011",
      "metadata": {
        "id": "304a0011"
      },
      "source": [
        "Среднеквадратичная ошибка (RMSE) – это квадратный корень из среднего квадрата ошибок:"
      ]
    },
    {
      "cell_type": "code",
      "execution_count": null,
      "id": "3063bae6",
      "metadata": {
        "id": "3063bae6",
        "outputId": "b6aa222d-c371-4b49-d29e-89101c682b96"
      },
      "outputs": [
        {
          "data": {
            "image/png": "[encoded data removed]",
            "text/plain": [
              "<IPython.core.display.Image object>"
            ]
          },
          "execution_count": 21,
          "metadata": {
            "image/png": {
              "height": 400,
              "width": 400
            }
          },
          "output_type": "execute_result"
        }
      ],
      "source": [
        "from IPython.display import Image\n",
        "Image(\"RMSE.png\", height = 400, width = 400)"
      ]
    },
    {
      "cell_type": "markdown",
      "id": "57341359",
      "metadata": {
        "id": "57341359"
      },
      "source": [
        "Давайте найдем значения этих показателей, используя наши тестовые данные"
      ]
    },
    {
      "cell_type": "code",
      "execution_count": null,
      "id": "24282641",
      "metadata": {
        "id": "24282641",
        "outputId": "d1262126-4a1d-413c-e1e8-a7cd2c5f73d1"
      },
      "outputs": [
        {
          "name": "stdout",
          "output_type": "stream",
          "text": [
            "Mean Absolute Error: 4.183859899002975\n",
            "Mean Squared Error: 21.5987693072174\n",
            "Root Mean Squared Error: 4.6474476121003665\n"
          ]
        }
      ],
      "source": [
        "from sklearn import metrics # импорт\n",
        "print('Mean Absolute Error:', metrics.mean_absolute_error(y_test, y_pred)) #MAE\n",
        "print('Mean Squared Error:', metrics.mean_squared_error(y_test, y_pred)) # MSE\n",
        "print('Root Mean Squared Error:', np.sqrt(metrics.mean_squared_error(y_test, y_pred))) # RMSE"
      ]
    },
    {
      "cell_type": "code",
      "execution_count": null,
      "id": "329af188",
      "metadata": {
        "id": "329af188"
      },
      "outputs": [],
      "source": [
        ""
      ]
    }
  ],
  "metadata": {
    "kernelspec": {
      "display_name": "Python 3 (ipykernel)",
      "language": "python",
      "name": "python3"
    },
    "language_info": {
      "codemirror_mode": {
        "name": "ipython",
        "version": 3
      },
      "file_extension": ".py",
      "mimetype": "text/x-python",
      "name": "python",
      "nbconvert_exporter": "python",
      "pygments_lexer": "ipython3",
      "version": "3.9.7"
    },
    "colab": {
      "name": "first_linear_regretion.ipynb",
      "provenance": [],
      "include_colab_link": true
    }
  },
  "nbformat": 4,
  "nbformat_minor": 5
}