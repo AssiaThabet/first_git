{
  "cells": [
    {
      "cell_type": "markdown",
      "metadata": {
        "id": "view-in-github",
        "colab_type": "text"
      },
      "source": [
        "<a href=\"https://colab.research.google.com/github/AssiaThabet/first_git/blob/main/practic.ipynb\" target=\"_parent\"><img src=\"https://colab.research.google.com/assets/colab-badge.svg\" alt=\"Open In Colab\"/></a>"
      ]
    },
    {
      "cell_type": "markdown",
      "id": "28519f10",
      "metadata": {
        "id": "28519f10"
      },
      "source": [
        "Пробую самостоятельно создать модель классического машинного обучения"
      ]
    },
    {
      "cell_type": "code",
      "execution_count": null,
      "id": "f14a3799",
      "metadata": {
        "id": "f14a3799",
        "outputId": "7a360ae4-ed17-4527-d8a7-918e0648ee6d"
      },
      "outputs": [
        {
          "data": {
            "text/html": [
              "<div>\n",
              "<style scoped>\n",
              "    .dataframe tbody tr th:only-of-type {\n",
              "        vertical-align: middle;\n",
              "    }\n",
              "\n",
              "    .dataframe tbody tr th {\n",
              "        vertical-align: top;\n",
              "    }\n",
              "\n",
              "    .dataframe thead th {\n",
              "        text-align: right;\n",
              "    }\n",
              "</style>\n",
              "<table border=\"1\" class=\"dataframe\">\n",
              "  <thead>\n",
              "    <tr style=\"text-align: right;\">\n",
              "      <th></th>\n",
              "      <th>video_id</th>\n",
              "      <th>trending_date</th>\n",
              "      <th>title</th>\n",
              "      <th>channel_title</th>\n",
              "      <th>category_id</th>\n",
              "      <th>publish_time</th>\n",
              "      <th>tags</th>\n",
              "      <th>views</th>\n",
              "      <th>likes</th>\n",
              "      <th>dislikes</th>\n",
              "      <th>comment_count</th>\n",
              "      <th>thumbnail_link</th>\n",
              "      <th>comments_disabled</th>\n",
              "      <th>ratings_disabled</th>\n",
              "      <th>video_error_or_removed</th>\n",
              "      <th>description</th>\n",
              "    </tr>\n",
              "  </thead>\n",
              "  <tbody>\n",
              "    <tr>\n",
              "      <th>0</th>\n",
              "      <td>n1WpP7iowLc</td>\n",
              "      <td>17.14.11</td>\n",
              "      <td>Eminem - Walk On Water (Audio) ft. Beyoncé</td>\n",
              "      <td>EminemVEVO</td>\n",
              "      <td>10</td>\n",
              "      <td>2017-11-10T17:00:03.000Z</td>\n",
              "      <td>Eminem|\"Walk\"|\"On\"|\"Water\"|\"Aftermath/Shady/In...</td>\n",
              "      <td>17158579</td>\n",
              "      <td>787425</td>\n",
              "      <td>43420</td>\n",
              "      <td>125882</td>\n",
              "      <td>https://i.ytimg.com/vi/n1WpP7iowLc/default.jpg</td>\n",
              "      <td>False</td>\n",
              "      <td>False</td>\n",
              "      <td>False</td>\n",
              "      <td>Eminem's new track Walk on Water ft. Beyoncé i...</td>\n",
              "    </tr>\n",
              "    <tr>\n",
              "      <th>1</th>\n",
              "      <td>0dBIkQ4Mz1M</td>\n",
              "      <td>17.14.11</td>\n",
              "      <td>PLUSH - Bad Unboxing Fan Mail</td>\n",
              "      <td>iDubbbzTV</td>\n",
              "      <td>23</td>\n",
              "      <td>2017-11-13T17:00:00.000Z</td>\n",
              "      <td>plush|\"bad unboxing\"|\"unboxing\"|\"fan mail\"|\"id...</td>\n",
              "      <td>1014651</td>\n",
              "      <td>127794</td>\n",
              "      <td>1688</td>\n",
              "      <td>13030</td>\n",
              "      <td>https://i.ytimg.com/vi/0dBIkQ4Mz1M/default.jpg</td>\n",
              "      <td>False</td>\n",
              "      <td>False</td>\n",
              "      <td>False</td>\n",
              "      <td>STill got a lot of packages. Probably will las...</td>\n",
              "    </tr>\n",
              "    <tr>\n",
              "      <th>2</th>\n",
              "      <td>5qpjK5DgCt4</td>\n",
              "      <td>17.14.11</td>\n",
              "      <td>Racist Superman | Rudy Mancuso, King Bach &amp; Le...</td>\n",
              "      <td>Rudy Mancuso</td>\n",
              "      <td>23</td>\n",
              "      <td>2017-11-12T19:05:24.000Z</td>\n",
              "      <td>racist superman|\"rudy\"|\"mancuso\"|\"king\"|\"bach\"...</td>\n",
              "      <td>3191434</td>\n",
              "      <td>146035</td>\n",
              "      <td>5339</td>\n",
              "      <td>8181</td>\n",
              "      <td>https://i.ytimg.com/vi/5qpjK5DgCt4/default.jpg</td>\n",
              "      <td>False</td>\n",
              "      <td>False</td>\n",
              "      <td>False</td>\n",
              "      <td>WATCH MY PREVIOUS VIDEO ▶ \\n\\nSUBSCRIBE ► http...</td>\n",
              "    </tr>\n",
              "    <tr>\n",
              "      <th>3</th>\n",
              "      <td>d380meD0W0M</td>\n",
              "      <td>17.14.11</td>\n",
              "      <td>I Dare You: GOING BALD!?</td>\n",
              "      <td>nigahiga</td>\n",
              "      <td>24</td>\n",
              "      <td>2017-11-12T18:01:41.000Z</td>\n",
              "      <td>ryan|\"higa\"|\"higatv\"|\"nigahiga\"|\"i dare you\"|\"...</td>\n",
              "      <td>2095828</td>\n",
              "      <td>132239</td>\n",
              "      <td>1989</td>\n",
              "      <td>17518</td>\n",
              "      <td>https://i.ytimg.com/vi/d380meD0W0M/default.jpg</td>\n",
              "      <td>False</td>\n",
              "      <td>False</td>\n",
              "      <td>False</td>\n",
              "      <td>I know it's been a while since we did this sho...</td>\n",
              "    </tr>\n",
              "    <tr>\n",
              "      <th>4</th>\n",
              "      <td>2Vv-BfVoq4g</td>\n",
              "      <td>17.14.11</td>\n",
              "      <td>Ed Sheeran - Perfect (Official Music Video)</td>\n",
              "      <td>Ed Sheeran</td>\n",
              "      <td>10</td>\n",
              "      <td>2017-11-09T11:04:14.000Z</td>\n",
              "      <td>edsheeran|\"ed sheeran\"|\"acoustic\"|\"live\"|\"cove...</td>\n",
              "      <td>33523622</td>\n",
              "      <td>1634130</td>\n",
              "      <td>21082</td>\n",
              "      <td>85067</td>\n",
              "      <td>https://i.ytimg.com/vi/2Vv-BfVoq4g/default.jpg</td>\n",
              "      <td>False</td>\n",
              "      <td>False</td>\n",
              "      <td>False</td>\n",
              "      <td>🎧: https://ad.gt/yt-perfect\\n💰: https://atlant...</td>\n",
              "    </tr>\n",
              "  </tbody>\n",
              "</table>\n",
              "</div>"
            ],
            "text/plain": [
              "      video_id trending_date  \\\n",
              "0  n1WpP7iowLc      17.14.11   \n",
              "1  0dBIkQ4Mz1M      17.14.11   \n",
              "2  5qpjK5DgCt4      17.14.11   \n",
              "3  d380meD0W0M      17.14.11   \n",
              "4  2Vv-BfVoq4g      17.14.11   \n",
              "\n",
              "                                               title channel_title  \\\n",
              "0         Eminem - Walk On Water (Audio) ft. Beyoncé    EminemVEVO   \n",
              "1                      PLUSH - Bad Unboxing Fan Mail     iDubbbzTV   \n",
              "2  Racist Superman | Rudy Mancuso, King Bach & Le...  Rudy Mancuso   \n",
              "3                           I Dare You: GOING BALD!?      nigahiga   \n",
              "4        Ed Sheeran - Perfect (Official Music Video)    Ed Sheeran   \n",
              "\n",
              "   category_id              publish_time  \\\n",
              "0           10  2017-11-10T17:00:03.000Z   \n",
              "1           23  2017-11-13T17:00:00.000Z   \n",
              "2           23  2017-11-12T19:05:24.000Z   \n",
              "3           24  2017-11-12T18:01:41.000Z   \n",
              "4           10  2017-11-09T11:04:14.000Z   \n",
              "\n",
              "                                                tags     views    likes  \\\n",
              "0  Eminem|\"Walk\"|\"On\"|\"Water\"|\"Aftermath/Shady/In...  17158579   787425   \n",
              "1  plush|\"bad unboxing\"|\"unboxing\"|\"fan mail\"|\"id...   1014651   127794   \n",
              "2  racist superman|\"rudy\"|\"mancuso\"|\"king\"|\"bach\"...   3191434   146035   \n",
              "3  ryan|\"higa\"|\"higatv\"|\"nigahiga\"|\"i dare you\"|\"...   2095828   132239   \n",
              "4  edsheeran|\"ed sheeran\"|\"acoustic\"|\"live\"|\"cove...  33523622  1634130   \n",
              "\n",
              "   dislikes  comment_count                                  thumbnail_link  \\\n",
              "0     43420         125882  https://i.ytimg.com/vi/n1WpP7iowLc/default.jpg   \n",
              "1      1688          13030  https://i.ytimg.com/vi/0dBIkQ4Mz1M/default.jpg   \n",
              "2      5339           8181  https://i.ytimg.com/vi/5qpjK5DgCt4/default.jpg   \n",
              "3      1989          17518  https://i.ytimg.com/vi/d380meD0W0M/default.jpg   \n",
              "4     21082          85067  https://i.ytimg.com/vi/2Vv-BfVoq4g/default.jpg   \n",
              "\n",
              "   comments_disabled  ratings_disabled  video_error_or_removed  \\\n",
              "0              False             False                   False   \n",
              "1              False             False                   False   \n",
              "2              False             False                   False   \n",
              "3              False             False                   False   \n",
              "4              False             False                   False   \n",
              "\n",
              "                                         description  \n",
              "0  Eminem's new track Walk on Water ft. Beyoncé i...  \n",
              "1  STill got a lot of packages. Probably will las...  \n",
              "2  WATCH MY PREVIOUS VIDEO ▶ \\n\\nSUBSCRIBE ► http...  \n",
              "3  I know it's been a while since we did this sho...  \n",
              "4  🎧: https://ad.gt/yt-perfect\\n💰: https://atlant...  "
            ]
          },
          "execution_count": 64,
          "metadata": {},
          "output_type": "execute_result"
        }
      ],
      "source": [
        "import pandas as pd\n",
        "df = pd.read_csv('CAvideos.csv')\n",
        "df.head()"
      ]
    },
    {
      "cell_type": "markdown",
      "id": "f0c4e75d",
      "metadata": {
        "id": "f0c4e75d"
      },
      "source": [
        "Я собираюсь посмотреть, насколько лайки зависят от просмотров. Я вижу в этом положительную карыляцию"
      ]
    },
    {
      "cell_type": "code",
      "execution_count": null,
      "id": "8ac109be",
      "metadata": {
        "id": "8ac109be",
        "outputId": "b4b62e17-a3c3-40f3-ce62-cac45a5a9a70"
      },
      "outputs": [
        {
          "data": {
            "image/png": "[encoded data removed]",
            "text/plain": [
              "<Figure size 432x288 with 1 Axes>"
            ]
          },
          "metadata": {
            "needs_background": "light"
          },
          "output_type": "display_data"
        }
      ],
      "source": [
        "import numpy as np \n",
        "import matplotlib.pyplot as plt \n",
        "%matplotlib inline\n",
        "df.plot(x='views', y='likes', style='o') \n",
        "plt.title('views vs likes') \n",
        "plt.xlabel('views') \n",
        "plt.ylabel('likes') \n",
        "plt.show()\n"
      ]
    },
    {
      "cell_type": "markdown",
      "id": "0a51370a",
      "metadata": {
        "id": "0a51370a"
      },
      "source": [
        "### Подготовк данных"
      ]
    },
    {
      "cell_type": "code",
      "execution_count": null,
      "id": "ba651c45",
      "metadata": {
        "id": "ba651c45"
      },
      "outputs": [],
      "source": [
        "df = df[['views', 'likes']]"
      ]
    },
    {
      "cell_type": "code",
      "execution_count": null,
      "id": "613158de",
      "metadata": {
        "id": "613158de"
      },
      "outputs": [],
      "source": [
        "# разделене на звисимые и независиые переменные\n",
        "X = df.iloc[:, :-1].values \n",
        "y = df.iloc[:, 1].values"
      ]
    },
    {
      "cell_type": "code",
      "execution_count": null,
      "id": "350e03ba",
      "metadata": {
        "id": "350e03ba"
      },
      "outputs": [],
      "source": [
        "from sklearn.model_selection import train_test_split \n",
        "X_train, X_test, y_train, y_test = train_test_split(X, y, test_size=0.2, random_state=0)"
      ]
    },
    {
      "cell_type": "code",
      "execution_count": null,
      "id": "835ea614",
      "metadata": {
        "id": "835ea614",
        "outputId": "eb1bff4e-2980-4634-a73d-a4a630a172d0"
      },
      "outputs": [
        {
          "data": {
            "text/plain": [
              "LinearRegression()"
            ]
          },
          "execution_count": 49,
          "metadata": {},
          "output_type": "execute_result"
        }
      ],
      "source": [
        "from sklearn.linear_model import LinearRegression # импорт инейной модели\n",
        "regressor = LinearRegression() # создание модели машинного обучения\n",
        "regressor.fit(X_train, y_train) # тренировка модели с данными"
      ]
    },
    {
      "cell_type": "markdown",
      "id": "ccc0f5b2",
      "metadata": {
        "id": "ccc0f5b2"
      },
      "source": [
        "### Прогнозы"
      ]
    },
    {
      "cell_type": "code",
      "execution_count": null,
      "id": "b33a6d8a",
      "metadata": {
        "id": "b33a6d8a"
      },
      "outputs": [],
      "source": [
        "y_pred = regressor.predict(X_test)"
      ]
    },
    {
      "cell_type": "code",
      "execution_count": null,
      "id": "114e25cf",
      "metadata": {
        "id": "114e25cf",
        "outputId": "9994b6a9-94fa-4d32-8642-bf62ff03b0e3"
      },
      "outputs": [
        {
          "data": {
            "image/png": "[encoded data removed]",
            "text/plain": [
              "<Figure size 432x288 with 1 Axes>"
            ]
          },
          "metadata": {
            "needs_background": "light"
          },
          "output_type": "display_data"
        }
      ],
      "source": [
        "def abline(slope, intercept):\n",
        "    \"\"\"Plot a line from slope and intercept\"\"\"\n",
        "    axes = plt.gca()\n",
        "    x_vals = np.array(axes.get_xlim())\n",
        "    y_vals = intercept + slope * x_vals\n",
        "    plt.plot(x_vals, y_vals, '--')\n",
        "df.plot(x='views', y='likes', style='o') \n",
        "abline(regressor.coef_, regressor.intercept_)\n",
        "# plt.title('views vs likes') \n",
        "# plt.xlabel('views') \n",
        "# plt.ylabel('likes') \n",
        "#plt.show()"
      ]
    },
    {
      "cell_type": "code",
      "execution_count": null,
      "id": "f39436f3",
      "metadata": {
        "id": "f39436f3",
        "outputId": "b9ece254-b170-43a2-b809-741bef983285"
      },
      "outputs": [
        {
          "data": {
            "text/html": [
              "<div>\n",
              "<style scoped>\n",
              "    .dataframe tbody tr th:only-of-type {\n",
              "        vertical-align: middle;\n",
              "    }\n",
              "\n",
              "    .dataframe tbody tr th {\n",
              "        vertical-align: top;\n",
              "    }\n",
              "\n",
              "    .dataframe thead th {\n",
              "        text-align: right;\n",
              "    }\n",
              "</style>\n",
              "<table border=\"1\" class=\"dataframe\">\n",
              "  <thead>\n",
              "    <tr style=\"text-align: right;\">\n",
              "      <th></th>\n",
              "      <th>Actual</th>\n",
              "      <th>Predicted</th>\n",
              "    </tr>\n",
              "  </thead>\n",
              "  <tbody>\n",
              "    <tr>\n",
              "      <th>0</th>\n",
              "      <td>10520</td>\n",
              "      <td>8445.007414</td>\n",
              "    </tr>\n",
              "    <tr>\n",
              "      <th>1</th>\n",
              "      <td>6799</td>\n",
              "      <td>8377.398575</td>\n",
              "    </tr>\n",
              "    <tr>\n",
              "      <th>2</th>\n",
              "      <td>15024</td>\n",
              "      <td>15441.643938</td>\n",
              "    </tr>\n",
              "    <tr>\n",
              "      <th>3</th>\n",
              "      <td>7783</td>\n",
              "      <td>43634.657271</td>\n",
              "    </tr>\n",
              "    <tr>\n",
              "      <th>4</th>\n",
              "      <td>36695</td>\n",
              "      <td>18955.802532</td>\n",
              "    </tr>\n",
              "    <tr>\n",
              "      <th>...</th>\n",
              "      <td>...</td>\n",
              "      <td>...</td>\n",
              "    </tr>\n",
              "    <tr>\n",
              "      <th>8172</th>\n",
              "      <td>16736</td>\n",
              "      <td>13666.472809</td>\n",
              "    </tr>\n",
              "    <tr>\n",
              "      <th>8173</th>\n",
              "      <td>4760</td>\n",
              "      <td>25952.630674</td>\n",
              "    </tr>\n",
              "    <tr>\n",
              "      <th>8174</th>\n",
              "      <td>1143</td>\n",
              "      <td>11171.269149</td>\n",
              "    </tr>\n",
              "    <tr>\n",
              "      <th>8175</th>\n",
              "      <td>15254</td>\n",
              "      <td>15887.440714</td>\n",
              "    </tr>\n",
              "    <tr>\n",
              "      <th>8176</th>\n",
              "      <td>8932</td>\n",
              "      <td>8871.450880</td>\n",
              "    </tr>\n",
              "  </tbody>\n",
              "</table>\n",
              "<p>8177 rows × 2 columns</p>\n",
              "</div>"
            ],
            "text/plain": [
              "      Actual     Predicted\n",
              "0      10520   8445.007414\n",
              "1       6799   8377.398575\n",
              "2      15024  15441.643938\n",
              "3       7783  43634.657271\n",
              "4      36695  18955.802532\n",
              "...      ...           ...\n",
              "8172   16736  13666.472809\n",
              "8173    4760  25952.630674\n",
              "8174    1143  11171.269149\n",
              "8175   15254  15887.440714\n",
              "8176    8932   8871.450880\n",
              "\n",
              "[8177 rows x 2 columns]"
            ]
          },
          "execution_count": 51,
          "metadata": {},
          "output_type": "execute_result"
        }
      ],
      "source": [
        "# сделаем таблицу, с правильными значениями и значениями, которые мы получили\n",
        "df = pd.DataFrame({'Actual': y_test, 'Predicted': y_pred}) \n",
        "df"
      ]
    },
    {
      "cell_type": "code",
      "execution_count": null,
      "id": "f15f410a",
      "metadata": {
        "id": "f15f410a",
        "outputId": "cadd8d57-f5d0-4691-b26b-e938b973a761"
      },
      "outputs": [
        {
          "name": "stdout",
          "output_type": "stream",
          "text": [
            "Mean Absolute Error: 24735.36133434123\n",
            "Mean Squared Error: 5940525407.358547\n",
            "Root Mean Squared Error: 77074.80397223562\n"
          ]
        }
      ],
      "source": [
        "from sklearn import metrics # импорт\n",
        "print('Mean Absolute Error:', metrics.mean_absolute_error(y_test, y_pred)) #MAE\n",
        "print('Mean Squared Error:', metrics.mean_squared_error(y_test, y_pred)) # MSE\n",
        "print('Root Mean Squared Error:', np.sqrt(metrics.mean_squared_error(y_test, y_pred))) # RMSE"
      ]
    },
    {
      "cell_type": "markdown",
      "id": "d16009a8",
      "metadata": {
        "id": "d16009a8"
      },
      "source": [
        "Я, конечно сильно ошиблась и модель получилась не очень, но всёравно."
      ]
    },
    {
      "cell_type": "code",
      "execution_count": null,
      "id": "fc5d78e8",
      "metadata": {
        "id": "fc5d78e8"
      },
      "outputs": [],
      "source": [
        ""
      ]
    }
  ],
  "metadata": {
    "kernelspec": {
      "display_name": "Python 3 (ipykernel)",
      "language": "python",
      "name": "python3"
    },
    "language_info": {
      "codemirror_mode": {
        "name": "ipython",
        "version": 3
      },
      "file_extension": ".py",
      "mimetype": "text/x-python",
      "name": "python",
      "nbconvert_exporter": "python",
      "pygments_lexer": "ipython3",
      "version": "3.9.7"
    },
    "colab": {
      "name": "practic.ipynb",
      "provenance": [],
      "include_colab_link": true
    }
  },
  "nbformat": 4,
  "nbformat_minor": 5
}